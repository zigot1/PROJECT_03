{
 "cells": [
  {
   "cell_type": "code",
   "execution_count": 101,
   "metadata": {},
   "outputs": [],
   "source": [
    "import pandas as pd\n",
    "import numpy as np"
   ]
  },
  {
   "cell_type": "markdown",
   "metadata": {},
   "source": [
    "# Import the data and assign description column to process"
   ]
  },
  {
   "cell_type": "code",
   "execution_count": 102,
   "metadata": {},
   "outputs": [],
   "source": [
    "csv = 'PI_NEWandOLD.csv'\n",
    "issues_df = pd.read_csv(csv, encoding='latin1')"
   ]
  },
  {
   "cell_type": "code",
   "execution_count": 103,
   "metadata": {},
   "outputs": [
    {
     "data": {
      "text/html": [
       "<div>\n",
       "<style scoped>\n",
       "    .dataframe tbody tr th:only-of-type {\n",
       "        vertical-align: middle;\n",
       "    }\n",
       "\n",
       "    .dataframe tbody tr th {\n",
       "        vertical-align: top;\n",
       "    }\n",
       "\n",
       "    .dataframe thead th {\n",
       "        text-align: right;\n",
       "    }\n",
       "</style>\n",
       "<table border=\"1\" class=\"dataframe\">\n",
       "  <thead>\n",
       "    <tr style=\"text-align: right;\">\n",
       "      <th></th>\n",
       "      <th>Unnamed: 0</th>\n",
       "      <th>project_id</th>\n",
       "      <th>name</th>\n",
       "      <th>job_number</th>\n",
       "      <th>type</th>\n",
       "      <th>value</th>\n",
       "      <th>city</th>\n",
       "      <th>state_or_province</th>\n",
       "      <th>postal_code</th>\n",
       "      <th>issue_type</th>\n",
       "      <th>issue_subtype</th>\n",
       "      <th>title</th>\n",
       "      <th>description</th>\n",
       "    </tr>\n",
       "  </thead>\n",
       "  <tbody>\n",
       "    <tr>\n",
       "      <td>0</td>\n",
       "      <td>0</td>\n",
       "      <td>01fa4f3a-9969-4069-a5b3-72fb630a0143</td>\n",
       "      <td>Gestamp</td>\n",
       "      <td>102601</td>\n",
       "      <td>Manufacturing / Factory</td>\n",
       "      <td>20549347.0</td>\n",
       "      <td>McCalla</td>\n",
       "      <td>AL</td>\n",
       "      <td>35111</td>\n",
       "      <td>Punch List : Pre-Punch List</td>\n",
       "      <td>NaN</td>\n",
       "      <td>NaN</td>\n",
       "      <td>Remove nails around dock angles.</td>\n",
       "    </tr>\n",
       "    <tr>\n",
       "      <td>1</td>\n",
       "      <td>1</td>\n",
       "      <td>01fa4f3a-9969-4069-a5b3-72fb630a0143</td>\n",
       "      <td>Gestamp</td>\n",
       "      <td>102601</td>\n",
       "      <td>Manufacturing / Factory</td>\n",
       "      <td>20549347.0</td>\n",
       "      <td>McCalla</td>\n",
       "      <td>AL</td>\n",
       "      <td>35111</td>\n",
       "      <td>Punch List : Pre-Punch List</td>\n",
       "      <td>NaN</td>\n",
       "      <td>NaN</td>\n",
       "      <td>Grind in a 3/4\" chamfer at all exterior corner...</td>\n",
       "    </tr>\n",
       "    <tr>\n",
       "      <td>2</td>\n",
       "      <td>2</td>\n",
       "      <td>01fa4f3a-9969-4069-a5b3-72fb630a0143</td>\n",
       "      <td>Gestamp</td>\n",
       "      <td>102601</td>\n",
       "      <td>Manufacturing / Factory</td>\n",
       "      <td>20549347.0</td>\n",
       "      <td>McCalla</td>\n",
       "      <td>AL</td>\n",
       "      <td>35111</td>\n",
       "      <td>Punch List : Architect Punch List</td>\n",
       "      <td>NaN</td>\n",
       "      <td>NaN</td>\n",
       "      <td>Install missing switch and data outlets</td>\n",
       "    </tr>\n",
       "    <tr>\n",
       "      <td>3</td>\n",
       "      <td>3</td>\n",
       "      <td>01fa4f3a-9969-4069-a5b3-72fb630a0143</td>\n",
       "      <td>Gestamp</td>\n",
       "      <td>102601</td>\n",
       "      <td>Manufacturing / Factory</td>\n",
       "      <td>20549347.0</td>\n",
       "      <td>McCalla</td>\n",
       "      <td>AL</td>\n",
       "      <td>35111</td>\n",
       "      <td>Punch List : Architect Punch List</td>\n",
       "      <td>NaN</td>\n",
       "      <td>NaN</td>\n",
       "      <td>Install cover plate on light switch</td>\n",
       "    </tr>\n",
       "    <tr>\n",
       "      <td>4</td>\n",
       "      <td>4</td>\n",
       "      <td>01fa4f3a-9969-4069-a5b3-72fb630a0143</td>\n",
       "      <td>Gestamp</td>\n",
       "      <td>102601</td>\n",
       "      <td>Manufacturing / Factory</td>\n",
       "      <td>20549347.0</td>\n",
       "      <td>McCalla</td>\n",
       "      <td>AL</td>\n",
       "      <td>35111</td>\n",
       "      <td>Punch List : Architect Punch List</td>\n",
       "      <td>NaN</td>\n",
       "      <td>NaN</td>\n",
       "      <td>Install base</td>\n",
       "    </tr>\n",
       "  </tbody>\n",
       "</table>\n",
       "</div>"
      ],
      "text/plain": [
       "   Unnamed: 0                            project_id     name job_number  \\\n",
       "0           0  01fa4f3a-9969-4069-a5b3-72fb630a0143  Gestamp     102601   \n",
       "1           1  01fa4f3a-9969-4069-a5b3-72fb630a0143  Gestamp     102601   \n",
       "2           2  01fa4f3a-9969-4069-a5b3-72fb630a0143  Gestamp     102601   \n",
       "3           3  01fa4f3a-9969-4069-a5b3-72fb630a0143  Gestamp     102601   \n",
       "4           4  01fa4f3a-9969-4069-a5b3-72fb630a0143  Gestamp     102601   \n",
       "\n",
       "                      type       value     city state_or_province postal_code  \\\n",
       "0  Manufacturing / Factory  20549347.0  McCalla                AL       35111   \n",
       "1  Manufacturing / Factory  20549347.0  McCalla                AL       35111   \n",
       "2  Manufacturing / Factory  20549347.0  McCalla                AL       35111   \n",
       "3  Manufacturing / Factory  20549347.0  McCalla                AL       35111   \n",
       "4  Manufacturing / Factory  20549347.0  McCalla                AL       35111   \n",
       "\n",
       "                          issue_type issue_subtype title  \\\n",
       "0        Punch List : Pre-Punch List           NaN   NaN   \n",
       "1        Punch List : Pre-Punch List           NaN   NaN   \n",
       "2  Punch List : Architect Punch List           NaN   NaN   \n",
       "3  Punch List : Architect Punch List           NaN   NaN   \n",
       "4  Punch List : Architect Punch List           NaN   NaN   \n",
       "\n",
       "                                         description  \n",
       "0                  Remove nails around dock angles.   \n",
       "1  Grind in a 3/4\" chamfer at all exterior corner...  \n",
       "2            Install missing switch and data outlets  \n",
       "3                Install cover plate on light switch  \n",
       "4                                       Install base  "
      ]
     },
     "execution_count": 103,
     "metadata": {},
     "output_type": "execute_result"
    }
   ],
   "source": [
    "issues_df.head()"
   ]
  },
  {
   "cell_type": "code",
   "execution_count": 104,
   "metadata": {},
   "outputs": [],
   "source": [
    "issues_df['description'] = issues_df['description'].fillna('').astype(str)\n",
    "issues_df['title'] = issues_df['title'].fillna('').astype(str)"
   ]
  },
  {
   "cell_type": "code",
   "execution_count": 105,
   "metadata": {},
   "outputs": [],
   "source": [
    "def description(row):\n",
    "    if len(row['description']) >= len(row['title']):\n",
    "        return row['description'] \n",
    "    if len(row['description']) < len(row['title']):\n",
    "        return row['title']"
   ]
  },
  {
   "cell_type": "code",
   "execution_count": 106,
   "metadata": {},
   "outputs": [],
   "source": [
    "issues_df['description']=issues_df.apply (lambda row: description(row), axis =1)"
   ]
  },
  {
   "cell_type": "code",
   "execution_count": 107,
   "metadata": {},
   "outputs": [
    {
     "data": {
      "text/html": [
       "<div>\n",
       "<style scoped>\n",
       "    .dataframe tbody tr th:only-of-type {\n",
       "        vertical-align: middle;\n",
       "    }\n",
       "\n",
       "    .dataframe tbody tr th {\n",
       "        vertical-align: top;\n",
       "    }\n",
       "\n",
       "    .dataframe thead th {\n",
       "        text-align: right;\n",
       "    }\n",
       "</style>\n",
       "<table border=\"1\" class=\"dataframe\">\n",
       "  <thead>\n",
       "    <tr style=\"text-align: right;\">\n",
       "      <th></th>\n",
       "      <th>Unnamed: 0</th>\n",
       "      <th>project_id</th>\n",
       "      <th>name</th>\n",
       "      <th>job_number</th>\n",
       "      <th>type</th>\n",
       "      <th>value</th>\n",
       "      <th>city</th>\n",
       "      <th>state_or_province</th>\n",
       "      <th>postal_code</th>\n",
       "      <th>issue_type</th>\n",
       "      <th>issue_subtype</th>\n",
       "      <th>title</th>\n",
       "      <th>description</th>\n",
       "    </tr>\n",
       "  </thead>\n",
       "  <tbody>\n",
       "    <tr>\n",
       "      <td>0</td>\n",
       "      <td>0</td>\n",
       "      <td>01fa4f3a-9969-4069-a5b3-72fb630a0143</td>\n",
       "      <td>Gestamp</td>\n",
       "      <td>102601</td>\n",
       "      <td>Manufacturing / Factory</td>\n",
       "      <td>20549347.0</td>\n",
       "      <td>McCalla</td>\n",
       "      <td>AL</td>\n",
       "      <td>35111</td>\n",
       "      <td>Punch List : Pre-Punch List</td>\n",
       "      <td>NaN</td>\n",
       "      <td></td>\n",
       "      <td>Remove nails around dock angles.</td>\n",
       "    </tr>\n",
       "    <tr>\n",
       "      <td>1</td>\n",
       "      <td>1</td>\n",
       "      <td>01fa4f3a-9969-4069-a5b3-72fb630a0143</td>\n",
       "      <td>Gestamp</td>\n",
       "      <td>102601</td>\n",
       "      <td>Manufacturing / Factory</td>\n",
       "      <td>20549347.0</td>\n",
       "      <td>McCalla</td>\n",
       "      <td>AL</td>\n",
       "      <td>35111</td>\n",
       "      <td>Punch List : Pre-Punch List</td>\n",
       "      <td>NaN</td>\n",
       "      <td></td>\n",
       "      <td>Grind in a 3/4\" chamfer at all exterior corner...</td>\n",
       "    </tr>\n",
       "    <tr>\n",
       "      <td>2</td>\n",
       "      <td>2</td>\n",
       "      <td>01fa4f3a-9969-4069-a5b3-72fb630a0143</td>\n",
       "      <td>Gestamp</td>\n",
       "      <td>102601</td>\n",
       "      <td>Manufacturing / Factory</td>\n",
       "      <td>20549347.0</td>\n",
       "      <td>McCalla</td>\n",
       "      <td>AL</td>\n",
       "      <td>35111</td>\n",
       "      <td>Punch List : Architect Punch List</td>\n",
       "      <td>NaN</td>\n",
       "      <td></td>\n",
       "      <td>Install missing switch and data outlets</td>\n",
       "    </tr>\n",
       "    <tr>\n",
       "      <td>3</td>\n",
       "      <td>3</td>\n",
       "      <td>01fa4f3a-9969-4069-a5b3-72fb630a0143</td>\n",
       "      <td>Gestamp</td>\n",
       "      <td>102601</td>\n",
       "      <td>Manufacturing / Factory</td>\n",
       "      <td>20549347.0</td>\n",
       "      <td>McCalla</td>\n",
       "      <td>AL</td>\n",
       "      <td>35111</td>\n",
       "      <td>Punch List : Architect Punch List</td>\n",
       "      <td>NaN</td>\n",
       "      <td></td>\n",
       "      <td>Install cover plate on light switch</td>\n",
       "    </tr>\n",
       "    <tr>\n",
       "      <td>4</td>\n",
       "      <td>4</td>\n",
       "      <td>01fa4f3a-9969-4069-a5b3-72fb630a0143</td>\n",
       "      <td>Gestamp</td>\n",
       "      <td>102601</td>\n",
       "      <td>Manufacturing / Factory</td>\n",
       "      <td>20549347.0</td>\n",
       "      <td>McCalla</td>\n",
       "      <td>AL</td>\n",
       "      <td>35111</td>\n",
       "      <td>Punch List : Architect Punch List</td>\n",
       "      <td>NaN</td>\n",
       "      <td></td>\n",
       "      <td>Install base</td>\n",
       "    </tr>\n",
       "    <tr>\n",
       "      <td>...</td>\n",
       "      <td>...</td>\n",
       "      <td>...</td>\n",
       "      <td>...</td>\n",
       "      <td>...</td>\n",
       "      <td>...</td>\n",
       "      <td>...</td>\n",
       "      <td>...</td>\n",
       "      <td>...</td>\n",
       "      <td>...</td>\n",
       "      <td>...</td>\n",
       "      <td>...</td>\n",
       "      <td>...</td>\n",
       "      <td>...</td>\n",
       "    </tr>\n",
       "    <tr>\n",
       "      <td>160684</td>\n",
       "      <td>59079</td>\n",
       "      <td>69bb62b9-8abd-4b2d-8393-abb625f1023c</td>\n",
       "      <td>10104186 - Project Kodiak</td>\n",
       "      <td>10104186</td>\n",
       "      <td>Warehouse (non-manufacturing)</td>\n",
       "      <td>26748673.0</td>\n",
       "      <td>Salisbury</td>\n",
       "      <td>NC</td>\n",
       "      <td>28146</td>\n",
       "      <td>Observation</td>\n",
       "      <td>Safety</td>\n",
       "      <td>Fuel stored next to Natural gas Trailer</td>\n",
       "      <td>Owned by Chewy Sub but still needs to be removed.</td>\n",
       "    </tr>\n",
       "    <tr>\n",
       "      <td>160685</td>\n",
       "      <td>59080</td>\n",
       "      <td>69bb62b9-8abd-4b2d-8393-abb625f1023c</td>\n",
       "      <td>10104186 - Project Kodiak</td>\n",
       "      <td>10104186</td>\n",
       "      <td>Warehouse (non-manufacturing)</td>\n",
       "      <td>26748673.0</td>\n",
       "      <td>Salisbury</td>\n",
       "      <td>NC</td>\n",
       "      <td>28146</td>\n",
       "      <td>Quality</td>\n",
       "      <td>Workmanship</td>\n",
       "      <td>Plywood Enclosure needs some attention</td>\n",
       "      <td>Plywood Enclosure needs some attention</td>\n",
       "    </tr>\n",
       "    <tr>\n",
       "      <td>160686</td>\n",
       "      <td>59081</td>\n",
       "      <td>69bb62b9-8abd-4b2d-8393-abb625f1023c</td>\n",
       "      <td>10104186 - Project Kodiak</td>\n",
       "      <td>10104186</td>\n",
       "      <td>Warehouse (non-manufacturing)</td>\n",
       "      <td>26748673.0</td>\n",
       "      <td>Salisbury</td>\n",
       "      <td>NC</td>\n",
       "      <td>28146</td>\n",
       "      <td>Quality</td>\n",
       "      <td>Workmanship</td>\n",
       "      <td>Replace Damaged base course asphalt</td>\n",
       "      <td>Need a map created to make sure we pick up all...</td>\n",
       "    </tr>\n",
       "    <tr>\n",
       "      <td>160687</td>\n",
       "      <td>59082</td>\n",
       "      <td>69bb62b9-8abd-4b2d-8393-abb625f1023c</td>\n",
       "      <td>10104186 - Project Kodiak</td>\n",
       "      <td>10104186</td>\n",
       "      <td>Warehouse (non-manufacturing)</td>\n",
       "      <td>26748673.0</td>\n",
       "      <td>Salisbury</td>\n",
       "      <td>NC</td>\n",
       "      <td>28146</td>\n",
       "      <td>Quality</td>\n",
       "      <td>Quality</td>\n",
       "      <td>Concrete Acid etched</td>\n",
       "      <td>Need to come up with a plan to repair the slab...</td>\n",
       "    </tr>\n",
       "    <tr>\n",
       "      <td>160688</td>\n",
       "      <td>59083</td>\n",
       "      <td>69bb62b9-8abd-4b2d-8393-abb625f1023c</td>\n",
       "      <td>10104186 - Project Kodiak</td>\n",
       "      <td>10104186</td>\n",
       "      <td>Warehouse (non-manufacturing)</td>\n",
       "      <td>26748673.0</td>\n",
       "      <td>Salisbury</td>\n",
       "      <td>NC</td>\n",
       "      <td>28146</td>\n",
       "      <td>Quality</td>\n",
       "      <td>Quality</td>\n",
       "      <td>Rust on dock angle</td>\n",
       "      <td>Need to re galvanize the angle.</td>\n",
       "    </tr>\n",
       "  </tbody>\n",
       "</table>\n",
       "<p>160689 rows × 13 columns</p>\n",
       "</div>"
      ],
      "text/plain": [
       "        Unnamed: 0                            project_id  \\\n",
       "0                0  01fa4f3a-9969-4069-a5b3-72fb630a0143   \n",
       "1                1  01fa4f3a-9969-4069-a5b3-72fb630a0143   \n",
       "2                2  01fa4f3a-9969-4069-a5b3-72fb630a0143   \n",
       "3                3  01fa4f3a-9969-4069-a5b3-72fb630a0143   \n",
       "4                4  01fa4f3a-9969-4069-a5b3-72fb630a0143   \n",
       "...            ...                                   ...   \n",
       "160684       59079  69bb62b9-8abd-4b2d-8393-abb625f1023c   \n",
       "160685       59080  69bb62b9-8abd-4b2d-8393-abb625f1023c   \n",
       "160686       59081  69bb62b9-8abd-4b2d-8393-abb625f1023c   \n",
       "160687       59082  69bb62b9-8abd-4b2d-8393-abb625f1023c   \n",
       "160688       59083  69bb62b9-8abd-4b2d-8393-abb625f1023c   \n",
       "\n",
       "                             name job_number                           type  \\\n",
       "0                         Gestamp     102601        Manufacturing / Factory   \n",
       "1                         Gestamp     102601        Manufacturing / Factory   \n",
       "2                         Gestamp     102601        Manufacturing / Factory   \n",
       "3                         Gestamp     102601        Manufacturing / Factory   \n",
       "4                         Gestamp     102601        Manufacturing / Factory   \n",
       "...                           ...        ...                            ...   \n",
       "160684  10104186 - Project Kodiak   10104186  Warehouse (non-manufacturing)   \n",
       "160685  10104186 - Project Kodiak   10104186  Warehouse (non-manufacturing)   \n",
       "160686  10104186 - Project Kodiak   10104186  Warehouse (non-manufacturing)   \n",
       "160687  10104186 - Project Kodiak   10104186  Warehouse (non-manufacturing)   \n",
       "160688  10104186 - Project Kodiak   10104186  Warehouse (non-manufacturing)   \n",
       "\n",
       "             value       city state_or_province postal_code  \\\n",
       "0       20549347.0    McCalla                AL       35111   \n",
       "1       20549347.0    McCalla                AL       35111   \n",
       "2       20549347.0    McCalla                AL       35111   \n",
       "3       20549347.0    McCalla                AL       35111   \n",
       "4       20549347.0    McCalla                AL       35111   \n",
       "...            ...        ...               ...         ...   \n",
       "160684  26748673.0  Salisbury                NC       28146   \n",
       "160685  26748673.0  Salisbury                NC       28146   \n",
       "160686  26748673.0  Salisbury                NC       28146   \n",
       "160687  26748673.0  Salisbury                NC       28146   \n",
       "160688  26748673.0  Salisbury                NC       28146   \n",
       "\n",
       "                               issue_type issue_subtype  \\\n",
       "0             Punch List : Pre-Punch List           NaN   \n",
       "1             Punch List : Pre-Punch List           NaN   \n",
       "2       Punch List : Architect Punch List           NaN   \n",
       "3       Punch List : Architect Punch List           NaN   \n",
       "4       Punch List : Architect Punch List           NaN   \n",
       "...                                   ...           ...   \n",
       "160684                        Observation        Safety   \n",
       "160685                            Quality   Workmanship   \n",
       "160686                            Quality   Workmanship   \n",
       "160687                            Quality       Quality   \n",
       "160688                            Quality       Quality   \n",
       "\n",
       "                                          title  \\\n",
       "0                                                 \n",
       "1                                                 \n",
       "2                                                 \n",
       "3                                                 \n",
       "4                                                 \n",
       "...                                         ...   \n",
       "160684  Fuel stored next to Natural gas Trailer   \n",
       "160685  Plywood Enclosure needs some attention    \n",
       "160686      Replace Damaged base course asphalt   \n",
       "160687                     Concrete Acid etched   \n",
       "160688                       Rust on dock angle   \n",
       "\n",
       "                                              description  \n",
       "0                       Remove nails around dock angles.   \n",
       "1       Grind in a 3/4\" chamfer at all exterior corner...  \n",
       "2                 Install missing switch and data outlets  \n",
       "3                     Install cover plate on light switch  \n",
       "4                                            Install base  \n",
       "...                                                   ...  \n",
       "160684  Owned by Chewy Sub but still needs to be removed.  \n",
       "160685            Plywood Enclosure needs some attention   \n",
       "160686  Need a map created to make sure we pick up all...  \n",
       "160687  Need to come up with a plan to repair the slab...  \n",
       "160688                    Need to re galvanize the angle.  \n",
       "\n",
       "[160689 rows x 13 columns]"
      ]
     },
     "execution_count": 107,
     "metadata": {},
     "output_type": "execute_result"
    }
   ],
   "source": [
    "issues_df"
   ]
  },
  {
   "cell_type": "code",
   "execution_count": 108,
   "metadata": {},
   "outputs": [
    {
     "name": "stderr",
     "output_type": "stream",
     "text": [
      "C:\\Users\\mrabier\\AppData\\Local\\Continuum\\anaconda3\\lib\\site-packages\\ipykernel_launcher.py:2: SettingWithCopyWarning: \n",
      "A value is trying to be set on a copy of a slice from a DataFrame.\n",
      "Try using .loc[row_indexer,col_indexer] = value instead\n",
      "\n",
      "See the caveats in the documentation: http://pandas.pydata.org/pandas-docs/stable/user_guide/indexing.html#returning-a-view-versus-a-copy\n",
      "  \n"
     ]
    }
   ],
   "source": [
    "description_text = issues_df[[\"description\"]]\n",
    "description_text['index']=description_text.index\n",
    "documents = description_text"
   ]
  },
  {
   "cell_type": "code",
   "execution_count": 109,
   "metadata": {},
   "outputs": [
    {
     "name": "stdout",
     "output_type": "stream",
     "text": [
      "160689\n",
      "                                          description  index\n",
      "0                   Remove nails around dock angles.       0\n",
      "1   Grind in a 3/4\" chamfer at all exterior corner...      1\n",
      "2             Install missing switch and data outlets      2\n",
      "3                 Install cover plate on light switch      3\n",
      "4                                        Install base      4\n",
      "5                       Repaint north and south walls      5\n",
      "6               Complete striping and traffic signage      6\n",
      "7                                   Clean floor, typ.      7\n",
      "8          Touch up yellow paint at railing door x118      8\n",
      "9                   Fix weatherstripping at door x119      9\n",
      "10  Fill nail holes in all door windows, offices a...     10\n",
      "11                                    Paint east wall     11\n",
      "12                                   Paint above door     12\n",
      "13  Verify no base heater in women's\\r\\n\\r\\nClayco...     13\n",
      "14  Patch top of SE drive in ramp so it is level a...     14\n",
      "15                         Clean haze from tile walls     15\n",
      "16  Remove stick pin insulation, fur out drywall t...     16\n",
      "17        Replace thermax in electrical room as shown     17\n",
      "18         Door sa2a  & sa2b add screws to door frame     18\n",
      "19                      Touch up paint around window      19\n",
      "20                       Touch up paint around window     20\n",
      "21       Caulk joint at employee entrance site paving     21\n",
      "22                                   <no description>     22\n",
      "23    Adjust dock shelters on north side of building      23\n",
      "24                 Touch up drywall for smooth finish     24\n",
      "25                                   <no description>     25\n",
      "26       Re-paint around installations in panels, typ     26\n",
      "27       Add diffusers and make sure both lights work     27\n",
      "28                                       Install base     28\n",
      "29  Check all lockers for missing screws, and conn...     29\n"
     ]
    }
   ],
   "source": [
    "print(len(documents))\n",
    "print(documents[:30])"
   ]
  },
  {
   "cell_type": "markdown",
   "metadata": {},
   "source": [
    "# Data Pre-processing which includes tokenization, removal of stop words and words with fewer than 3 words, lemmatization, stemming"
   ]
  },
  {
   "cell_type": "code",
   "execution_count": 110,
   "metadata": {},
   "outputs": [
    {
     "name": "stderr",
     "output_type": "stream",
     "text": [
      "[nltk_data] Downloading package wordnet to\n",
      "[nltk_data]     C:\\Users\\mrabier\\AppData\\Roaming\\nltk_data...\n",
      "[nltk_data]   Package wordnet is already up-to-date!\n"
     ]
    },
    {
     "data": {
      "text/plain": [
       "True"
      ]
     },
     "execution_count": 110,
     "metadata": {},
     "output_type": "execute_result"
    }
   ],
   "source": [
    "import gensim\n",
    "from gensim.utils import simple_preprocess\n",
    "from gensim.parsing.preprocessing import STOPWORDS\n",
    "from nltk.stem import WordNetLemmatizer, SnowballStemmer\n",
    "from nltk.stem.porter import *\n",
    "np.random.seed(2018)\n",
    "import nltk\n",
    "nltk.download('wordnet')"
   ]
  },
  {
   "cell_type": "code",
   "execution_count": 111,
   "metadata": {},
   "outputs": [],
   "source": [
    "stemmer = PorterStemmer()"
   ]
  },
  {
   "cell_type": "code",
   "execution_count": 112,
   "metadata": {},
   "outputs": [],
   "source": [
    "#Write a function to perform lemmatize and stem preprocessing steps on the data set\n",
    "\n",
    "def lemmatize_stemming(text):\n",
    "    return stemmer.stem(WordNetLemmatizer().lemmatize(text, pos='v'))\n",
    "\n",
    "def preprocess(text):\n",
    "    result = []\n",
    "    for token in gensim.utils.simple_preprocess(text):\n",
    "        if token not in gensim.parsing.preprocessing.STOPWORDS and len(token) > 3:\n",
    "            result.append(lemmatize_stemming(token))\n",
    "    return result"
   ]
  },
  {
   "cell_type": "code",
   "execution_count": null,
   "metadata": {},
   "outputs": [],
   "source": []
  },
  {
   "cell_type": "code",
   "execution_count": 113,
   "metadata": {},
   "outputs": [
    {
     "name": "stdout",
     "output_type": "stream",
     "text": [
      "original document: \n",
      "['Remove', 'paint', 'from', 'rubber', 'base', 'left', 'of', 'room', '606']\n",
      "\n",
      "\n",
      " tokenized and lemmatized document: \n",
      "['remov', 'paint', 'rubber', 'base', 'leav', 'room']\n"
     ]
    }
   ],
   "source": [
    "#Select a document to preview after preprocessing\n",
    "\n",
    "doc_sample = documents[documents['index'] == 4310].values[0][0]\n",
    "print('original document: ')\n",
    "words = []\n",
    "for word in doc_sample.split(' '):\n",
    "    words.append(word)\n",
    "print(words)\n",
    "print('\\n\\n tokenized and lemmatized document: ')\n",
    "print(preprocess(doc_sample))"
   ]
  },
  {
   "cell_type": "code",
   "execution_count": 114,
   "metadata": {},
   "outputs": [
    {
     "data": {
      "text/plain": [
       "0                            [remov, nail, dock, angl]\n",
       "1    [grind, chamfer, exterior, corner, tilt, panel...\n",
       "2                 [instal, miss, switch, data, outlet]\n",
       "3                [instal, cover, plate, light, switch]\n",
       "4                                       [instal, base]\n",
       "5                        [repaint, north, south, wall]\n",
       "6                    [complet, strip, traffic, signag]\n",
       "7                                       [clean, floor]\n",
       "8                   [touch, yellow, paint, rail, door]\n",
       "9                                               [door]\n",
       "Name: description, dtype: object"
      ]
     },
     "execution_count": 114,
     "metadata": {},
     "output_type": "execute_result"
    }
   ],
   "source": [
    "# Pre-process all of the description cells\n",
    "\n",
    "processed_docs = documents['description'].astype(str).map(preprocess)\n",
    "processed_docs[:10]"
   ]
  },
  {
   "cell_type": "markdown",
   "metadata": {},
   "source": [
    "# Bag of Words on the Data Set"
   ]
  },
  {
   "cell_type": "code",
   "execution_count": 115,
   "metadata": {},
   "outputs": [],
   "source": [
    "dictionary = gensim.corpora.Dictionary(processed_docs)\n"
   ]
  },
  {
   "cell_type": "code",
   "execution_count": 116,
   "metadata": {},
   "outputs": [
    {
     "name": "stdout",
     "output_type": "stream",
     "text": [
      "0 angl\n",
      "1 dock\n",
      "2 nail\n",
      "3 remov\n",
      "4 chamfer\n",
      "5 corner\n",
      "6 exterior\n",
      "7 grind\n",
      "8 insid\n",
      "9 loung\n",
      "10 panel\n"
     ]
    }
   ],
   "source": [
    "count = 0\n",
    "for k, v in dictionary.iteritems():\n",
    "    print(k, v)\n",
    "    count += 1\n",
    "    if count > 10:\n",
    "        break"
   ]
  },
  {
   "cell_type": "code",
   "execution_count": 117,
   "metadata": {},
   "outputs": [],
   "source": [
    "# filter out tokens that appear in less than 15 documents, more than .5 documents and the most 100000 most frequent tokens\n",
    "dictionary.filter_extremes(no_below=15, no_above=0.5, keep_n=10000)"
   ]
  },
  {
   "cell_type": "code",
   "execution_count": 126,
   "metadata": {},
   "outputs": [
    {
     "name": "stdout",
     "output_type": "stream",
     "text": [
      "0 angl\n",
      "1 dock\n",
      "2 nail\n",
      "3 remov\n",
      "4 chamfer\n"
     ]
    }
   ],
   "source": [
    "count = 0\n",
    "for k, v in dictionary.iteritems():\n",
    "    print(k, v)\n",
    "    count += 1\n",
    "    if count > 4:\n",
    "        break"
   ]
  },
  {
   "cell_type": "code",
   "execution_count": 127,
   "metadata": {},
   "outputs": [
    {
     "data": {
      "text/plain": [
       "[(3, 1), (23, 1), (35, 1), (63, 1), (156, 1), (385, 1)]"
      ]
     },
     "execution_count": 127,
     "metadata": {},
     "output_type": "execute_result"
    }
   ],
   "source": [
    "#For each cell, we create a dictionary reporting how many words and how many times those words appear\n",
    "bow_corpus = [dictionary.doc2bow(doc) for doc in processed_docs]\n",
    "bow_corpus[4310]"
   ]
  },
  {
   "cell_type": "code",
   "execution_count": 129,
   "metadata": {},
   "outputs": [
    {
     "name": "stdout",
     "output_type": "stream",
     "text": [
      "Word 3 (\"remov\") appears 1 time.\n",
      "Word 23 (\"base\") appears 1 time.\n",
      "Word 35 (\"paint\") appears 1 time.\n",
      "Word 63 (\"room\") appears 1 time.\n",
      "Word 156 (\"leav\") appears 1 time.\n",
      "Word 385 (\"rubber\") appears 1 time.\n"
     ]
    }
   ],
   "source": [
    "bow_doc_4310 = bow_corpus[4310]\n",
    "for i in range(len(bow_doc_4310)):\n",
    "    print(\"Word {} (\\\"{}\\\") appears {} time.\".format(bow_doc_4310[i][0], \n",
    "                                               dictionary[bow_doc_4310[i][0]], \n",
    "bow_doc_4310[i][1]))"
   ]
  },
  {
   "cell_type": "code",
   "execution_count": 130,
   "metadata": {},
   "outputs": [
    {
     "name": "stdout",
     "output_type": "stream",
     "text": [
      "[(0, 0.5831802444105506),\n",
      " (1, 0.5669237008236193),\n",
      " (2, 0.5198371269018338),\n",
      " (3, 0.2612808478785781)]\n"
     ]
    }
   ],
   "source": [
    "# TF-IDF\n",
    "\n",
    "from gensim import corpora, models\n",
    "tfidf = models.TfidfModel(bow_corpus)\n",
    "corpus_tfidf = tfidf[bow_corpus]\n",
    "from pprint import pprint\n",
    "for doc in corpus_tfidf:\n",
    "    pprint(doc)\n",
    "    break"
   ]
  },
  {
   "cell_type": "markdown",
   "metadata": {},
   "source": [
    "# Run LDA using Bag of Words"
   ]
  },
  {
   "cell_type": "code",
   "execution_count": 138,
   "metadata": {},
   "outputs": [],
   "source": [
    "lda_model = gensim.models.LdaMulticore(bow_corpus, num_topics=20, id2word=dictionary, passes=4, workers=2)"
   ]
  },
  {
   "cell_type": "code",
   "execution_count": 140,
   "metadata": {},
   "outputs": [],
   "source": [
    "lda_model.save('lda model bag of words')"
   ]
  },
  {
   "cell_type": "code",
   "execution_count": 139,
   "metadata": {},
   "outputs": [
    {
     "name": "stdout",
     "output_type": "stream",
     "text": [
      "Topic: 0 \n",
      "Words: 0.196*\"miss\" + 0.194*\"base\" + 0.158*\"floor\" + 0.105*\"instal\" + 0.032*\"spall\" + 0.023*\"board\" + 0.016*\"lobbi\" + 0.015*\"sleev\" + 0.015*\"elev\" + 0.014*\"mount\"\n",
      "Topic: 1 \n",
      "Words: 0.132*\"panel\" + 0.060*\"access\" + 0.055*\"provid\" + 0.053*\"gener\" + 0.041*\"align\" + 0.034*\"label\" + 0.031*\"break\" + 0.028*\"incomplet\" + 0.019*\"vaniti\" + 0.016*\"plan\"\n",
      "Topic: 2 \n",
      "Words: 0.375*\"paint\" + 0.180*\"touch\" + 0.113*\"clean\" + 0.069*\"wall\" + 0.046*\"window\" + 0.038*\"touchup\" + 0.027*\"remov\" + 0.023*\"scuff\" + 0.018*\"frame\" + 0.015*\"soffit\"\n",
      "Topic: 3 \n",
      "Words: 0.043*\"condit\" + 0.041*\"discuss\" + 0.032*\"exist\" + 0.028*\"short\" + 0.026*\"type\" + 0.023*\"provid\" + 0.021*\"control\" + 0.018*\"piec\" + 0.017*\"perform\" + 0.016*\"need\"\n",
      "Topic: 4 \n",
      "Words: 0.126*\"finish\" + 0.089*\"water\" + 0.063*\"level\" + 0.052*\"crack\" + 0.048*\"concret\" + 0.036*\"test\" + 0.030*\"slab\" + 0.025*\"power\" + 0.023*\"valv\" + 0.017*\"leak\"\n",
      "Topic: 5 \n",
      "Words: 0.099*\"remov\" + 0.088*\"column\" + 0.045*\"clean\" + 0.044*\"debri\" + 0.039*\"rail\" + 0.038*\"materi\" + 0.031*\"creat\" + 0.031*\"face\" + 0.027*\"trash\" + 0.023*\"concret\"\n",
      "Topic: 6 \n",
      "Words: 0.066*\"instal\" + 0.045*\"roof\" + 0.045*\"insul\" + 0.044*\"drain\" + 0.040*\"line\" + 0.034*\"steel\" + 0.032*\"duct\" + 0.022*\"need\" + 0.020*\"grill\" + 0.020*\"return\"\n",
      "Topic: 7 \n",
      "Words: 0.184*\"repair\" + 0.128*\"scratch\" + 0.115*\"mark\" + 0.086*\"mullion\" + 0.073*\"remov\" + 0.073*\"tape\" + 0.059*\"paint\" + 0.035*\"dent\" + 0.026*\"indic\" + 0.025*\"sticker\"\n",
      "Topic: 8 \n",
      "Words: 0.108*\"caulk\" + 0.065*\"joint\" + 0.042*\"sealant\" + 0.038*\"gap\" + 0.037*\"remov\" + 0.032*\"grout\" + 0.028*\"metal\" + 0.028*\"residu\" + 0.026*\"scan\" + 0.024*\"typic\"\n",
      "Topic: 9 \n",
      "Words: 0.061*\"protect\" + 0.051*\"work\" + 0.044*\"edg\" + 0.034*\"issu\" + 0.034*\"worker\" + 0.030*\"project\" + 0.027*\"trip\" + 0.026*\"hole\" + 0.023*\"slip\" + 0.022*\"environ\"\n",
      "Topic: 10 \n",
      "Words: 0.215*\"damag\" + 0.145*\"trim\" + 0.136*\"replac\" + 0.118*\"glass\" + 0.044*\"tool\" + 0.044*\"repair\" + 0.035*\"oper\" + 0.029*\"thing\" + 0.027*\"lift\" + 0.020*\"dirti\"\n",
      "Topic: 11 \n",
      "Words: 0.047*\"room\" + 0.036*\"locat\" + 0.029*\"need\" + 0.024*\"report\" + 0.022*\"draw\" + 0.019*\"sign\" + 0.018*\"confirm\" + 0.018*\"attach\" + 0.017*\"correct\" + 0.016*\"field\"\n",
      "Topic: 12 \n",
      "Words: 0.244*\"patch\" + 0.098*\"hole\" + 0.094*\"wall\" + 0.050*\"stair\" + 0.039*\"need\" + 0.033*\"screw\" + 0.027*\"corridor\" + 0.026*\"repaint\" + 0.026*\"sand\" + 0.021*\"core\"\n",
      "Topic: 13 \n",
      "Words: 0.361*\"door\" + 0.130*\"frame\" + 0.063*\"adjust\" + 0.051*\"punch\" + 0.035*\"item\" + 0.030*\"stop\" + 0.028*\"close\" + 0.022*\"hardwar\" + 0.021*\"gasket\" + 0.020*\"need\"\n",
      "Topic: 14 \n",
      "Words: 0.239*\"wall\" + 0.123*\"seal\" + 0.065*\"drywal\" + 0.063*\"penetr\" + 0.054*\"conduit\" + 0.042*\"south\" + 0.038*\"north\" + 0.033*\"east\" + 0.029*\"west\" + 0.023*\"room\"\n",
      "Topic: 15 \n",
      "Words: 0.099*\"unit\" + 0.076*\"corner\" + 0.056*\"instal\" + 0.037*\"shower\" + 0.034*\"closet\" + 0.034*\"chip\" + 0.032*\"bathroom\" + 0.032*\"shade\" + 0.031*\"loos\" + 0.029*\"window\"\n",
      "Topic: 16 \n",
      "Words: 0.305*\"ceil\" + 0.210*\"tile\" + 0.062*\"carpet\" + 0.047*\"grid\" + 0.035*\"ladder\" + 0.035*\"flush\" + 0.034*\"replac\" + 0.032*\"secur\" + 0.020*\"scaffold\" + 0.019*\"chip\"\n",
      "Topic: 17 \n",
      "Words: 0.108*\"cabinet\" + 0.090*\"sink\" + 0.052*\"receptacl\" + 0.045*\"behavior\" + 0.043*\"vent\" + 0.042*\"improv\" + 0.038*\"hang\" + 0.038*\"rough\" + 0.030*\"sensor\" + 0.028*\"plastic\"\n",
      "Topic: 18 \n",
      "Words: 0.282*\"instal\" + 0.132*\"cover\" + 0.127*\"light\" + 0.087*\"complet\" + 0.051*\"fixtur\" + 0.051*\"outlet\" + 0.034*\"plate\" + 0.034*\"switch\" + 0.023*\"electr\" + 0.020*\"data\"\n",
      "Topic: 19 \n",
      "Words: 0.133*\"open\" + 0.110*\"requir\" + 0.082*\"rebar\" + 0.071*\"direct\" + 0.050*\"sprinkler\" + 0.048*\"cut\" + 0.046*\"pipe\" + 0.042*\"head\" + 0.039*\"pip\" + 0.031*\"long\"\n"
     ]
    }
   ],
   "source": [
    "for idx, topic in lda_model.print_topics(-1):\n",
    "    print('Topic: {} \\nWords: {}'.format(idx, topic))"
   ]
  },
  {
   "cell_type": "markdown",
   "metadata": {},
   "source": [
    "# Run LDA using TF-IDF"
   ]
  },
  {
   "cell_type": "code",
   "execution_count": 137,
   "metadata": {},
   "outputs": [
    {
     "ename": "KeyboardInterrupt",
     "evalue": "",
     "output_type": "error",
     "traceback": [
      "\u001b[1;31m---------------------------------------------------------------------------\u001b[0m",
      "\u001b[1;31mKeyboardInterrupt\u001b[0m                         Traceback (most recent call last)",
      "\u001b[1;32m<ipython-input-137-ad580bfce012>\u001b[0m in \u001b[0;36m<module>\u001b[1;34m\u001b[0m\n\u001b[1;32m----> 1\u001b[1;33m \u001b[0mlda_model_tfidf\u001b[0m \u001b[1;33m=\u001b[0m \u001b[0mgensim\u001b[0m\u001b[1;33m.\u001b[0m\u001b[0mmodels\u001b[0m\u001b[1;33m.\u001b[0m\u001b[0mLdaMulticore\u001b[0m\u001b[1;33m(\u001b[0m\u001b[0mcorpus_tfidf\u001b[0m\u001b[1;33m,\u001b[0m \u001b[0mnum_topics\u001b[0m\u001b[1;33m=\u001b[0m\u001b[1;36m20\u001b[0m\u001b[1;33m,\u001b[0m \u001b[0mid2word\u001b[0m\u001b[1;33m=\u001b[0m\u001b[0mdictionary\u001b[0m\u001b[1;33m,\u001b[0m \u001b[0mpasses\u001b[0m\u001b[1;33m=\u001b[0m\u001b[1;36m2\u001b[0m\u001b[1;33m,\u001b[0m \u001b[0mworkers\u001b[0m\u001b[1;33m=\u001b[0m\u001b[1;36m4\u001b[0m\u001b[1;33m)\u001b[0m\u001b[1;33m\u001b[0m\u001b[1;33m\u001b[0m\u001b[0m\n\u001b[0m\u001b[0;32m      2\u001b[0m \u001b[1;32mfor\u001b[0m \u001b[0midx\u001b[0m\u001b[1;33m,\u001b[0m \u001b[0mtopic\u001b[0m \u001b[1;32min\u001b[0m \u001b[0mlda_model_tfidf\u001b[0m\u001b[1;33m.\u001b[0m\u001b[0mprint_topics\u001b[0m\u001b[1;33m(\u001b[0m\u001b[1;33m-\u001b[0m\u001b[1;36m1\u001b[0m\u001b[1;33m)\u001b[0m\u001b[1;33m:\u001b[0m\u001b[1;33m\u001b[0m\u001b[1;33m\u001b[0m\u001b[0m\n\u001b[0;32m      3\u001b[0m     \u001b[0mprint\u001b[0m\u001b[1;33m(\u001b[0m\u001b[1;34m'Topic: {} Word: {}'\u001b[0m\u001b[1;33m.\u001b[0m\u001b[0mformat\u001b[0m\u001b[1;33m(\u001b[0m\u001b[0midx\u001b[0m\u001b[1;33m,\u001b[0m \u001b[0mtopic\u001b[0m\u001b[1;33m)\u001b[0m\u001b[1;33m)\u001b[0m\u001b[1;33m\u001b[0m\u001b[1;33m\u001b[0m\u001b[0m\n",
      "\u001b[1;32m~\\AppData\\Local\\Continuum\\anaconda3\\lib\\site-packages\\gensim\\models\\ldamulticore.py\u001b[0m in \u001b[0;36m__init__\u001b[1;34m(self, corpus, num_topics, id2word, workers, chunksize, passes, batch, alpha, eta, decay, offset, eval_every, iterations, gamma_threshold, random_state, minimum_probability, minimum_phi_value, per_word_topics, dtype)\u001b[0m\n\u001b[0;32m    182\u001b[0m             \u001b[0mdecay\u001b[0m\u001b[1;33m=\u001b[0m\u001b[0mdecay\u001b[0m\u001b[1;33m,\u001b[0m \u001b[0moffset\u001b[0m\u001b[1;33m=\u001b[0m\u001b[0moffset\u001b[0m\u001b[1;33m,\u001b[0m \u001b[0meval_every\u001b[0m\u001b[1;33m=\u001b[0m\u001b[0meval_every\u001b[0m\u001b[1;33m,\u001b[0m \u001b[0miterations\u001b[0m\u001b[1;33m=\u001b[0m\u001b[0miterations\u001b[0m\u001b[1;33m,\u001b[0m\u001b[1;33m\u001b[0m\u001b[1;33m\u001b[0m\u001b[0m\n\u001b[0;32m    183\u001b[0m             \u001b[0mgamma_threshold\u001b[0m\u001b[1;33m=\u001b[0m\u001b[0mgamma_threshold\u001b[0m\u001b[1;33m,\u001b[0m \u001b[0mrandom_state\u001b[0m\u001b[1;33m=\u001b[0m\u001b[0mrandom_state\u001b[0m\u001b[1;33m,\u001b[0m \u001b[0mminimum_probability\u001b[0m\u001b[1;33m=\u001b[0m\u001b[0mminimum_probability\u001b[0m\u001b[1;33m,\u001b[0m\u001b[1;33m\u001b[0m\u001b[1;33m\u001b[0m\u001b[0m\n\u001b[1;32m--> 184\u001b[1;33m             \u001b[0mminimum_phi_value\u001b[0m\u001b[1;33m=\u001b[0m\u001b[0mminimum_phi_value\u001b[0m\u001b[1;33m,\u001b[0m \u001b[0mper_word_topics\u001b[0m\u001b[1;33m=\u001b[0m\u001b[0mper_word_topics\u001b[0m\u001b[1;33m,\u001b[0m \u001b[0mdtype\u001b[0m\u001b[1;33m=\u001b[0m\u001b[0mdtype\u001b[0m\u001b[1;33m\u001b[0m\u001b[1;33m\u001b[0m\u001b[0m\n\u001b[0m\u001b[0;32m    185\u001b[0m         )\n\u001b[0;32m    186\u001b[0m \u001b[1;33m\u001b[0m\u001b[0m\n",
      "\u001b[1;32m~\\AppData\\Local\\Continuum\\anaconda3\\lib\\site-packages\\gensim\\models\\ldamodel.py\u001b[0m in \u001b[0;36m__init__\u001b[1;34m(self, corpus, num_topics, id2word, distributed, chunksize, passes, update_every, alpha, eta, decay, offset, eval_every, iterations, gamma_threshold, minimum_probability, random_state, ns_conf, minimum_phi_value, per_word_topics, callbacks, dtype)\u001b[0m\n\u001b[0;32m    517\u001b[0m         \u001b[1;32mif\u001b[0m \u001b[0mcorpus\u001b[0m \u001b[1;32mis\u001b[0m \u001b[1;32mnot\u001b[0m \u001b[1;32mNone\u001b[0m\u001b[1;33m:\u001b[0m\u001b[1;33m\u001b[0m\u001b[1;33m\u001b[0m\u001b[0m\n\u001b[0;32m    518\u001b[0m             \u001b[0muse_numpy\u001b[0m \u001b[1;33m=\u001b[0m \u001b[0mself\u001b[0m\u001b[1;33m.\u001b[0m\u001b[0mdispatcher\u001b[0m \u001b[1;32mis\u001b[0m \u001b[1;32mnot\u001b[0m \u001b[1;32mNone\u001b[0m\u001b[1;33m\u001b[0m\u001b[1;33m\u001b[0m\u001b[0m\n\u001b[1;32m--> 519\u001b[1;33m             \u001b[0mself\u001b[0m\u001b[1;33m.\u001b[0m\u001b[0mupdate\u001b[0m\u001b[1;33m(\u001b[0m\u001b[0mcorpus\u001b[0m\u001b[1;33m,\u001b[0m \u001b[0mchunks_as_numpy\u001b[0m\u001b[1;33m=\u001b[0m\u001b[0muse_numpy\u001b[0m\u001b[1;33m)\u001b[0m\u001b[1;33m\u001b[0m\u001b[1;33m\u001b[0m\u001b[0m\n\u001b[0m\u001b[0;32m    520\u001b[0m \u001b[1;33m\u001b[0m\u001b[0m\n\u001b[0;32m    521\u001b[0m     \u001b[1;32mdef\u001b[0m \u001b[0minit_dir_prior\u001b[0m\u001b[1;33m(\u001b[0m\u001b[0mself\u001b[0m\u001b[1;33m,\u001b[0m \u001b[0mprior\u001b[0m\u001b[1;33m,\u001b[0m \u001b[0mname\u001b[0m\u001b[1;33m)\u001b[0m\u001b[1;33m:\u001b[0m\u001b[1;33m\u001b[0m\u001b[1;33m\u001b[0m\u001b[0m\n",
      "\u001b[1;32m~\\AppData\\Local\\Continuum\\anaconda3\\lib\\site-packages\\gensim\\models\\ldamulticore.py\u001b[0m in \u001b[0;36mupdate\u001b[1;34m(self, corpus, chunks_as_numpy)\u001b[0m\n\u001b[0;32m    284\u001b[0m \u001b[1;33m\u001b[0m\u001b[0m\n\u001b[0;32m    285\u001b[0m             \u001b[0mchunk_stream\u001b[0m \u001b[1;33m=\u001b[0m \u001b[0mutils\u001b[0m\u001b[1;33m.\u001b[0m\u001b[0mgrouper\u001b[0m\u001b[1;33m(\u001b[0m\u001b[0mcorpus\u001b[0m\u001b[1;33m,\u001b[0m \u001b[0mself\u001b[0m\u001b[1;33m.\u001b[0m\u001b[0mchunksize\u001b[0m\u001b[1;33m,\u001b[0m \u001b[0mas_numpy\u001b[0m\u001b[1;33m=\u001b[0m\u001b[0mchunks_as_numpy\u001b[0m\u001b[1;33m)\u001b[0m\u001b[1;33m\u001b[0m\u001b[1;33m\u001b[0m\u001b[0m\n\u001b[1;32m--> 286\u001b[1;33m             \u001b[1;32mfor\u001b[0m \u001b[0mchunk_no\u001b[0m\u001b[1;33m,\u001b[0m \u001b[0mchunk\u001b[0m \u001b[1;32min\u001b[0m \u001b[0menumerate\u001b[0m\u001b[1;33m(\u001b[0m\u001b[0mchunk_stream\u001b[0m\u001b[1;33m)\u001b[0m\u001b[1;33m:\u001b[0m\u001b[1;33m\u001b[0m\u001b[1;33m\u001b[0m\u001b[0m\n\u001b[0m\u001b[0;32m    287\u001b[0m                 \u001b[0mreallen\u001b[0m \u001b[1;33m+=\u001b[0m \u001b[0mlen\u001b[0m\u001b[1;33m(\u001b[0m\u001b[0mchunk\u001b[0m\u001b[1;33m)\u001b[0m  \u001b[1;31m# keep track of how many documents we've processed so far\u001b[0m\u001b[1;33m\u001b[0m\u001b[1;33m\u001b[0m\u001b[0m\n\u001b[0;32m    288\u001b[0m \u001b[1;33m\u001b[0m\u001b[0m\n",
      "\u001b[1;32m~\\AppData\\Local\\Continuum\\anaconda3\\lib\\site-packages\\gensim\\utils.py\u001b[0m in \u001b[0;36mchunkize_serial\u001b[1;34m(iterable, chunksize, as_numpy, dtype)\u001b[0m\n\u001b[0;32m   1168\u001b[0m             \u001b[0mwrapped_chunk\u001b[0m \u001b[1;33m=\u001b[0m \u001b[1;33m[\u001b[0m\u001b[1;33m[\u001b[0m\u001b[0mnp\u001b[0m\u001b[1;33m.\u001b[0m\u001b[0marray\u001b[0m\u001b[1;33m(\u001b[0m\u001b[0mdoc\u001b[0m\u001b[1;33m,\u001b[0m \u001b[0mdtype\u001b[0m\u001b[1;33m=\u001b[0m\u001b[0mdtype\u001b[0m\u001b[1;33m)\u001b[0m \u001b[1;32mfor\u001b[0m \u001b[0mdoc\u001b[0m \u001b[1;32min\u001b[0m \u001b[0mitertools\u001b[0m\u001b[1;33m.\u001b[0m\u001b[0mislice\u001b[0m\u001b[1;33m(\u001b[0m\u001b[0mit\u001b[0m\u001b[1;33m,\u001b[0m \u001b[0mint\u001b[0m\u001b[1;33m(\u001b[0m\u001b[0mchunksize\u001b[0m\u001b[1;33m)\u001b[0m\u001b[1;33m)\u001b[0m\u001b[1;33m]\u001b[0m\u001b[1;33m]\u001b[0m\u001b[1;33m\u001b[0m\u001b[1;33m\u001b[0m\u001b[0m\n\u001b[0;32m   1169\u001b[0m         \u001b[1;32melse\u001b[0m\u001b[1;33m:\u001b[0m\u001b[1;33m\u001b[0m\u001b[1;33m\u001b[0m\u001b[0m\n\u001b[1;32m-> 1170\u001b[1;33m             \u001b[0mwrapped_chunk\u001b[0m \u001b[1;33m=\u001b[0m \u001b[1;33m[\u001b[0m\u001b[0mlist\u001b[0m\u001b[1;33m(\u001b[0m\u001b[0mitertools\u001b[0m\u001b[1;33m.\u001b[0m\u001b[0mislice\u001b[0m\u001b[1;33m(\u001b[0m\u001b[0mit\u001b[0m\u001b[1;33m,\u001b[0m \u001b[0mint\u001b[0m\u001b[1;33m(\u001b[0m\u001b[0mchunksize\u001b[0m\u001b[1;33m)\u001b[0m\u001b[1;33m)\u001b[0m\u001b[1;33m)\u001b[0m\u001b[1;33m]\u001b[0m\u001b[1;33m\u001b[0m\u001b[1;33m\u001b[0m\u001b[0m\n\u001b[0m\u001b[0;32m   1171\u001b[0m         \u001b[1;32mif\u001b[0m \u001b[1;32mnot\u001b[0m \u001b[0mwrapped_chunk\u001b[0m\u001b[1;33m[\u001b[0m\u001b[1;36m0\u001b[0m\u001b[1;33m]\u001b[0m\u001b[1;33m:\u001b[0m\u001b[1;33m\u001b[0m\u001b[1;33m\u001b[0m\u001b[0m\n\u001b[0;32m   1172\u001b[0m             \u001b[1;32mbreak\u001b[0m\u001b[1;33m\u001b[0m\u001b[1;33m\u001b[0m\u001b[0m\n",
      "\u001b[1;32m~\\AppData\\Local\\Continuum\\anaconda3\\lib\\site-packages\\gensim\\interfaces.py\u001b[0m in \u001b[0;36m__iter__\u001b[1;34m(self)\u001b[0m\n\u001b[0;32m    179\u001b[0m         \u001b[1;32melse\u001b[0m\u001b[1;33m:\u001b[0m\u001b[1;33m\u001b[0m\u001b[1;33m\u001b[0m\u001b[0m\n\u001b[0;32m    180\u001b[0m             \u001b[1;32mfor\u001b[0m \u001b[0mdoc\u001b[0m \u001b[1;32min\u001b[0m \u001b[0mself\u001b[0m\u001b[1;33m.\u001b[0m\u001b[0mcorpus\u001b[0m\u001b[1;33m:\u001b[0m\u001b[1;33m\u001b[0m\u001b[1;33m\u001b[0m\u001b[0m\n\u001b[1;32m--> 181\u001b[1;33m                 \u001b[1;32myield\u001b[0m \u001b[0mself\u001b[0m\u001b[1;33m.\u001b[0m\u001b[0mobj\u001b[0m\u001b[1;33m[\u001b[0m\u001b[0mdoc\u001b[0m\u001b[1;33m]\u001b[0m\u001b[1;33m\u001b[0m\u001b[1;33m\u001b[0m\u001b[0m\n\u001b[0m\u001b[0;32m    182\u001b[0m \u001b[1;33m\u001b[0m\u001b[0m\n\u001b[0;32m    183\u001b[0m     \u001b[1;32mdef\u001b[0m \u001b[0m__getitem__\u001b[0m\u001b[1;33m(\u001b[0m\u001b[0mself\u001b[0m\u001b[1;33m,\u001b[0m \u001b[0mdocno\u001b[0m\u001b[1;33m)\u001b[0m\u001b[1;33m:\u001b[0m\u001b[1;33m\u001b[0m\u001b[1;33m\u001b[0m\u001b[0m\n",
      "\u001b[1;32m~\\AppData\\Local\\Continuum\\anaconda3\\lib\\site-packages\\gensim\\models\\tfidfmodel.py\u001b[0m in \u001b[0;36m__getitem__\u001b[1;34m(self, bow, eps)\u001b[0m\n\u001b[0;32m    511\u001b[0m         vector = [\n\u001b[0;32m    512\u001b[0m             \u001b[1;33m(\u001b[0m\u001b[0mtermid\u001b[0m\u001b[1;33m,\u001b[0m \u001b[0mtf\u001b[0m \u001b[1;33m*\u001b[0m \u001b[0mself\u001b[0m\u001b[1;33m.\u001b[0m\u001b[0midfs\u001b[0m\u001b[1;33m.\u001b[0m\u001b[0mget\u001b[0m\u001b[1;33m(\u001b[0m\u001b[0mtermid\u001b[0m\u001b[1;33m)\u001b[0m\u001b[1;33m)\u001b[0m\u001b[1;33m\u001b[0m\u001b[1;33m\u001b[0m\u001b[0m\n\u001b[1;32m--> 513\u001b[1;33m             \u001b[1;32mfor\u001b[0m \u001b[0mtermid\u001b[0m\u001b[1;33m,\u001b[0m \u001b[0mtf\u001b[0m \u001b[1;32min\u001b[0m \u001b[0mzip\u001b[0m\u001b[1;33m(\u001b[0m\u001b[0mtermid_array\u001b[0m\u001b[1;33m,\u001b[0m \u001b[0mtf_array\u001b[0m\u001b[1;33m)\u001b[0m \u001b[1;32mif\u001b[0m \u001b[0mabs\u001b[0m\u001b[1;33m(\u001b[0m\u001b[0mself\u001b[0m\u001b[1;33m.\u001b[0m\u001b[0midfs\u001b[0m\u001b[1;33m.\u001b[0m\u001b[0mget\u001b[0m\u001b[1;33m(\u001b[0m\u001b[0mtermid\u001b[0m\u001b[1;33m,\u001b[0m \u001b[1;36m0.0\u001b[0m\u001b[1;33m)\u001b[0m\u001b[1;33m)\u001b[0m \u001b[1;33m>\u001b[0m \u001b[0mself\u001b[0m\u001b[1;33m.\u001b[0m\u001b[0meps\u001b[0m\u001b[1;33m\u001b[0m\u001b[1;33m\u001b[0m\u001b[0m\n\u001b[0m\u001b[0;32m    514\u001b[0m         ]\n\u001b[0;32m    515\u001b[0m \u001b[1;33m\u001b[0m\u001b[0m\n",
      "\u001b[1;32m~\\AppData\\Local\\Continuum\\anaconda3\\lib\\site-packages\\gensim\\models\\tfidfmodel.py\u001b[0m in \u001b[0;36m<listcomp>\u001b[1;34m(.0)\u001b[0m\n\u001b[0;32m    511\u001b[0m         vector = [\n\u001b[0;32m    512\u001b[0m             \u001b[1;33m(\u001b[0m\u001b[0mtermid\u001b[0m\u001b[1;33m,\u001b[0m \u001b[0mtf\u001b[0m \u001b[1;33m*\u001b[0m \u001b[0mself\u001b[0m\u001b[1;33m.\u001b[0m\u001b[0midfs\u001b[0m\u001b[1;33m.\u001b[0m\u001b[0mget\u001b[0m\u001b[1;33m(\u001b[0m\u001b[0mtermid\u001b[0m\u001b[1;33m)\u001b[0m\u001b[1;33m)\u001b[0m\u001b[1;33m\u001b[0m\u001b[1;33m\u001b[0m\u001b[0m\n\u001b[1;32m--> 513\u001b[1;33m             \u001b[1;32mfor\u001b[0m \u001b[0mtermid\u001b[0m\u001b[1;33m,\u001b[0m \u001b[0mtf\u001b[0m \u001b[1;32min\u001b[0m \u001b[0mzip\u001b[0m\u001b[1;33m(\u001b[0m\u001b[0mtermid_array\u001b[0m\u001b[1;33m,\u001b[0m \u001b[0mtf_array\u001b[0m\u001b[1;33m)\u001b[0m \u001b[1;32mif\u001b[0m \u001b[0mabs\u001b[0m\u001b[1;33m(\u001b[0m\u001b[0mself\u001b[0m\u001b[1;33m.\u001b[0m\u001b[0midfs\u001b[0m\u001b[1;33m.\u001b[0m\u001b[0mget\u001b[0m\u001b[1;33m(\u001b[0m\u001b[0mtermid\u001b[0m\u001b[1;33m,\u001b[0m \u001b[1;36m0.0\u001b[0m\u001b[1;33m)\u001b[0m\u001b[1;33m)\u001b[0m \u001b[1;33m>\u001b[0m \u001b[0mself\u001b[0m\u001b[1;33m.\u001b[0m\u001b[0meps\u001b[0m\u001b[1;33m\u001b[0m\u001b[1;33m\u001b[0m\u001b[0m\n\u001b[0m\u001b[0;32m    514\u001b[0m         ]\n\u001b[0;32m    515\u001b[0m \u001b[1;33m\u001b[0m\u001b[0m\n",
      "\u001b[1;31mKeyboardInterrupt\u001b[0m: "
     ]
    }
   ],
   "source": [
    "lda_model_tfidf = gensim.models.LdaMulticore(corpus_tfidf, num_topics=20, id2word=dictionary, passes=2, workers=4)\n",
    "for idx, topic in lda_model_tfidf.print_topics(-1):\n",
    "    print('Topic: {} Word: {}'.format(idx, topic))"
   ]
  },
  {
   "cell_type": "code",
   "execution_count": 52,
   "metadata": {},
   "outputs": [
    {
     "name": "stdout",
     "output_type": "stream",
     "text": [
      "\n",
      "Score: 0.8829119205474854\t \n",
      "Topic: 0.079*\"paint\" + 0.078*\"touch\" + 0.044*\"frame\" + 0.038*\"wall\" + 0.034*\"base\"\n",
      "\n",
      "Score: 0.03016713447868824\t \n",
      "Topic: 0.036*\"remov\" + 0.026*\"rail\" + 0.025*\"tape\" + 0.023*\"repair\" + 0.022*\"sticker\"\n",
      "\n",
      "Score: 0.029294082894921303\t \n",
      "Topic: 0.050*\"instal\" + 0.031*\"protect\" + 0.028*\"window\" + 0.024*\"door\" + 0.023*\"thermostat\"\n",
      "\n",
      "Score: 0.028847090899944305\t \n",
      "Topic: 0.040*\"tile\" + 0.033*\"ceil\" + 0.027*\"light\" + 0.026*\"seal\" + 0.026*\"wall\"\n",
      "\n",
      "Score: 0.02877979166805744\t \n",
      "Topic: 0.011*\"cover\" + 0.011*\"water\" + 0.011*\"provid\" + 0.011*\"plate\" + 0.010*\"panel\"\n"
     ]
    }
   ],
   "source": [
    "#Performance evaluation \n",
    "for index, score in sorted(lda_model_tfidf[bow_corpus[4310]], key=lambda tup: -1*tup[1]):\n",
    "    print(\"\\nScore: {}\\t \\nTopic: {}\".format(score, lda_model_tfidf.print_topic(index, 5)))"
   ]
  }
 ],
 "metadata": {
  "kernelspec": {
   "display_name": "Python 3",
   "language": "python",
   "name": "python3"
  },
  "language_info": {
   "codemirror_mode": {
    "name": "ipython",
    "version": 3
   },
   "file_extension": ".py",
   "mimetype": "text/x-python",
   "name": "python",
   "nbconvert_exporter": "python",
   "pygments_lexer": "ipython3",
   "version": "3.7.4"
  }
 },
 "nbformat": 4,
 "nbformat_minor": 2
}
