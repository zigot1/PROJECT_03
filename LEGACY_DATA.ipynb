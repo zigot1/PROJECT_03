{
 "cells": [
  {
   "cell_type": "code",
   "execution_count": 51,
   "metadata": {},
   "outputs": [],
   "source": [
    "import pandas as pd\n",
    "import numpy as np\n",
    "import math\n",
    "import json\n",
    "import pprint\n",
    "import requests\n",
    "from sqlalchemy import create_engine, inspect\n",
    "from sqlalchemy import Column, Integer, String, Float"
   ]
  },
  {
   "cell_type": "code",
   "execution_count": 64,
   "metadata": {},
   "outputs": [],
   "source": [
    "USER_01_MAPPING = 'resources/raw_data_next_gen/admin_users.csv'\n",
    "PROJECT_01_MAPPING = 'resources/raw_data_next_gen/admin_projects.csv'\n",
    "ISSUE_01_MAPPING = 'resources/raw_data_next_gen/issues_issues.csv'\n",
    "COMPANIES_01_MAPPING = 'resources/raw_data_next_gen/admin_companies.csv'\n",
    "PROJECT_COMPANIES_01_MAPPING = 'resources/raw_data_next_gen/admin_project_companies.csv'\n",
    "BUSINESS_01_MAPPING = 'resources/raw_data_next_gen/admin_business_units.csv'\n",
    "ISSUETYPES_01_MAPPING = 'resources/raw_data_next_gen/issues_issue_types.csv'\n",
    "ISSUESUBTYPES_01_MAPPING = 'resources/raw_data_next_gen/issues_issue_subtypes.csv'\n",
    "\n",
    "##############\n",
    "\n",
    "USER_02_MAPPING = 'resources/raw_data_old_gen/20200330085907_FieldDataHarvest_Users.csv'\n",
    "PROJECT_02_MAPPING = 'resources/raw_data_old_gen/20200330085907_FieldDataHarvest_Projects.csv'\n",
    "ISSUE_02_MAPPING = 'resources/raw_data_old_gen/20200330085907_FieldDataHarvest_Issues.csv'"
   ]
  },
  {
   "cell_type": "code",
   "execution_count": 65,
   "metadata": {},
   "outputs": [],
   "source": [
    "U1_DF = pd.read_csv(USER_01_MAPPING, encoding='utf-8', low_memory=False)\n",
    "P1_DF = pd.read_csv(PROJECT_01_MAPPING, encoding='utf-8', low_memory=False)\n",
    "I1_DF = pd.read_csv(ISSUE_01_MAPPING, encoding='latin1', low_memory=False)\n",
    "C1_DF = pd.read_csv(COMPANIES_01_MAPPING, encoding='latin1', low_memory=False)\n",
    "PC1_DF = pd.read_csv(PROJECT_COMPANIES_01_MAPPING, encoding='latin1', low_memory=False)\n",
    "B1_DF = pd.read_csv(BUSINESS_01_MAPPING, encoding='latin1', low_memory=False)\n",
    "IT1_DF = pd.read_csv(ISSUETYPES_01_MAPPING, encoding='latin1', low_memory=False)\n",
    "IST1_DF = pd.read_csv(ISSUESUBTYPES_01_MAPPING, encoding='latin1', low_memory=False)\n",
    "\n",
    "U2_DF = pd.read_csv(USER_02_MAPPING, encoding='utf-8', low_memory=False)\n",
    "P2_DF = pd.read_csv(PROJECT_02_MAPPING, encoding='utf-8', low_memory=False)\n",
    "I2_DF = pd.read_csv(ISSUE_02_MAPPING, encoding='latin1', low_memory=False)\n"
   ]
  },
  {
   "cell_type": "code",
   "execution_count": 4,
   "metadata": {},
   "outputs": [],
   "source": [
    "U1_DF['domain']= U1_DF['email'].str.split('@').str[1]\n",
    "len(U1_DF['domain'].unique())\n",
    "domain_A = U1_DF['domain'].unique()"
   ]
  },
  {
   "cell_type": "code",
   "execution_count": 102,
   "metadata": {},
   "outputs": [],
   "source": [
    "#domain_A[1].split('.')[0]"
   ]
  },
  {
   "cell_type": "code",
   "execution_count": 103,
   "metadata": {},
   "outputs": [],
   "source": [
    "# temp_DF = U1_DF.loc[U1_DF['domain']==domain_A[16]]\n",
    "# temp_DF\n",
    "# LIST_D=[]\n",
    "# LIST_D = temp_DF.loc[temp_DF['default_company_id'].notnull()]['default_company_id'] \n",
    "#res = max(set(LIST_D), key = LIST_D.count) "
   ]
  },
  {
   "cell_type": "code",
   "execution_count": 104,
   "metadata": {},
   "outputs": [],
   "source": [
    "# x = LIST_D.value_counts().idxmax()"
   ]
  },
  {
   "cell_type": "code",
   "execution_count": 118,
   "metadata": {},
   "outputs": [
    {
     "name": "stdout",
     "output_type": "stream",
     "text": [
      "NEW GROUP-----------------------------------------------------\n"
     ]
    }
   ],
   "source": [
    "\n",
    "r = 0\n",
    "#for index, row in U1_DF.iterrows():\n",
    "\n",
    "for i in range (1, len(domain_A)):\n",
    "    LIST_D=[]\n",
    "    r = r + 1\n",
    "    temp_DF = U1_DF.loc[U1_DF['domain']==domain_A[i]]\n",
    "        \n",
    "        #LIST_D = temp_DF.loc[temp_DF['default_company_id'].notnull()]\n",
    "        \n",
    "    LIST_D = temp_DF.loc[temp_DF['default_company_id'].notnull()]['default_company_id']\n",
    "    if len(LIST_D) > 0:\n",
    "        comp_id = LIST_D.value_counts().idxmax()\n",
    "#         print(\"LIST of DOMAINS....\",LIST_D)\n",
    "        for index, row in temp_DF.iterrows():\n",
    "            rowIndex = (index)\n",
    "        \n",
    "            if domain_A[i]>'':\n",
    "                d_value = str(domain_A[i])\n",
    "                if (d_value.split('.')[0]) not in ['gmail','outlook','yahoo','msn','swbell','comcast','icloud','charter']:\n",
    "        \n",
    "#                     print (r,'.....', d_value, '----------GROUP----------------------------')\n",
    "#                     for index, row in temp_DF.iterrows():\n",
    "                    x1 = (row['domain'])\n",
    "                    x2 = (row['default_company_id'])\n",
    "#                     print(x2)\n",
    "                    \n",
    "                    if type(x2) == float:\n",
    "                        U1_DF.loc[rowIndex, 'default_company_id'] = comp_id\n",
    "                        print(rowIndex, x1,'.......',x2)\n",
    "        \n",
    "print ('NEW GROUP-----------------------------------------------------')"
   ]
  },
  {
   "cell_type": "code",
   "execution_count": 95,
   "metadata": {},
   "outputs": [],
   "source": [
    "#######################################################\n",
    "P1_DF.rename(columns = {\"id\" : \"project_id\"}, inplace=True)\n",
    "PC1_DF.rename(columns = {\"company_id\" : \"default_company_id\"}, inplace=True)\n",
    "I1_DF.rename(columns = {\"bim360_project_id\":\"project_id\"}, inplace=True)\n",
    "C1_DF.rename(columns = {\"id\" : \"default_company_id\"}, inplace=True)"
   ]
  },
  {
   "cell_type": "code",
   "execution_count": 122,
   "metadata": {},
   "outputs": [],
   "source": [
    "C1_DF.to_csv('cleaned_companies.csv')"
   ]
  },
  {
   "cell_type": "code",
   "execution_count": 20,
   "metadata": {},
   "outputs": [
    {
     "data": {
      "text/plain": [
       "id                             9341\n",
       "autodesk_id                    6769\n",
       "bim360_account_id              9341\n",
       "email                          9303\n",
       "name                           9341\n",
       "first_name                     9341\n",
       "last_name                      9341\n",
       "address_line1                   253\n",
       "address_line2                    55\n",
       "city                            314\n",
       "state_or_province               436\n",
       "postal_code                     271\n",
       "country                        9327\n",
       "last_sign_in                   3101\n",
       "phone                           324\n",
       "job_title                       444\n",
       "access_level_account_admin     9341\n",
       "access_level_project_admin     9341\n",
       "access_level_project_member    9341\n",
       "access_level_executive         9341\n",
       "default_role_id                 919\n",
       "default_company_id             3617\n",
       "dtype: int64"
      ]
     },
     "execution_count": 20,
     "metadata": {},
     "output_type": "execute_result"
    }
   ],
   "source": [
    "U1_DF.count()"
   ]
  },
  {
   "cell_type": "code",
   "execution_count": 12,
   "metadata": {},
   "outputs": [],
   "source": [
    "MERGED_PI_NEW = pd.merge(P1_DF, I1_DF, on ='project_id', how='inner')\n",
    "\n",
    "#MERGED_UC_NEW = pd.merge(U1_DF, C1_DF, on ='default_company_id', how='right')\n",
    "#MERGED_PUC_NEW = pd.merge(PC1_DF, MERGED_UC_NEW, on ='default_company_id', how='inner')"
   ]
  },
  {
   "cell_type": "code",
   "execution_count": 78,
   "metadata": {},
   "outputs": [],
   "source": [
    "#MERGED_PI_NEW.count()"
   ]
  },
  {
   "cell_type": "code",
   "execution_count": 34,
   "metadata": {},
   "outputs": [],
   "source": [
    "# Working_OLD_DataFrame\n",
    "W_NEW_PI_DF = MERGED_PI_NEW[['project_id',\n",
    "                   'name',\n",
    "                   'title',\n",
    "                   'description',\n",
    "                   'type_id',\n",
    "                   'subtype_id',\n",
    "                   'assignee_id',\n",
    "                   'job_number',\n",
    "                   'type',\n",
    "                   'value',\n",
    "                   'city',\n",
    "                   'state_or_province',\n",
    "                   'postal_code']].copy()"
   ]
  },
  {
   "cell_type": "code",
   "execution_count": 35,
   "metadata": {},
   "outputs": [
    {
     "data": {
      "text/html": [
       "<div>\n",
       "<style scoped>\n",
       "    .dataframe tbody tr th:only-of-type {\n",
       "        vertical-align: middle;\n",
       "    }\n",
       "\n",
       "    .dataframe tbody tr th {\n",
       "        vertical-align: top;\n",
       "    }\n",
       "\n",
       "    .dataframe thead th {\n",
       "        text-align: right;\n",
       "    }\n",
       "</style>\n",
       "<table border=\"1\" class=\"dataframe\">\n",
       "  <thead>\n",
       "    <tr style=\"text-align: right;\">\n",
       "      <th></th>\n",
       "      <th>project_id</th>\n",
       "      <th>name</th>\n",
       "      <th>title</th>\n",
       "      <th>description</th>\n",
       "      <th>issue_type_id</th>\n",
       "      <th>subtype_id</th>\n",
       "      <th>assignee_id</th>\n",
       "      <th>job_number</th>\n",
       "      <th>type</th>\n",
       "      <th>value</th>\n",
       "      <th>city</th>\n",
       "      <th>state_or_province</th>\n",
       "      <th>postal_code</th>\n",
       "    </tr>\n",
       "  </thead>\n",
       "  <tbody>\n",
       "    <tr>\n",
       "      <th>0</th>\n",
       "      <td>373096cf-bb05-4c80-8cfe-aa4f978ef5d0</td>\n",
       "      <td>00000_Mercy_Hospital_Springfield_Pharmacy</td>\n",
       "      <td>Scan_043_044_High_Low</td>\n",
       "      <td>NaN</td>\n",
       "      <td>fcad3025-f61e-4b23-9aca-fe550600b014</td>\n",
       "      <td>51ee74cd-a8fc-4acf-b665-1e6097c123bd</td>\n",
       "      <td>200810021927646</td>\n",
       "      <td>Unknown</td>\n",
       "      <td>Hospital</td>\n",
       "      <td>1000000.0</td>\n",
       "      <td>Springfield</td>\n",
       "      <td>MO</td>\n",
       "      <td>65804</td>\n",
       "    </tr>\n",
       "    <tr>\n",
       "      <th>1</th>\n",
       "      <td>373096cf-bb05-4c80-8cfe-aa4f978ef5d0</td>\n",
       "      <td>00000_Mercy_Hospital_Springfield_Pharmacy</td>\n",
       "      <td>Scan_007_Low</td>\n",
       "      <td>NaN</td>\n",
       "      <td>fcad3025-f61e-4b23-9aca-fe550600b014</td>\n",
       "      <td>51ee74cd-a8fc-4acf-b665-1e6097c123bd</td>\n",
       "      <td>200810021927646</td>\n",
       "      <td>Unknown</td>\n",
       "      <td>Hospital</td>\n",
       "      <td>1000000.0</td>\n",
       "      <td>Springfield</td>\n",
       "      <td>MO</td>\n",
       "      <td>65804</td>\n",
       "    </tr>\n",
       "    <tr>\n",
       "      <th>2</th>\n",
       "      <td>373096cf-bb05-4c80-8cfe-aa4f978ef5d0</td>\n",
       "      <td>00000_Mercy_Hospital_Springfield_Pharmacy</td>\n",
       "      <td>Scan_019_020_High_Low</td>\n",
       "      <td>NaN</td>\n",
       "      <td>fcad3025-f61e-4b23-9aca-fe550600b014</td>\n",
       "      <td>51ee74cd-a8fc-4acf-b665-1e6097c123bd</td>\n",
       "      <td>200810021927646</td>\n",
       "      <td>Unknown</td>\n",
       "      <td>Hospital</td>\n",
       "      <td>1000000.0</td>\n",
       "      <td>Springfield</td>\n",
       "      <td>MO</td>\n",
       "      <td>65804</td>\n",
       "    </tr>\n",
       "    <tr>\n",
       "      <th>3</th>\n",
       "      <td>373096cf-bb05-4c80-8cfe-aa4f978ef5d0</td>\n",
       "      <td>00000_Mercy_Hospital_Springfield_Pharmacy</td>\n",
       "      <td>Scan_021_022_High_Low</td>\n",
       "      <td>NaN</td>\n",
       "      <td>fcad3025-f61e-4b23-9aca-fe550600b014</td>\n",
       "      <td>51ee74cd-a8fc-4acf-b665-1e6097c123bd</td>\n",
       "      <td>200810021927646</td>\n",
       "      <td>Unknown</td>\n",
       "      <td>Hospital</td>\n",
       "      <td>1000000.0</td>\n",
       "      <td>Springfield</td>\n",
       "      <td>MO</td>\n",
       "      <td>65804</td>\n",
       "    </tr>\n",
       "    <tr>\n",
       "      <th>4</th>\n",
       "      <td>373096cf-bb05-4c80-8cfe-aa4f978ef5d0</td>\n",
       "      <td>00000_Mercy_Hospital_Springfield_Pharmacy</td>\n",
       "      <td>Scan_041_042_High_Low</td>\n",
       "      <td>NaN</td>\n",
       "      <td>fcad3025-f61e-4b23-9aca-fe550600b014</td>\n",
       "      <td>51ee74cd-a8fc-4acf-b665-1e6097c123bd</td>\n",
       "      <td>200810021927646</td>\n",
       "      <td>Unknown</td>\n",
       "      <td>Hospital</td>\n",
       "      <td>1000000.0</td>\n",
       "      <td>Springfield</td>\n",
       "      <td>MO</td>\n",
       "      <td>65804</td>\n",
       "    </tr>\n",
       "  </tbody>\n",
       "</table>\n",
       "</div>"
      ],
      "text/plain": [
       "                             project_id  \\\n",
       "0  373096cf-bb05-4c80-8cfe-aa4f978ef5d0   \n",
       "1  373096cf-bb05-4c80-8cfe-aa4f978ef5d0   \n",
       "2  373096cf-bb05-4c80-8cfe-aa4f978ef5d0   \n",
       "3  373096cf-bb05-4c80-8cfe-aa4f978ef5d0   \n",
       "4  373096cf-bb05-4c80-8cfe-aa4f978ef5d0   \n",
       "\n",
       "                                        name                  title  \\\n",
       "0  00000_Mercy_Hospital_Springfield_Pharmacy  Scan_043_044_High_Low   \n",
       "1  00000_Mercy_Hospital_Springfield_Pharmacy           Scan_007_Low   \n",
       "2  00000_Mercy_Hospital_Springfield_Pharmacy  Scan_019_020_High_Low   \n",
       "3  00000_Mercy_Hospital_Springfield_Pharmacy  Scan_021_022_High_Low   \n",
       "4  00000_Mercy_Hospital_Springfield_Pharmacy  Scan_041_042_High_Low   \n",
       "\n",
       "  description                         issue_type_id  \\\n",
       "0         NaN  fcad3025-f61e-4b23-9aca-fe550600b014   \n",
       "1         NaN  fcad3025-f61e-4b23-9aca-fe550600b014   \n",
       "2         NaN  fcad3025-f61e-4b23-9aca-fe550600b014   \n",
       "3         NaN  fcad3025-f61e-4b23-9aca-fe550600b014   \n",
       "4         NaN  fcad3025-f61e-4b23-9aca-fe550600b014   \n",
       "\n",
       "                             subtype_id      assignee_id job_number      type  \\\n",
       "0  51ee74cd-a8fc-4acf-b665-1e6097c123bd  200810021927646    Unknown  Hospital   \n",
       "1  51ee74cd-a8fc-4acf-b665-1e6097c123bd  200810021927646    Unknown  Hospital   \n",
       "2  51ee74cd-a8fc-4acf-b665-1e6097c123bd  200810021927646    Unknown  Hospital   \n",
       "3  51ee74cd-a8fc-4acf-b665-1e6097c123bd  200810021927646    Unknown  Hospital   \n",
       "4  51ee74cd-a8fc-4acf-b665-1e6097c123bd  200810021927646    Unknown  Hospital   \n",
       "\n",
       "       value         city state_or_province postal_code  \n",
       "0  1000000.0  Springfield                MO       65804  \n",
       "1  1000000.0  Springfield                MO       65804  \n",
       "2  1000000.0  Springfield                MO       65804  \n",
       "3  1000000.0  Springfield                MO       65804  \n",
       "4  1000000.0  Springfield                MO       65804  "
      ]
     },
     "execution_count": 35,
     "metadata": {},
     "output_type": "execute_result"
    }
   ],
   "source": [
    "W_NEW_PI_DF.rename(columns = {\"type_id\" : \"issue_type_id\"}, inplace=True)\n",
    "W_NEW_PI_DF.head()"
   ]
  },
  {
   "cell_type": "code",
   "execution_count": 66,
   "metadata": {},
   "outputs": [
    {
     "data": {
      "text/plain": [
       "issue_type_id        3638\n",
       "bim360_account_id    3638\n",
       "bim360_project_id    3638\n",
       "issue_type           3638\n",
       "is_active            3638\n",
       "created_by           3266\n",
       "created_at           3638\n",
       "updated_by           3290\n",
       "updated_at           3638\n",
       "deleted_by              0\n",
       "deleted_at              0\n",
       "dtype: int64"
      ]
     },
     "execution_count": 66,
     "metadata": {},
     "output_type": "execute_result"
    }
   ],
   "source": [
    "IT1_DF.count()"
   ]
  },
  {
   "cell_type": "code",
   "execution_count": 58,
   "metadata": {},
   "outputs": [],
   "source": [
    "MERGED_PIIT_NEW = pd.merge(W_NEW_PI_DF, IT1_DF, on ='issue_type_id', how='inner')"
   ]
  },
  {
   "cell_type": "code",
   "execution_count": 59,
   "metadata": {},
   "outputs": [
    {
     "data": {
      "text/html": [
       "<div>\n",
       "<style scoped>\n",
       "    .dataframe tbody tr th:only-of-type {\n",
       "        vertical-align: middle;\n",
       "    }\n",
       "\n",
       "    .dataframe tbody tr th {\n",
       "        vertical-align: top;\n",
       "    }\n",
       "\n",
       "    .dataframe thead th {\n",
       "        text-align: right;\n",
       "    }\n",
       "</style>\n",
       "<table border=\"1\" class=\"dataframe\">\n",
       "  <thead>\n",
       "    <tr style=\"text-align: right;\">\n",
       "      <th></th>\n",
       "      <th>project_id</th>\n",
       "      <th>name</th>\n",
       "      <th>title</th>\n",
       "      <th>description</th>\n",
       "      <th>issue_type_id</th>\n",
       "      <th>subtype_id</th>\n",
       "      <th>assignee_id</th>\n",
       "      <th>job_number</th>\n",
       "      <th>type</th>\n",
       "      <th>value</th>\n",
       "      <th>...</th>\n",
       "      <th>bim360_account_id</th>\n",
       "      <th>bim360_project_id</th>\n",
       "      <th>issue_type</th>\n",
       "      <th>is_active</th>\n",
       "      <th>created_by</th>\n",
       "      <th>created_at</th>\n",
       "      <th>updated_by</th>\n",
       "      <th>updated_at</th>\n",
       "      <th>deleted_by</th>\n",
       "      <th>deleted_at</th>\n",
       "    </tr>\n",
       "  </thead>\n",
       "  <tbody>\n",
       "    <tr>\n",
       "      <th>0</th>\n",
       "      <td>373096cf-bb05-4c80-8cfe-aa4f978ef5d0</td>\n",
       "      <td>00000_Mercy_Hospital_Springfield_Pharmacy</td>\n",
       "      <td>Scan_043_044_High_Low</td>\n",
       "      <td>NaN</td>\n",
       "      <td>fcad3025-f61e-4b23-9aca-fe550600b014</td>\n",
       "      <td>51ee74cd-a8fc-4acf-b665-1e6097c123bd</td>\n",
       "      <td>200810021927646</td>\n",
       "      <td>Unknown</td>\n",
       "      <td>Hospital</td>\n",
       "      <td>1000000.0</td>\n",
       "      <td>...</td>\n",
       "      <td>49df69ab-c266-4d49-951c-031b16f7a31f</td>\n",
       "      <td>373096cf-bb05-4c80-8cfe-aa4f978ef5d0</td>\n",
       "      <td>Observation</td>\n",
       "      <td>t</td>\n",
       "      <td>System</td>\n",
       "      <td>2019-05-15 20:05:30.04</td>\n",
       "      <td>System</td>\n",
       "      <td>2019-05-15 20:05:30.04</td>\n",
       "      <td>NaN</td>\n",
       "      <td>NaN</td>\n",
       "    </tr>\n",
       "    <tr>\n",
       "      <th>1</th>\n",
       "      <td>373096cf-bb05-4c80-8cfe-aa4f978ef5d0</td>\n",
       "      <td>00000_Mercy_Hospital_Springfield_Pharmacy</td>\n",
       "      <td>Scan_007_Low</td>\n",
       "      <td>NaN</td>\n",
       "      <td>fcad3025-f61e-4b23-9aca-fe550600b014</td>\n",
       "      <td>51ee74cd-a8fc-4acf-b665-1e6097c123bd</td>\n",
       "      <td>200810021927646</td>\n",
       "      <td>Unknown</td>\n",
       "      <td>Hospital</td>\n",
       "      <td>1000000.0</td>\n",
       "      <td>...</td>\n",
       "      <td>49df69ab-c266-4d49-951c-031b16f7a31f</td>\n",
       "      <td>373096cf-bb05-4c80-8cfe-aa4f978ef5d0</td>\n",
       "      <td>Observation</td>\n",
       "      <td>t</td>\n",
       "      <td>System</td>\n",
       "      <td>2019-05-15 20:05:30.04</td>\n",
       "      <td>System</td>\n",
       "      <td>2019-05-15 20:05:30.04</td>\n",
       "      <td>NaN</td>\n",
       "      <td>NaN</td>\n",
       "    </tr>\n",
       "    <tr>\n",
       "      <th>2</th>\n",
       "      <td>373096cf-bb05-4c80-8cfe-aa4f978ef5d0</td>\n",
       "      <td>00000_Mercy_Hospital_Springfield_Pharmacy</td>\n",
       "      <td>Scan_019_020_High_Low</td>\n",
       "      <td>NaN</td>\n",
       "      <td>fcad3025-f61e-4b23-9aca-fe550600b014</td>\n",
       "      <td>51ee74cd-a8fc-4acf-b665-1e6097c123bd</td>\n",
       "      <td>200810021927646</td>\n",
       "      <td>Unknown</td>\n",
       "      <td>Hospital</td>\n",
       "      <td>1000000.0</td>\n",
       "      <td>...</td>\n",
       "      <td>49df69ab-c266-4d49-951c-031b16f7a31f</td>\n",
       "      <td>373096cf-bb05-4c80-8cfe-aa4f978ef5d0</td>\n",
       "      <td>Observation</td>\n",
       "      <td>t</td>\n",
       "      <td>System</td>\n",
       "      <td>2019-05-15 20:05:30.04</td>\n",
       "      <td>System</td>\n",
       "      <td>2019-05-15 20:05:30.04</td>\n",
       "      <td>NaN</td>\n",
       "      <td>NaN</td>\n",
       "    </tr>\n",
       "    <tr>\n",
       "      <th>3</th>\n",
       "      <td>373096cf-bb05-4c80-8cfe-aa4f978ef5d0</td>\n",
       "      <td>00000_Mercy_Hospital_Springfield_Pharmacy</td>\n",
       "      <td>Scan_021_022_High_Low</td>\n",
       "      <td>NaN</td>\n",
       "      <td>fcad3025-f61e-4b23-9aca-fe550600b014</td>\n",
       "      <td>51ee74cd-a8fc-4acf-b665-1e6097c123bd</td>\n",
       "      <td>200810021927646</td>\n",
       "      <td>Unknown</td>\n",
       "      <td>Hospital</td>\n",
       "      <td>1000000.0</td>\n",
       "      <td>...</td>\n",
       "      <td>49df69ab-c266-4d49-951c-031b16f7a31f</td>\n",
       "      <td>373096cf-bb05-4c80-8cfe-aa4f978ef5d0</td>\n",
       "      <td>Observation</td>\n",
       "      <td>t</td>\n",
       "      <td>System</td>\n",
       "      <td>2019-05-15 20:05:30.04</td>\n",
       "      <td>System</td>\n",
       "      <td>2019-05-15 20:05:30.04</td>\n",
       "      <td>NaN</td>\n",
       "      <td>NaN</td>\n",
       "    </tr>\n",
       "    <tr>\n",
       "      <th>4</th>\n",
       "      <td>373096cf-bb05-4c80-8cfe-aa4f978ef5d0</td>\n",
       "      <td>00000_Mercy_Hospital_Springfield_Pharmacy</td>\n",
       "      <td>Scan_041_042_High_Low</td>\n",
       "      <td>NaN</td>\n",
       "      <td>fcad3025-f61e-4b23-9aca-fe550600b014</td>\n",
       "      <td>51ee74cd-a8fc-4acf-b665-1e6097c123bd</td>\n",
       "      <td>200810021927646</td>\n",
       "      <td>Unknown</td>\n",
       "      <td>Hospital</td>\n",
       "      <td>1000000.0</td>\n",
       "      <td>...</td>\n",
       "      <td>49df69ab-c266-4d49-951c-031b16f7a31f</td>\n",
       "      <td>373096cf-bb05-4c80-8cfe-aa4f978ef5d0</td>\n",
       "      <td>Observation</td>\n",
       "      <td>t</td>\n",
       "      <td>System</td>\n",
       "      <td>2019-05-15 20:05:30.04</td>\n",
       "      <td>System</td>\n",
       "      <td>2019-05-15 20:05:30.04</td>\n",
       "      <td>NaN</td>\n",
       "      <td>NaN</td>\n",
       "    </tr>\n",
       "  </tbody>\n",
       "</table>\n",
       "<p>5 rows × 23 columns</p>\n",
       "</div>"
      ],
      "text/plain": [
       "                             project_id  \\\n",
       "0  373096cf-bb05-4c80-8cfe-aa4f978ef5d0   \n",
       "1  373096cf-bb05-4c80-8cfe-aa4f978ef5d0   \n",
       "2  373096cf-bb05-4c80-8cfe-aa4f978ef5d0   \n",
       "3  373096cf-bb05-4c80-8cfe-aa4f978ef5d0   \n",
       "4  373096cf-bb05-4c80-8cfe-aa4f978ef5d0   \n",
       "\n",
       "                                        name                  title  \\\n",
       "0  00000_Mercy_Hospital_Springfield_Pharmacy  Scan_043_044_High_Low   \n",
       "1  00000_Mercy_Hospital_Springfield_Pharmacy           Scan_007_Low   \n",
       "2  00000_Mercy_Hospital_Springfield_Pharmacy  Scan_019_020_High_Low   \n",
       "3  00000_Mercy_Hospital_Springfield_Pharmacy  Scan_021_022_High_Low   \n",
       "4  00000_Mercy_Hospital_Springfield_Pharmacy  Scan_041_042_High_Low   \n",
       "\n",
       "  description                         issue_type_id  \\\n",
       "0         NaN  fcad3025-f61e-4b23-9aca-fe550600b014   \n",
       "1         NaN  fcad3025-f61e-4b23-9aca-fe550600b014   \n",
       "2         NaN  fcad3025-f61e-4b23-9aca-fe550600b014   \n",
       "3         NaN  fcad3025-f61e-4b23-9aca-fe550600b014   \n",
       "4         NaN  fcad3025-f61e-4b23-9aca-fe550600b014   \n",
       "\n",
       "                             subtype_id      assignee_id job_number      type  \\\n",
       "0  51ee74cd-a8fc-4acf-b665-1e6097c123bd  200810021927646    Unknown  Hospital   \n",
       "1  51ee74cd-a8fc-4acf-b665-1e6097c123bd  200810021927646    Unknown  Hospital   \n",
       "2  51ee74cd-a8fc-4acf-b665-1e6097c123bd  200810021927646    Unknown  Hospital   \n",
       "3  51ee74cd-a8fc-4acf-b665-1e6097c123bd  200810021927646    Unknown  Hospital   \n",
       "4  51ee74cd-a8fc-4acf-b665-1e6097c123bd  200810021927646    Unknown  Hospital   \n",
       "\n",
       "       value  ...                     bim360_account_id  \\\n",
       "0  1000000.0  ...  49df69ab-c266-4d49-951c-031b16f7a31f   \n",
       "1  1000000.0  ...  49df69ab-c266-4d49-951c-031b16f7a31f   \n",
       "2  1000000.0  ...  49df69ab-c266-4d49-951c-031b16f7a31f   \n",
       "3  1000000.0  ...  49df69ab-c266-4d49-951c-031b16f7a31f   \n",
       "4  1000000.0  ...  49df69ab-c266-4d49-951c-031b16f7a31f   \n",
       "\n",
       "                      bim360_project_id   issue_type is_active created_by  \\\n",
       "0  373096cf-bb05-4c80-8cfe-aa4f978ef5d0  Observation         t     System   \n",
       "1  373096cf-bb05-4c80-8cfe-aa4f978ef5d0  Observation         t     System   \n",
       "2  373096cf-bb05-4c80-8cfe-aa4f978ef5d0  Observation         t     System   \n",
       "3  373096cf-bb05-4c80-8cfe-aa4f978ef5d0  Observation         t     System   \n",
       "4  373096cf-bb05-4c80-8cfe-aa4f978ef5d0  Observation         t     System   \n",
       "\n",
       "               created_at updated_by              updated_at deleted_by  \\\n",
       "0  2019-05-15 20:05:30.04     System  2019-05-15 20:05:30.04        NaN   \n",
       "1  2019-05-15 20:05:30.04     System  2019-05-15 20:05:30.04        NaN   \n",
       "2  2019-05-15 20:05:30.04     System  2019-05-15 20:05:30.04        NaN   \n",
       "3  2019-05-15 20:05:30.04     System  2019-05-15 20:05:30.04        NaN   \n",
       "4  2019-05-15 20:05:30.04     System  2019-05-15 20:05:30.04        NaN   \n",
       "\n",
       "  deleted_at  \n",
       "0        NaN  \n",
       "1        NaN  \n",
       "2        NaN  \n",
       "3        NaN  \n",
       "4        NaN  \n",
       "\n",
       "[5 rows x 23 columns]"
      ]
     },
     "execution_count": 59,
     "metadata": {},
     "output_type": "execute_result"
    }
   ],
   "source": [
    "MERGED_PIIT_NEW.head()"
   ]
  },
  {
   "cell_type": "code",
   "execution_count": 60,
   "metadata": {},
   "outputs": [
    {
     "data": {
      "text/plain": [
       "project_id           59084\n",
       "name                 59084\n",
       "title                59084\n",
       "description          23200\n",
       "issue_type_id        59084\n",
       "subtype_id           59084\n",
       "assignee_id          52446\n",
       "job_number           57085\n",
       "type                 59084\n",
       "value                57593\n",
       "city                 42841\n",
       "state_or_province    42592\n",
       "postal_code          42401\n",
       "issue_type           59084\n",
       "dtype: int64"
      ]
     },
     "execution_count": 60,
     "metadata": {},
     "output_type": "execute_result"
    }
   ],
   "source": [
    "MERGED_PIIT_NEW.drop(['is_active','created_by','created_at','updated_by','updated_at','bim360_account_id','bim360_project_id','deleted_by','deleted_at'],inplace=True, axis=1)\n",
    "MERGED_PIIT_NEW.count()"
   ]
  },
  {
   "cell_type": "code",
   "execution_count": 61,
   "metadata": {},
   "outputs": [],
   "source": [
    "MERGED_PIIT_NEW.rename(columns = {\"subtype_id\" : \"issue_subtype_id\"}, inplace=True)\n",
    "\n"
   ]
  },
  {
   "cell_type": "code",
   "execution_count": 71,
   "metadata": {},
   "outputs": [
    {
     "data": {
      "text/plain": [
       "3638"
      ]
     },
     "execution_count": 71,
     "metadata": {},
     "output_type": "execute_result"
    }
   ],
   "source": [
    "len(IST1_DF['issue_type_id'].unique())"
   ]
  },
  {
   "cell_type": "code",
   "execution_count": 111,
   "metadata": {},
   "outputs": [],
   "source": [
    "#MERGED_PIIT_NEW.count()\n",
    "MERGED_PIIST_NEW = pd.merge(MERGED_PIIT_NEW, IST1_DF, on ='issue_subtype_id', how='inner')"
   ]
  },
  {
   "cell_type": "code",
   "execution_count": 112,
   "metadata": {},
   "outputs": [],
   "source": [
    "MERGED_PIIST_NEW.drop(['issue_type_id_x',\n",
    "                       'issue_subtype_id',\n",
    "                       'issue_type_id_y',\n",
    "                       'is_active',\n",
    "                       'created_by',\n",
    "                       'created_at',\n",
    "                       'updated_by',\n",
    "                       'updated_at',\n",
    "                       'deleted_by',\n",
    "                       'deleted_at',\n",
    "                       'bim360_account_id',\n",
    "                       'bim360_project_id'],inplace=True, axis=1)"
   ]
  },
  {
   "cell_type": "code",
   "execution_count": 113,
   "metadata": {},
   "outputs": [
    {
     "data": {
      "text/plain": [
       "project_id           59084\n",
       "name                 59084\n",
       "title                59084\n",
       "description          23200\n",
       "assignee_id          52446\n",
       "job_number           57085\n",
       "type                 59084\n",
       "value                57593\n",
       "city                 42841\n",
       "state_or_province    42592\n",
       "postal_code          42401\n",
       "issue_type           59084\n",
       "issue_subtype        59084\n",
       "dtype: int64"
      ]
     },
     "execution_count": 113,
     "metadata": {},
     "output_type": "execute_result"
    }
   ],
   "source": [
    "MERGED_PIIST_NEW.count()"
   ]
  },
  {
   "cell_type": "code",
   "execution_count": 80,
   "metadata": {},
   "outputs": [],
   "source": [
    "#MERGED_PUC_NEW.head()\n",
    "MERGED_PIIST_NEW.to_csv('NEW_PIIST.csv')\n",
    "\n",
    "#MERGED_PUC_NEW.rename(columns = {\"id\" : \"project_id\"}, inplace=True)"
   ]
  },
  {
   "cell_type": "code",
   "execution_count": 11,
   "metadata": {},
   "outputs": [],
   "source": [
    "#MERGED_PI_NEW.head()"
   ]
  },
  {
   "cell_type": "code",
   "execution_count": 12,
   "metadata": {},
   "outputs": [],
   "source": [
    "#MERGED_PIUC_NEW = pd.merge(P1_DF,MERGED_PUC_NEW, on ='project_id', how = 'right')"
   ]
  },
  {
   "cell_type": "code",
   "execution_count": 8,
   "metadata": {},
   "outputs": [
    {
     "data": {
      "text/plain": [
       "773"
      ]
     },
     "execution_count": 8,
     "metadata": {},
     "output_type": "execute_result"
    }
   ],
   "source": [
    "PC1_DF.count()\n",
    "len(PC1_DF['project_id'].unique())"
   ]
  },
  {
   "cell_type": "code",
   "execution_count": 14,
   "metadata": {},
   "outputs": [
    {
     "data": {
      "text/plain": [
       "pandas.core.frame.DataFrame"
      ]
     },
     "execution_count": 14,
     "metadata": {},
     "output_type": "execute_result"
    }
   ],
   "source": [
    "type(MERGED_PUC_NEW)"
   ]
  },
  {
   "cell_type": "code",
   "execution_count": 9,
   "metadata": {},
   "outputs": [
    {
     "data": {
      "text/plain": [
       "3577"
      ]
     },
     "execution_count": 9,
     "metadata": {},
     "output_type": "execute_result"
    }
   ],
   "source": [
    "len(MERGED_PUC_NEW['email'].unique())"
   ]
  },
  {
   "cell_type": "code",
   "execution_count": 15,
   "metadata": {},
   "outputs": [
    {
     "data": {
      "text/html": [
       "<div>\n",
       "<style scoped>\n",
       "    .dataframe tbody tr th:only-of-type {\n",
       "        vertical-align: middle;\n",
       "    }\n",
       "\n",
       "    .dataframe tbody tr th {\n",
       "        vertical-align: top;\n",
       "    }\n",
       "\n",
       "    .dataframe thead th {\n",
       "        text-align: right;\n",
       "    }\n",
       "</style>\n",
       "<table border=\"1\" class=\"dataframe\">\n",
       "  <thead>\n",
       "    <tr style=\"text-align: right;\">\n",
       "      <th></th>\n",
       "      <th>project_id</th>\n",
       "      <th>autodesk_id</th>\n",
       "      <th>bim360_account_id_x</th>\n",
       "      <th>email</th>\n",
       "      <th>name_x</th>\n",
       "      <th>first_name</th>\n",
       "      <th>last_name</th>\n",
       "      <th>address_line1_x</th>\n",
       "      <th>address_line2_x</th>\n",
       "      <th>city_x</th>\n",
       "      <th>...</th>\n",
       "      <th>description</th>\n",
       "      <th>erp_id</th>\n",
       "      <th>tax_id</th>\n",
       "      <th>status</th>\n",
       "      <th>created_at</th>\n",
       "      <th>project_size</th>\n",
       "      <th>user_size</th>\n",
       "      <th>custom_properties</th>\n",
       "      <th>project_id</th>\n",
       "      <th>bim360_account_id</th>\n",
       "    </tr>\n",
       "  </thead>\n",
       "  <tbody>\n",
       "    <tr>\n",
       "      <th>0</th>\n",
       "      <td>00727ac6-e54e-4cdf-ba01-68a7f532a1b1</td>\n",
       "      <td>8G6GKJXN5UM5</td>\n",
       "      <td>49df69ab-c266-4d49-951c-031b16f7a31f</td>\n",
       "      <td>djokela@vortexchicago.com</td>\n",
       "      <td>Danielle Jokela</td>\n",
       "      <td>Danielle</td>\n",
       "      <td>Jokela</td>\n",
       "      <td>NaN</td>\n",
       "      <td>NaN</td>\n",
       "      <td>NaN</td>\n",
       "      <td>...</td>\n",
       "      <td>Vortex Commercial Flooring</td>\n",
       "      <td>NaN</td>\n",
       "      <td>NaN</td>\n",
       "      <td>NaN</td>\n",
       "      <td>2015-08-27 02:38:53.855536</td>\n",
       "      <td>5.0</td>\n",
       "      <td>0.0</td>\n",
       "      <td>NaN</td>\n",
       "      <td>47a45a6d-33c7-45b5-a648-e2b6e03377ce</td>\n",
       "      <td>49df69ab-c266-4d49-951c-031b16f7a31f</td>\n",
       "    </tr>\n",
       "    <tr>\n",
       "      <th>1</th>\n",
       "      <td>00727ac6-e54e-4cdf-ba01-68a7f532a1b1</td>\n",
       "      <td>8G6GKJXN5UM5</td>\n",
       "      <td>49df69ab-c266-4d49-951c-031b16f7a31f</td>\n",
       "      <td>djokela@vortexchicago.com</td>\n",
       "      <td>Danielle Jokela</td>\n",
       "      <td>Danielle</td>\n",
       "      <td>Jokela</td>\n",
       "      <td>NaN</td>\n",
       "      <td>NaN</td>\n",
       "      <td>NaN</td>\n",
       "      <td>...</td>\n",
       "      <td>Vortex Commercial Flooring</td>\n",
       "      <td>NaN</td>\n",
       "      <td>NaN</td>\n",
       "      <td>NaN</td>\n",
       "      <td>2015-08-27 02:38:53.855536</td>\n",
       "      <td>5.0</td>\n",
       "      <td>0.0</td>\n",
       "      <td>NaN</td>\n",
       "      <td>41eadd13-efd1-4de5-adc9-e7e659608d7e</td>\n",
       "      <td>49df69ab-c266-4d49-951c-031b16f7a31f</td>\n",
       "    </tr>\n",
       "    <tr>\n",
       "      <th>2</th>\n",
       "      <td>00727ac6-e54e-4cdf-ba01-68a7f532a1b1</td>\n",
       "      <td>8G6GKJXN5UM5</td>\n",
       "      <td>49df69ab-c266-4d49-951c-031b16f7a31f</td>\n",
       "      <td>djokela@vortexchicago.com</td>\n",
       "      <td>Danielle Jokela</td>\n",
       "      <td>Danielle</td>\n",
       "      <td>Jokela</td>\n",
       "      <td>NaN</td>\n",
       "      <td>NaN</td>\n",
       "      <td>NaN</td>\n",
       "      <td>...</td>\n",
       "      <td>Vortex Commercial Flooring</td>\n",
       "      <td>NaN</td>\n",
       "      <td>NaN</td>\n",
       "      <td>NaN</td>\n",
       "      <td>2015-08-27 02:38:53.855536</td>\n",
       "      <td>5.0</td>\n",
       "      <td>0.0</td>\n",
       "      <td>NaN</td>\n",
       "      <td>03a92e47-f17b-44e1-a326-d29700222caa</td>\n",
       "      <td>49df69ab-c266-4d49-951c-031b16f7a31f</td>\n",
       "    </tr>\n",
       "    <tr>\n",
       "      <th>3</th>\n",
       "      <td>00727ac6-e54e-4cdf-ba01-68a7f532a1b1</td>\n",
       "      <td>8G6GKJXN5UM5</td>\n",
       "      <td>49df69ab-c266-4d49-951c-031b16f7a31f</td>\n",
       "      <td>djokela@vortexchicago.com</td>\n",
       "      <td>Danielle Jokela</td>\n",
       "      <td>Danielle</td>\n",
       "      <td>Jokela</td>\n",
       "      <td>NaN</td>\n",
       "      <td>NaN</td>\n",
       "      <td>NaN</td>\n",
       "      <td>...</td>\n",
       "      <td>Vortex Commercial Flooring</td>\n",
       "      <td>NaN</td>\n",
       "      <td>NaN</td>\n",
       "      <td>NaN</td>\n",
       "      <td>2015-08-27 02:38:53.855536</td>\n",
       "      <td>5.0</td>\n",
       "      <td>0.0</td>\n",
       "      <td>NaN</td>\n",
       "      <td>dc5185e7-f10b-47f4-b540-73c0f5d32c5c</td>\n",
       "      <td>49df69ab-c266-4d49-951c-031b16f7a31f</td>\n",
       "    </tr>\n",
       "    <tr>\n",
       "      <th>4</th>\n",
       "      <td>00727ac6-e54e-4cdf-ba01-68a7f532a1b1</td>\n",
       "      <td>8G6GKJXN5UM5</td>\n",
       "      <td>49df69ab-c266-4d49-951c-031b16f7a31f</td>\n",
       "      <td>djokela@vortexchicago.com</td>\n",
       "      <td>Danielle Jokela</td>\n",
       "      <td>Danielle</td>\n",
       "      <td>Jokela</td>\n",
       "      <td>NaN</td>\n",
       "      <td>NaN</td>\n",
       "      <td>NaN</td>\n",
       "      <td>...</td>\n",
       "      <td>Vortex Commercial Flooring</td>\n",
       "      <td>NaN</td>\n",
       "      <td>NaN</td>\n",
       "      <td>NaN</td>\n",
       "      <td>2015-08-27 02:38:53.855536</td>\n",
       "      <td>5.0</td>\n",
       "      <td>0.0</td>\n",
       "      <td>NaN</td>\n",
       "      <td>c3c3c797-6faa-4a95-a961-e760eb10bdee</td>\n",
       "      <td>49df69ab-c266-4d49-951c-031b16f7a31f</td>\n",
       "    </tr>\n",
       "  </tbody>\n",
       "</table>\n",
       "<p>5 rows × 44 columns</p>\n",
       "</div>"
      ],
      "text/plain": [
       "                             project_id   autodesk_id  \\\n",
       "0  00727ac6-e54e-4cdf-ba01-68a7f532a1b1  8G6GKJXN5UM5   \n",
       "1  00727ac6-e54e-4cdf-ba01-68a7f532a1b1  8G6GKJXN5UM5   \n",
       "2  00727ac6-e54e-4cdf-ba01-68a7f532a1b1  8G6GKJXN5UM5   \n",
       "3  00727ac6-e54e-4cdf-ba01-68a7f532a1b1  8G6GKJXN5UM5   \n",
       "4  00727ac6-e54e-4cdf-ba01-68a7f532a1b1  8G6GKJXN5UM5   \n",
       "\n",
       "                    bim360_account_id_x                      email  \\\n",
       "0  49df69ab-c266-4d49-951c-031b16f7a31f  djokela@vortexchicago.com   \n",
       "1  49df69ab-c266-4d49-951c-031b16f7a31f  djokela@vortexchicago.com   \n",
       "2  49df69ab-c266-4d49-951c-031b16f7a31f  djokela@vortexchicago.com   \n",
       "3  49df69ab-c266-4d49-951c-031b16f7a31f  djokela@vortexchicago.com   \n",
       "4  49df69ab-c266-4d49-951c-031b16f7a31f  djokela@vortexchicago.com   \n",
       "\n",
       "            name_x first_name last_name address_line1_x address_line2_x  \\\n",
       "0  Danielle Jokela   Danielle    Jokela             NaN             NaN   \n",
       "1  Danielle Jokela   Danielle    Jokela             NaN             NaN   \n",
       "2  Danielle Jokela   Danielle    Jokela             NaN             NaN   \n",
       "3  Danielle Jokela   Danielle    Jokela             NaN             NaN   \n",
       "4  Danielle Jokela   Danielle    Jokela             NaN             NaN   \n",
       "\n",
       "  city_x  ...                 description erp_id tax_id status  \\\n",
       "0    NaN  ...  Vortex Commercial Flooring    NaN    NaN    NaN   \n",
       "1    NaN  ...  Vortex Commercial Flooring    NaN    NaN    NaN   \n",
       "2    NaN  ...  Vortex Commercial Flooring    NaN    NaN    NaN   \n",
       "3    NaN  ...  Vortex Commercial Flooring    NaN    NaN    NaN   \n",
       "4    NaN  ...  Vortex Commercial Flooring    NaN    NaN    NaN   \n",
       "\n",
       "                   created_at project_size  user_size  custom_properties  \\\n",
       "0  2015-08-27 02:38:53.855536          5.0        0.0                NaN   \n",
       "1  2015-08-27 02:38:53.855536          5.0        0.0                NaN   \n",
       "2  2015-08-27 02:38:53.855536          5.0        0.0                NaN   \n",
       "3  2015-08-27 02:38:53.855536          5.0        0.0                NaN   \n",
       "4  2015-08-27 02:38:53.855536          5.0        0.0                NaN   \n",
       "\n",
       "                             project_id                     bim360_account_id  \n",
       "0  47a45a6d-33c7-45b5-a648-e2b6e03377ce  49df69ab-c266-4d49-951c-031b16f7a31f  \n",
       "1  41eadd13-efd1-4de5-adc9-e7e659608d7e  49df69ab-c266-4d49-951c-031b16f7a31f  \n",
       "2  03a92e47-f17b-44e1-a326-d29700222caa  49df69ab-c266-4d49-951c-031b16f7a31f  \n",
       "3  dc5185e7-f10b-47f4-b540-73c0f5d32c5c  49df69ab-c266-4d49-951c-031b16f7a31f  \n",
       "4  c3c3c797-6faa-4a95-a961-e760eb10bdee  49df69ab-c266-4d49-951c-031b16f7a31f  \n",
       "\n",
       "[5 rows x 44 columns]"
      ]
     },
     "execution_count": 15,
     "metadata": {},
     "output_type": "execute_result"
    }
   ],
   "source": [
    "MERGED_PUC_NEW.head()"
   ]
  },
  {
   "cell_type": "code",
   "execution_count": 11,
   "metadata": {},
   "outputs": [
    {
     "data": {
      "text/plain": [
       "id                             3617\n",
       "autodesk_id                    3221\n",
       "bim360_account_id_x            3617\n",
       "email                          3617\n",
       "name_x                         3617\n",
       "first_name                     3617\n",
       "last_name                      3617\n",
       "address_line1_x                 120\n",
       "address_line2_x                  33\n",
       "city_x                          159\n",
       "state_or_province_x             239\n",
       "postal_code_x                   131\n",
       "country_x                      3615\n",
       "last_sign_in                   2693\n",
       "phone_x                         159\n",
       "job_title                       272\n",
       "access_level_account_admin     3617\n",
       "access_level_project_admin     3617\n",
       "access_level_project_member    3617\n",
       "access_level_executive         3617\n",
       "default_role_id                 792\n",
       "default_company_id             3617\n",
       "bim360_account_id_y            3617\n",
       "name_y                         3617\n",
       "trade                          2320\n",
       "category                       2373\n",
       "address_line1_y                1060\n",
       "address_line2_y                 163\n",
       "city_y                         1003\n",
       "state_or_province_y             973\n",
       "postal_code_y                   995\n",
       "country_y                      3617\n",
       "phone_y                         962\n",
       "website_url                     549\n",
       "description                     142\n",
       "erp_id                            1\n",
       "tax_id                            0\n",
       "status                            0\n",
       "created_at                     3617\n",
       "project_size                   3579\n",
       "user_size                      3579\n",
       "custom_properties                 0\n",
       "dtype: int64"
      ]
     },
     "execution_count": 11,
     "metadata": {},
     "output_type": "execute_result"
    }
   ],
   "source": [
    "MERGED_UC_NEW.count()\n",
    "#MERGED_PIUC_NEW = pd.merge(MERGED_PUC_NEW,PC1_DF, on ='project_id', how = 'right')"
   ]
  },
  {
   "cell_type": "code",
   "execution_count": null,
   "metadata": {},
   "outputs": [],
   "source": [
    "#PC_s=PC.sort_values(by=['project_id'])"
   ]
  },
  {
   "cell_type": "code",
   "execution_count": null,
   "metadata": {},
   "outputs": [],
   "source": [
    "#PC_s.head(50)"
   ]
  },
  {
   "cell_type": "code",
   "execution_count": 91,
   "metadata": {},
   "outputs": [],
   "source": [
    "OLD_PI_DF = pd.merge(P2_DF, I2_DF, on='project_id', how='inner')\n"
   ]
  },
  {
   "cell_type": "code",
   "execution_count": 92,
   "metadata": {},
   "outputs": [],
   "source": [
    "OLD_PI_DF.rename(columns = {\"id\":\"project_id\"}, inplace=True)\n",
    "OLD_PI_DF.drop(['business_unit_x',\n",
    "                'status_x',\n",
    "                'checklists',\n",
    "                'equipment',\n",
    "                'tasks',\n",
    "                'dailyUpdates',\n",
    "                'photos',\n",
    "                'users',\n",
    "                'identifier',\n",
    "                'status_y','priority',\n",
    "                'full_description',\n",
    "                'location_detail',\n",
    "                'source_type',\n",
    "                'parent_source_type',\n",
    "                'created_by',\n",
    "                'area',\n",
    "                'created_at',\n",
    "                'updated_at',\n",
    "                'created_from',\n",
    "                'due_date',\n",
    "                'closed_at',\n",
    "                'root_cause',\n",
    "                'hq_identifier_y',\n",
    "                'business_unit_y'],inplace=True, axis=1)"
   ]
  },
  {
   "cell_type": "code",
   "execution_count": 93,
   "metadata": {},
   "outputs": [
    {
     "data": {
      "text/plain": [
       "hq_identifier_x     101605\n",
       "project_id          101605\n",
       "name                101605\n",
       "files               101605\n",
       "issues              101605\n",
       "issue_id            101605\n",
       "description         101605\n",
       "issue_type          101605\n",
       "company_assigned     96657\n",
       "dtype: int64"
      ]
     },
     "execution_count": 93,
     "metadata": {},
     "output_type": "execute_result"
    }
   ],
   "source": [
    "OLD_PI_DF.count()"
   ]
  },
  {
   "cell_type": "code",
   "execution_count": 100,
   "metadata": {},
   "outputs": [],
   "source": [
    "OLD_PI_DF.rename(columns = {\"hq_identifier_x\":\"project_id\",\"project_id\":\"old_project_id\"}, inplace=True)"
   ]
  },
  {
   "cell_type": "code",
   "execution_count": 115,
   "metadata": {},
   "outputs": [],
   "source": [
    "MERGED_PI_OLD2NEW = pd.merge(OLD_PI_DF, P1_DF, on ='project_id', how='inner')"
   ]
  },
  {
   "cell_type": "code",
   "execution_count": 116,
   "metadata": {},
   "outputs": [],
   "source": [
    "MERGED_PI_OLD2NEW.count()\n",
    "MERGED_PI_OLD2NEW.drop(['files',\n",
    "                        'bim360_account_id',\n",
    "                        'address_line1',\n",
    "                        'address_line2',\n",
    "                        'start_date',\n",
    "                        'end_date',\n",
    "                        'currency',\n",
    "                        'timezone',\n",
    "                        'construction_type',\n",
    "                        'contract_type',\n",
    "                        'business_unit_id',\n",
    "                        'last_sign_in',\n",
    "                        'created_at',\n",
    "                        'country',\n",
    "                        ],inplace=True, axis=1)"
   ]
  },
  {
   "cell_type": "code",
   "execution_count": 123,
   "metadata": {},
   "outputs": [
    {
     "data": {
      "text/plain": [
       "project_id           101605\n",
       "old_project_id       101605\n",
       "name_x               101605\n",
       "issues               101605\n",
       "issue_id             101605\n",
       "description          101605\n",
       "issue_type           101605\n",
       "company_assigned      96657\n",
       "name_y               101605\n",
       "type                 101605\n",
       "value                101359\n",
       "status               101605\n",
       "job_number            51245\n",
       "city                  81746\n",
       "state_or_province     82679\n",
       "postal_code           77670\n",
       "dtype: int64"
      ]
     },
     "execution_count": 123,
     "metadata": {},
     "output_type": "execute_result"
    }
   ],
   "source": [
    "MERGED_PI_OLD2NEW.count()\n"
   ]
  },
  {
   "cell_type": "code",
   "execution_count": 124,
   "metadata": {},
   "outputs": [
    {
     "data": {
      "text/html": [
       "<div>\n",
       "<style scoped>\n",
       "    .dataframe tbody tr th:only-of-type {\n",
       "        vertical-align: middle;\n",
       "    }\n",
       "\n",
       "    .dataframe tbody tr th {\n",
       "        vertical-align: top;\n",
       "    }\n",
       "\n",
       "    .dataframe thead th {\n",
       "        text-align: right;\n",
       "    }\n",
       "</style>\n",
       "<table border=\"1\" class=\"dataframe\">\n",
       "  <thead>\n",
       "    <tr style=\"text-align: right;\">\n",
       "      <th></th>\n",
       "      <th>project_id</th>\n",
       "      <th>old_project_id</th>\n",
       "      <th>name_x</th>\n",
       "      <th>issues</th>\n",
       "      <th>issue_id</th>\n",
       "      <th>description</th>\n",
       "      <th>issue_type</th>\n",
       "      <th>company_assigned</th>\n",
       "      <th>name_y</th>\n",
       "      <th>type</th>\n",
       "      <th>value</th>\n",
       "      <th>status</th>\n",
       "      <th>job_number</th>\n",
       "      <th>city</th>\n",
       "      <th>state_or_province</th>\n",
       "      <th>postal_code</th>\n",
       "    </tr>\n",
       "  </thead>\n",
       "  <tbody>\n",
       "    <tr>\n",
       "      <th>0</th>\n",
       "      <td>01fa4f3a-9969-4069-a5b3-72fb630a0143</td>\n",
       "      <td>6fbfddc0-b8bb-4b27-be7f-751a21c701d0</td>\n",
       "      <td>Gestamp</td>\n",
       "      <td>476</td>\n",
       "      <td>00bc0784-ed90-41fe-97d2-a71831f0e1dd</td>\n",
       "      <td>Remove nails around dock angles.</td>\n",
       "      <td>Punch List : Pre-Punch List</td>\n",
       "      <td>Concrete Strategies LLC</td>\n",
       "      <td>Gestamp</td>\n",
       "      <td>Manufacturing / Factory</td>\n",
       "      <td>20549347.0</td>\n",
       "      <td>inactive</td>\n",
       "      <td>102601</td>\n",
       "      <td>McCalla</td>\n",
       "      <td>AL</td>\n",
       "      <td>35111</td>\n",
       "    </tr>\n",
       "    <tr>\n",
       "      <th>1</th>\n",
       "      <td>01fa4f3a-9969-4069-a5b3-72fb630a0143</td>\n",
       "      <td>6fbfddc0-b8bb-4b27-be7f-751a21c701d0</td>\n",
       "      <td>Gestamp</td>\n",
       "      <td>476</td>\n",
       "      <td>00d3a27e-8127-4dec-ba44-74da29274ac8</td>\n",
       "      <td>Grind in a 3/4\" chamfer at all exterior corner...</td>\n",
       "      <td>Punch List : Pre-Punch List</td>\n",
       "      <td>Concrete Strategies LLC</td>\n",
       "      <td>Gestamp</td>\n",
       "      <td>Manufacturing / Factory</td>\n",
       "      <td>20549347.0</td>\n",
       "      <td>inactive</td>\n",
       "      <td>102601</td>\n",
       "      <td>McCalla</td>\n",
       "      <td>AL</td>\n",
       "      <td>35111</td>\n",
       "    </tr>\n",
       "    <tr>\n",
       "      <th>2</th>\n",
       "      <td>01fa4f3a-9969-4069-a5b3-72fb630a0143</td>\n",
       "      <td>6fbfddc0-b8bb-4b27-be7f-751a21c701d0</td>\n",
       "      <td>Gestamp</td>\n",
       "      <td>476</td>\n",
       "      <td>00dfc82b-7220-4345-93ea-d0ff4ba06d03</td>\n",
       "      <td>Install missing switch and data outlets</td>\n",
       "      <td>Punch List : Architect Punch List</td>\n",
       "      <td>Ace Electric, Inc.</td>\n",
       "      <td>Gestamp</td>\n",
       "      <td>Manufacturing / Factory</td>\n",
       "      <td>20549347.0</td>\n",
       "      <td>inactive</td>\n",
       "      <td>102601</td>\n",
       "      <td>McCalla</td>\n",
       "      <td>AL</td>\n",
       "      <td>35111</td>\n",
       "    </tr>\n",
       "    <tr>\n",
       "      <th>3</th>\n",
       "      <td>01fa4f3a-9969-4069-a5b3-72fb630a0143</td>\n",
       "      <td>6fbfddc0-b8bb-4b27-be7f-751a21c701d0</td>\n",
       "      <td>Gestamp</td>\n",
       "      <td>476</td>\n",
       "      <td>01a36881-f79f-4308-9fa1-55b48f7c58f2</td>\n",
       "      <td>Install cover plate on light switch</td>\n",
       "      <td>Punch List : Architect Punch List</td>\n",
       "      <td>Ace Electric, Inc.</td>\n",
       "      <td>Gestamp</td>\n",
       "      <td>Manufacturing / Factory</td>\n",
       "      <td>20549347.0</td>\n",
       "      <td>inactive</td>\n",
       "      <td>102601</td>\n",
       "      <td>McCalla</td>\n",
       "      <td>AL</td>\n",
       "      <td>35111</td>\n",
       "    </tr>\n",
       "    <tr>\n",
       "      <th>4</th>\n",
       "      <td>01fa4f3a-9969-4069-a5b3-72fb630a0143</td>\n",
       "      <td>6fbfddc0-b8bb-4b27-be7f-751a21c701d0</td>\n",
       "      <td>Gestamp</td>\n",
       "      <td>476</td>\n",
       "      <td>01cebbe8-8a06-489f-a724-bb1b94844b0b</td>\n",
       "      <td>Install base</td>\n",
       "      <td>Punch List : Architect Punch List</td>\n",
       "      <td>Spectra Contract Flooring</td>\n",
       "      <td>Gestamp</td>\n",
       "      <td>Manufacturing / Factory</td>\n",
       "      <td>20549347.0</td>\n",
       "      <td>inactive</td>\n",
       "      <td>102601</td>\n",
       "      <td>McCalla</td>\n",
       "      <td>AL</td>\n",
       "      <td>35111</td>\n",
       "    </tr>\n",
       "  </tbody>\n",
       "</table>\n",
       "</div>"
      ],
      "text/plain": [
       "                             project_id                        old_project_id  \\\n",
       "0  01fa4f3a-9969-4069-a5b3-72fb630a0143  6fbfddc0-b8bb-4b27-be7f-751a21c701d0   \n",
       "1  01fa4f3a-9969-4069-a5b3-72fb630a0143  6fbfddc0-b8bb-4b27-be7f-751a21c701d0   \n",
       "2  01fa4f3a-9969-4069-a5b3-72fb630a0143  6fbfddc0-b8bb-4b27-be7f-751a21c701d0   \n",
       "3  01fa4f3a-9969-4069-a5b3-72fb630a0143  6fbfddc0-b8bb-4b27-be7f-751a21c701d0   \n",
       "4  01fa4f3a-9969-4069-a5b3-72fb630a0143  6fbfddc0-b8bb-4b27-be7f-751a21c701d0   \n",
       "\n",
       "    name_x  issues                              issue_id  \\\n",
       "0  Gestamp     476  00bc0784-ed90-41fe-97d2-a71831f0e1dd   \n",
       "1  Gestamp     476  00d3a27e-8127-4dec-ba44-74da29274ac8   \n",
       "2  Gestamp     476  00dfc82b-7220-4345-93ea-d0ff4ba06d03   \n",
       "3  Gestamp     476  01a36881-f79f-4308-9fa1-55b48f7c58f2   \n",
       "4  Gestamp     476  01cebbe8-8a06-489f-a724-bb1b94844b0b   \n",
       "\n",
       "                                         description  \\\n",
       "0                  Remove nails around dock angles.    \n",
       "1  Grind in a 3/4\" chamfer at all exterior corner...   \n",
       "2            Install missing switch and data outlets   \n",
       "3                Install cover plate on light switch   \n",
       "4                                       Install base   \n",
       "\n",
       "                          issue_type           company_assigned   name_y  \\\n",
       "0        Punch List : Pre-Punch List    Concrete Strategies LLC  Gestamp   \n",
       "1        Punch List : Pre-Punch List    Concrete Strategies LLC  Gestamp   \n",
       "2  Punch List : Architect Punch List         Ace Electric, Inc.  Gestamp   \n",
       "3  Punch List : Architect Punch List         Ace Electric, Inc.  Gestamp   \n",
       "4  Punch List : Architect Punch List  Spectra Contract Flooring  Gestamp   \n",
       "\n",
       "                      type       value    status job_number     city  \\\n",
       "0  Manufacturing / Factory  20549347.0  inactive     102601  McCalla   \n",
       "1  Manufacturing / Factory  20549347.0  inactive     102601  McCalla   \n",
       "2  Manufacturing / Factory  20549347.0  inactive     102601  McCalla   \n",
       "3  Manufacturing / Factory  20549347.0  inactive     102601  McCalla   \n",
       "4  Manufacturing / Factory  20549347.0  inactive     102601  McCalla   \n",
       "\n",
       "  state_or_province postal_code  \n",
       "0                AL       35111  \n",
       "1                AL       35111  \n",
       "2                AL       35111  \n",
       "3                AL       35111  \n",
       "4                AL       35111  "
      ]
     },
     "execution_count": 124,
     "metadata": {},
     "output_type": "execute_result"
    }
   ],
   "source": [
    "MERGED_PI_OLD2NEW.head()"
   ]
  },
  {
   "cell_type": "code",
   "execution_count": 145,
   "metadata": {},
   "outputs": [],
   "source": [
    "###################################################\n",
    "#### TO CLEAN\n",
    "MERGED_PI_OLD2NEW.head()\n",
    "PI_OLD2NEW_DF = MERGED_PI_OLD2NEW[['project_id',\n",
    "                                  'name_x',\n",
    "                                  'job_number',\n",
    "                                  'type',\n",
    "                                  'value',\n",
    "                                  'city',\n",
    "                                  'state_or_province',\n",
    "                                  'postal_code',\n",
    "                                  'issue_type',\n",
    "                                  'description',\n",
    "                                  'company_assigned']].copy()"
   ]
  },
  {
   "cell_type": "code",
   "execution_count": 138,
   "metadata": {},
   "outputs": [
    {
     "data": {
      "text/plain": [
       "project_id           101605\n",
       "name_x               101605\n",
       "job_number            51245\n",
       "type                 101605\n",
       "value                101359\n",
       "city                  81746\n",
       "state_or_province     82679\n",
       "postal_code           77670\n",
       "issue_type           101605\n",
       "description          101605\n",
       "company_assigned      96657\n",
       "dtype: int64"
      ]
     },
     "execution_count": 138,
     "metadata": {},
     "output_type": "execute_result"
    }
   ],
   "source": [
    "PI_OLD2NEW_DF.count()\n"
   ]
  },
  {
   "cell_type": "code",
   "execution_count": 141,
   "metadata": {},
   "outputs": [],
   "source": [
    "PIIST_NEW_DF = MERGED_PIIST_NEW [['project_id',\n",
    "                                  'name',\n",
    "                                  'job_number',\n",
    "                                  'type',\n",
    "                                  'value',\n",
    "                                  'city',\n",
    "                                  'state_or_province',\n",
    "                                  'postal_code',\n",
    "                                  'issue_type',\n",
    "                                  'issue_subtype',\n",
    "                                  'title',\n",
    "                                  'description',\n",
    "                                  'assignee_id']].copy()"
   ]
  },
  {
   "cell_type": "code",
   "execution_count": 143,
   "metadata": {},
   "outputs": [
    {
     "data": {
      "text/plain": [
       "project_id           59084\n",
       "name                 59084\n",
       "job_number           57085\n",
       "type                 59084\n",
       "value                57593\n",
       "city                 42841\n",
       "state_or_province    42592\n",
       "postal_code          42401\n",
       "issue_type           59084\n",
       "issue_subtype        59084\n",
       "title                59084\n",
       "description          23200\n",
       "assignee_id          52446\n",
       "dtype: int64"
      ]
     },
     "execution_count": 143,
     "metadata": {},
     "output_type": "execute_result"
    }
   ],
   "source": [
    "PIIST_NEW_DF.count()\n"
   ]
  },
  {
   "cell_type": "code",
   "execution_count": 15,
   "metadata": {},
   "outputs": [],
   "source": [
    "#I2_DF.head()"
   ]
  },
  {
   "cell_type": "code",
   "execution_count": 16,
   "metadata": {},
   "outputs": [],
   "source": [
    "#MERGED_NEW = pd.merge(P1_DF, I1_DF, on='project_id', how='inner')"
   ]
  },
  {
   "cell_type": "code",
   "execution_count": 17,
   "metadata": {},
   "outputs": [],
   "source": [
    "MERGED_OLD.to_csv('old_clean.csv')"
   ]
  },
  {
   "cell_type": "code",
   "execution_count": 38,
   "metadata": {},
   "outputs": [],
   "source": []
  },
  {
   "cell_type": "code",
   "execution_count": 23,
   "metadata": {},
   "outputs": [],
   "source": [
    "I1_DF.rename(columns = {\"bim360_project_id\" : \"project_id\"}, inplace=True)"
   ]
  },
  {
   "cell_type": "code",
   "execution_count": 19,
   "metadata": {},
   "outputs": [],
   "source": [
    "#I1_DF.dtypes"
   ]
  },
  {
   "cell_type": "code",
   "execution_count": 21,
   "metadata": {},
   "outputs": [],
   "source": [
    "#P1_DF.dtypes"
   ]
  },
  {
   "cell_type": "code",
   "execution_count": 22,
   "metadata": {},
   "outputs": [],
   "source": []
  },
  {
   "cell_type": "code",
   "execution_count": 15,
   "metadata": {},
   "outputs": [],
   "source": [
    "#MERGED_NEW.count()"
   ]
  },
  {
   "cell_type": "code",
   "execution_count": 24,
   "metadata": {},
   "outputs": [],
   "source": [
    "MERGED_NEW.to_csv('new_clean.csv')"
   ]
  },
  {
   "cell_type": "code",
   "execution_count": 25,
   "metadata": {},
   "outputs": [],
   "source": [
    "#P1_DF.head()"
   ]
  },
  {
   "cell_type": "code",
   "execution_count": 27,
   "metadata": {},
   "outputs": [],
   "source": [
    "#P1_DF.count()"
   ]
  },
  {
   "cell_type": "code",
   "execution_count": 28,
   "metadata": {},
   "outputs": [],
   "source": [
    "MERGED_OLD.rename(columns = {\"project_id\" : \"project_id_classic\"}, inplace=True)\n",
    "MERGED_OLD.rename(columns = {\"hq_identifier_x\" : \"project_id\"}, inplace=True)"
   ]
  },
  {
   "cell_type": "code",
   "execution_count": 29,
   "metadata": {},
   "outputs": [],
   "source": [
    "MERGED_OLD_NEXT = pd.merge(MERGED_OLD, P1_DF, on='project_id', how='inner')"
   ]
  },
  {
   "cell_type": "code",
   "execution_count": 31,
   "metadata": {},
   "outputs": [],
   "source": [
    "#MERGED_OLD_NEXT.head()"
   ]
  },
  {
   "cell_type": "code",
   "execution_count": 54,
   "metadata": {},
   "outputs": [],
   "source": [
    "#MERGED_OLD.head()"
   ]
  },
  {
   "cell_type": "code",
   "execution_count": 50,
   "metadata": {},
   "outputs": [],
   "source": [
    "#P2_DF.head()"
   ]
  },
  {
   "cell_type": "code",
   "execution_count": 56,
   "metadata": {},
   "outputs": [],
   "source": [
    "#MERGED_OLD_NEXT.count()"
   ]
  },
  {
   "cell_type": "code",
   "execution_count": 32,
   "metadata": {},
   "outputs": [],
   "source": [
    "MERGED_OLD_NEXT.to_csv('old_next_clean.csv')"
   ]
  },
  {
   "cell_type": "code",
   "execution_count": 35,
   "metadata": {},
   "outputs": [],
   "source": [
    "### FINAL MERGE PROJECT ISSUES\n",
    "OLD_MAPPING = 'old_next_clean.csv'\n",
    "NEW_MAPPING = 'new_clean.csv'"
   ]
  },
  {
   "cell_type": "code",
   "execution_count": null,
   "metadata": {},
   "outputs": [],
   "source": [
    "OLD_DF = pd.read_csv(OLD_MAPPING, encoding='utf-8', low_memory=False)"
   ]
  },
  {
   "cell_type": "code",
   "execution_count": 14,
   "metadata": {},
   "outputs": [],
   "source": [
    "#OLD_DF.count()"
   ]
  },
  {
   "cell_type": "code",
   "execution_count": 36,
   "metadata": {},
   "outputs": [],
   "source": [
    "\n",
    "NEW_DF = pd.read_csv(NEW_MAPPING, encoding='utf-8', low_memory=False)"
   ]
  },
  {
   "cell_type": "code",
   "execution_count": 48,
   "metadata": {},
   "outputs": [],
   "source": [
    "\n",
    "# Working_OLD_DataFrame\n",
    "W_OLD_DF = OLD_DF[['project_id',\n",
    "                   'bim360_account_id'\n",
    "                   'business_unit_x',\n",
    "                   'name_x',\n",
    "                   'issues',\n",
    "                   'users',\n",
    "                   'issue_id',\n",
    "                   'description',\n",
    "                   'issue_type',\n",
    "                   'status_x',\n",
    "                   'company_assigned',\n",
    "                   'job_number',\n",
    "                   'identifier',\n",
    "                   'created_at_x',\n",
    "                   'due_date',\n",
    "                   'closed_at',\n",
    "                   'company_assigned',\n",
    "                   'created_by',\n",
    "                   'root_cause',\n",
    "                   'area',\n",
    "                   'location_detail',\n",
    "                   'type',\n",
    "                   'value',\n",
    "                   'city',\n",
    "                   'state_or_province',\n",
    "                   'postal_code']].copy()"
   ]
  },
  {
   "cell_type": "code",
   "execution_count": 53,
   "metadata": {},
   "outputs": [],
   "source": [
    "W_OLD_DF.head()\n",
    "W_OLD_DF.rename(columns = {\"name_x\" : \"name\",\n",
    "                           'business_unit_x' : 'business_unit',\n",
    "                           'status_x' : 'status',\n",
    "                           'created_at_x' : 'created_at'}, inplace=True)"
   ]
  },
  {
   "cell_type": "code",
   "execution_count": 54,
   "metadata": {},
   "outputs": [
    {
     "data": {
      "text/html": [
       "<div>\n",
       "<style scoped>\n",
       "    .dataframe tbody tr th:only-of-type {\n",
       "        vertical-align: middle;\n",
       "    }\n",
       "\n",
       "    .dataframe tbody tr th {\n",
       "        vertical-align: top;\n",
       "    }\n",
       "\n",
       "    .dataframe thead th {\n",
       "        text-align: right;\n",
       "    }\n",
       "</style>\n",
       "<table border=\"1\" class=\"dataframe\">\n",
       "  <thead>\n",
       "    <tr style=\"text-align: right;\">\n",
       "      <th></th>\n",
       "      <th>project_id</th>\n",
       "      <th>business_unit</th>\n",
       "      <th>name</th>\n",
       "      <th>issues</th>\n",
       "      <th>users</th>\n",
       "      <th>issue_id</th>\n",
       "      <th>description</th>\n",
       "      <th>issue_type</th>\n",
       "      <th>status</th>\n",
       "      <th>company_assigned</th>\n",
       "      <th>...</th>\n",
       "      <th>company_assigned</th>\n",
       "      <th>created_by</th>\n",
       "      <th>root_cause</th>\n",
       "      <th>area</th>\n",
       "      <th>location_detail</th>\n",
       "      <th>type</th>\n",
       "      <th>value</th>\n",
       "      <th>city</th>\n",
       "      <th>state_or_province</th>\n",
       "      <th>postal_code</th>\n",
       "    </tr>\n",
       "  </thead>\n",
       "  <tbody>\n",
       "    <tr>\n",
       "      <th>0</th>\n",
       "      <td>01fa4f3a-9969-4069-a5b3-72fb630a0143</td>\n",
       "      <td>Clayco&gt;Distribution, Manufacturing, Process, F...</td>\n",
       "      <td>Gestamp</td>\n",
       "      <td>476</td>\n",
       "      <td>40</td>\n",
       "      <td>00bc0784-ed90-41fe-97d2-a71831f0e1dd</td>\n",
       "      <td>Remove nails around dock angles.</td>\n",
       "      <td>Punch List : Pre-Punch List</td>\n",
       "      <td>active</td>\n",
       "      <td>Concrete Strategies LLC</td>\n",
       "      <td>...</td>\n",
       "      <td>Concrete Strategies LLC</td>\n",
       "      <td>schniedersj@theljc.com</td>\n",
       "      <td>NaN</td>\n",
       "      <td>ELEV</td>\n",
       "      <td>NaN</td>\n",
       "      <td>Manufacturing / Factory</td>\n",
       "      <td>20549347.0</td>\n",
       "      <td>McCalla</td>\n",
       "      <td>AL</td>\n",
       "      <td>35111.0</td>\n",
       "    </tr>\n",
       "    <tr>\n",
       "      <th>1</th>\n",
       "      <td>01fa4f3a-9969-4069-a5b3-72fb630a0143</td>\n",
       "      <td>Clayco&gt;Distribution, Manufacturing, Process, F...</td>\n",
       "      <td>Gestamp</td>\n",
       "      <td>476</td>\n",
       "      <td>40</td>\n",
       "      <td>00d3a27e-8127-4dec-ba44-74da29274ac8</td>\n",
       "      <td>Grind in a 3/4\" chamfer at all exterior corner...</td>\n",
       "      <td>Punch List : Pre-Punch List</td>\n",
       "      <td>active</td>\n",
       "      <td>Concrete Strategies LLC</td>\n",
       "      <td>...</td>\n",
       "      <td>Concrete Strategies LLC</td>\n",
       "      <td>schniedersj@theljc.com</td>\n",
       "      <td>Installation Contractor</td>\n",
       "      <td>ELEV</td>\n",
       "      <td>NaN</td>\n",
       "      <td>Manufacturing / Factory</td>\n",
       "      <td>20549347.0</td>\n",
       "      <td>McCalla</td>\n",
       "      <td>AL</td>\n",
       "      <td>35111.0</td>\n",
       "    </tr>\n",
       "    <tr>\n",
       "      <th>2</th>\n",
       "      <td>01fa4f3a-9969-4069-a5b3-72fb630a0143</td>\n",
       "      <td>Clayco&gt;Distribution, Manufacturing, Process, F...</td>\n",
       "      <td>Gestamp</td>\n",
       "      <td>476</td>\n",
       "      <td>40</td>\n",
       "      <td>00dfc82b-7220-4345-93ea-d0ff4ba06d03</td>\n",
       "      <td>Install missing switch and data outlets</td>\n",
       "      <td>Punch List : Architect Punch List</td>\n",
       "      <td>active</td>\n",
       "      <td>Ace Electric, Inc.</td>\n",
       "      <td>...</td>\n",
       "      <td>Ace Electric, Inc.</td>\n",
       "      <td>gallaghera@theljc.com</td>\n",
       "      <td>NaN</td>\n",
       "      <td>204 Training</td>\n",
       "      <td>NaN</td>\n",
       "      <td>Manufacturing / Factory</td>\n",
       "      <td>20549347.0</td>\n",
       "      <td>McCalla</td>\n",
       "      <td>AL</td>\n",
       "      <td>35111.0</td>\n",
       "    </tr>\n",
       "    <tr>\n",
       "      <th>3</th>\n",
       "      <td>01fa4f3a-9969-4069-a5b3-72fb630a0143</td>\n",
       "      <td>Clayco&gt;Distribution, Manufacturing, Process, F...</td>\n",
       "      <td>Gestamp</td>\n",
       "      <td>476</td>\n",
       "      <td>40</td>\n",
       "      <td>01a36881-f79f-4308-9fa1-55b48f7c58f2</td>\n",
       "      <td>Install cover plate on light switch</td>\n",
       "      <td>Punch List : Architect Punch List</td>\n",
       "      <td>active</td>\n",
       "      <td>Ace Electric, Inc.</td>\n",
       "      <td>...</td>\n",
       "      <td>Ace Electric, Inc.</td>\n",
       "      <td>gallaghera@theljc.com</td>\n",
       "      <td>NaN</td>\n",
       "      <td>117 RESTROOM</td>\n",
       "      <td>NaN</td>\n",
       "      <td>Manufacturing / Factory</td>\n",
       "      <td>20549347.0</td>\n",
       "      <td>McCalla</td>\n",
       "      <td>AL</td>\n",
       "      <td>35111.0</td>\n",
       "    </tr>\n",
       "    <tr>\n",
       "      <th>4</th>\n",
       "      <td>01fa4f3a-9969-4069-a5b3-72fb630a0143</td>\n",
       "      <td>Clayco&gt;Distribution, Manufacturing, Process, F...</td>\n",
       "      <td>Gestamp</td>\n",
       "      <td>476</td>\n",
       "      <td>40</td>\n",
       "      <td>01cebbe8-8a06-489f-a724-bb1b94844b0b</td>\n",
       "      <td>Install base</td>\n",
       "      <td>Punch List : Architect Punch List</td>\n",
       "      <td>active</td>\n",
       "      <td>Spectra Contract Flooring</td>\n",
       "      <td>...</td>\n",
       "      <td>Spectra Contract Flooring</td>\n",
       "      <td>gallaghera@theljc.com</td>\n",
       "      <td>NaN</td>\n",
       "      <td>118 OFFICE</td>\n",
       "      <td>NaN</td>\n",
       "      <td>Manufacturing / Factory</td>\n",
       "      <td>20549347.0</td>\n",
       "      <td>McCalla</td>\n",
       "      <td>AL</td>\n",
       "      <td>35111.0</td>\n",
       "    </tr>\n",
       "  </tbody>\n",
       "</table>\n",
       "<p>5 rows × 25 columns</p>\n",
       "</div>"
      ],
      "text/plain": [
       "                             project_id  \\\n",
       "0  01fa4f3a-9969-4069-a5b3-72fb630a0143   \n",
       "1  01fa4f3a-9969-4069-a5b3-72fb630a0143   \n",
       "2  01fa4f3a-9969-4069-a5b3-72fb630a0143   \n",
       "3  01fa4f3a-9969-4069-a5b3-72fb630a0143   \n",
       "4  01fa4f3a-9969-4069-a5b3-72fb630a0143   \n",
       "\n",
       "                                       business_unit     name  issues  users  \\\n",
       "0  Clayco>Distribution, Manufacturing, Process, F...  Gestamp     476     40   \n",
       "1  Clayco>Distribution, Manufacturing, Process, F...  Gestamp     476     40   \n",
       "2  Clayco>Distribution, Manufacturing, Process, F...  Gestamp     476     40   \n",
       "3  Clayco>Distribution, Manufacturing, Process, F...  Gestamp     476     40   \n",
       "4  Clayco>Distribution, Manufacturing, Process, F...  Gestamp     476     40   \n",
       "\n",
       "                               issue_id  \\\n",
       "0  00bc0784-ed90-41fe-97d2-a71831f0e1dd   \n",
       "1  00d3a27e-8127-4dec-ba44-74da29274ac8   \n",
       "2  00dfc82b-7220-4345-93ea-d0ff4ba06d03   \n",
       "3  01a36881-f79f-4308-9fa1-55b48f7c58f2   \n",
       "4  01cebbe8-8a06-489f-a724-bb1b94844b0b   \n",
       "\n",
       "                                         description  \\\n",
       "0                  Remove nails around dock angles.    \n",
       "1  Grind in a 3/4\" chamfer at all exterior corner...   \n",
       "2            Install missing switch and data outlets   \n",
       "3                Install cover plate on light switch   \n",
       "4                                       Install base   \n",
       "\n",
       "                          issue_type  status           company_assigned  ...  \\\n",
       "0        Punch List : Pre-Punch List  active    Concrete Strategies LLC  ...   \n",
       "1        Punch List : Pre-Punch List  active    Concrete Strategies LLC  ...   \n",
       "2  Punch List : Architect Punch List  active         Ace Electric, Inc.  ...   \n",
       "3  Punch List : Architect Punch List  active         Ace Electric, Inc.  ...   \n",
       "4  Punch List : Architect Punch List  active  Spectra Contract Flooring  ...   \n",
       "\n",
       "            company_assigned              created_by               root_cause  \\\n",
       "0    Concrete Strategies LLC  schniedersj@theljc.com                      NaN   \n",
       "1    Concrete Strategies LLC  schniedersj@theljc.com  Installation Contractor   \n",
       "2         Ace Electric, Inc.   gallaghera@theljc.com                      NaN   \n",
       "3         Ace Electric, Inc.   gallaghera@theljc.com                      NaN   \n",
       "4  Spectra Contract Flooring   gallaghera@theljc.com                      NaN   \n",
       "\n",
       "           area location_detail                     type       value     city  \\\n",
       "0          ELEV             NaN  Manufacturing / Factory  20549347.0  McCalla   \n",
       "1          ELEV             NaN  Manufacturing / Factory  20549347.0  McCalla   \n",
       "2  204 Training             NaN  Manufacturing / Factory  20549347.0  McCalla   \n",
       "3  117 RESTROOM             NaN  Manufacturing / Factory  20549347.0  McCalla   \n",
       "4    118 OFFICE             NaN  Manufacturing / Factory  20549347.0  McCalla   \n",
       "\n",
       "  state_or_province postal_code  \n",
       "0                AL     35111.0  \n",
       "1                AL     35111.0  \n",
       "2                AL     35111.0  \n",
       "3                AL     35111.0  \n",
       "4                AL     35111.0  \n",
       "\n",
       "[5 rows x 25 columns]"
      ]
     },
     "execution_count": 54,
     "metadata": {},
     "output_type": "execute_result"
    }
   ],
   "source": [
    "W_OLD_DF.head()"
   ]
  },
  {
   "cell_type": "code",
   "execution_count": 58,
   "metadata": {},
   "outputs": [
    {
     "data": {
      "text/plain": [
       "Unnamed: 0                59084\n",
       "project_id                59084\n",
       "bim360_account_id_x       59084\n",
       "name                      59084\n",
       "start_date                58974\n",
       "end_date                  58974\n",
       "type                      59084\n",
       "value                     57593\n",
       "currency                  59084\n",
       "status_x                  59084\n",
       "job_number                57085\n",
       "address_line1             42603\n",
       "address_line2               883\n",
       "city                      42841\n",
       "state_or_province         42592\n",
       "postal_code               42401\n",
       "country                   59084\n",
       "timezone                  59084\n",
       "construction_type         39531\n",
       "contract_type             39715\n",
       "business_unit_id          57294\n",
       "last_sign_in              59084\n",
       "created_at_x              59084\n",
       "issue_id                  59084\n",
       "bim360_account_id_y       59084\n",
       "display_id                59084\n",
       "title                     59084\n",
       "description               23200\n",
       "type_id                   59084\n",
       "subtype_id                59084\n",
       "status_y                  59084\n",
       "assignee_id               52446\n",
       "assignee_type             52822\n",
       "due_date                  19131\n",
       "location_id               43149\n",
       "location_details           9600\n",
       "linked_document_urn       45798\n",
       "owner_id                  59084\n",
       "root_cause_id              6165\n",
       "root_cause_category_id     6165\n",
       "response                   8167\n",
       "response_by               11566\n",
       "response_at               11566\n",
       "opened_by                 55048\n",
       "opened_at                 55048\n",
       "closed_by                 44474\n",
       "closed_at                 44474\n",
       "created_by                59084\n",
       "created_at_y              59084\n",
       "updated_by                57079\n",
       "updated_at                59084\n",
       "dtype: int64"
      ]
     },
     "execution_count": 58,
     "metadata": {},
     "output_type": "execute_result"
    }
   ],
   "source": [
    "NEW_DF.count()"
   ]
  },
  {
   "cell_type": "code",
   "execution_count": 57,
   "metadata": {},
   "outputs": [
    {
     "ename": "KeyError",
     "evalue": "\"['users', 'issues', 'location_detail', 'identifier', 'company_assigned', 'issue_type', 'root_cause', 'bim360_account_id_xbusiness_unit_x', 'area'] not in index\"",
     "output_type": "error",
     "traceback": [
      "\u001b[1;31m---------------------------------------------------------------------------\u001b[0m",
      "\u001b[1;31mKeyError\u001b[0m                                  Traceback (most recent call last)",
      "\u001b[1;32m<ipython-input-57-c1eb3d5669db>\u001b[0m in \u001b[0;36m<module>\u001b[1;34m\u001b[0m\n\u001b[0;32m     26\u001b[0m                    \u001b[1;34m'city'\u001b[0m\u001b[1;33m,\u001b[0m\u001b[1;33m\u001b[0m\u001b[1;33m\u001b[0m\u001b[0m\n\u001b[0;32m     27\u001b[0m                    \u001b[1;34m'state_or_province'\u001b[0m\u001b[1;33m,\u001b[0m\u001b[1;33m\u001b[0m\u001b[1;33m\u001b[0m\u001b[0m\n\u001b[1;32m---> 28\u001b[1;33m                    'postal_code']].copy()\n\u001b[0m",
      "\u001b[1;32mC:\\Users\\zigot\\AppData\\Local\\Continuum\\anaconda3\\envs\\PythonData\\lib\\site-packages\\pandas\\core\\frame.py\u001b[0m in \u001b[0;36m__getitem__\u001b[1;34m(self, key)\u001b[0m\n\u001b[0;32m   2999\u001b[0m             \u001b[1;32mif\u001b[0m \u001b[0mis_iterator\u001b[0m\u001b[1;33m(\u001b[0m\u001b[0mkey\u001b[0m\u001b[1;33m)\u001b[0m\u001b[1;33m:\u001b[0m\u001b[1;33m\u001b[0m\u001b[1;33m\u001b[0m\u001b[0m\n\u001b[0;32m   3000\u001b[0m                 \u001b[0mkey\u001b[0m \u001b[1;33m=\u001b[0m \u001b[0mlist\u001b[0m\u001b[1;33m(\u001b[0m\u001b[0mkey\u001b[0m\u001b[1;33m)\u001b[0m\u001b[1;33m\u001b[0m\u001b[1;33m\u001b[0m\u001b[0m\n\u001b[1;32m-> 3001\u001b[1;33m             \u001b[0mindexer\u001b[0m \u001b[1;33m=\u001b[0m \u001b[0mself\u001b[0m\u001b[1;33m.\u001b[0m\u001b[0mloc\u001b[0m\u001b[1;33m.\u001b[0m\u001b[0m_convert_to_indexer\u001b[0m\u001b[1;33m(\u001b[0m\u001b[0mkey\u001b[0m\u001b[1;33m,\u001b[0m \u001b[0maxis\u001b[0m\u001b[1;33m=\u001b[0m\u001b[1;36m1\u001b[0m\u001b[1;33m,\u001b[0m \u001b[0mraise_missing\u001b[0m\u001b[1;33m=\u001b[0m\u001b[1;32mTrue\u001b[0m\u001b[1;33m)\u001b[0m\u001b[1;33m\u001b[0m\u001b[1;33m\u001b[0m\u001b[0m\n\u001b[0m\u001b[0;32m   3002\u001b[0m \u001b[1;33m\u001b[0m\u001b[0m\n\u001b[0;32m   3003\u001b[0m         \u001b[1;31m# take() does not accept boolean indexers\u001b[0m\u001b[1;33m\u001b[0m\u001b[1;33m\u001b[0m\u001b[1;33m\u001b[0m\u001b[0m\n",
      "\u001b[1;32mC:\\Users\\zigot\\AppData\\Local\\Continuum\\anaconda3\\envs\\PythonData\\lib\\site-packages\\pandas\\core\\indexing.py\u001b[0m in \u001b[0;36m_convert_to_indexer\u001b[1;34m(self, obj, axis, is_setter, raise_missing)\u001b[0m\n\u001b[0;32m   1283\u001b[0m                 \u001b[1;31m# When setting, missing keys are not allowed, even with .loc:\u001b[0m\u001b[1;33m\u001b[0m\u001b[1;33m\u001b[0m\u001b[1;33m\u001b[0m\u001b[0m\n\u001b[0;32m   1284\u001b[0m                 \u001b[0mkwargs\u001b[0m \u001b[1;33m=\u001b[0m \u001b[1;33m{\u001b[0m\u001b[1;34m\"raise_missing\"\u001b[0m\u001b[1;33m:\u001b[0m \u001b[1;32mTrue\u001b[0m \u001b[1;32mif\u001b[0m \u001b[0mis_setter\u001b[0m \u001b[1;32melse\u001b[0m \u001b[0mraise_missing\u001b[0m\u001b[1;33m}\u001b[0m\u001b[1;33m\u001b[0m\u001b[1;33m\u001b[0m\u001b[0m\n\u001b[1;32m-> 1285\u001b[1;33m                 \u001b[1;32mreturn\u001b[0m \u001b[0mself\u001b[0m\u001b[1;33m.\u001b[0m\u001b[0m_get_listlike_indexer\u001b[0m\u001b[1;33m(\u001b[0m\u001b[0mobj\u001b[0m\u001b[1;33m,\u001b[0m \u001b[0maxis\u001b[0m\u001b[1;33m,\u001b[0m \u001b[1;33m**\u001b[0m\u001b[0mkwargs\u001b[0m\u001b[1;33m)\u001b[0m\u001b[1;33m[\u001b[0m\u001b[1;36m1\u001b[0m\u001b[1;33m]\u001b[0m\u001b[1;33m\u001b[0m\u001b[1;33m\u001b[0m\u001b[0m\n\u001b[0m\u001b[0;32m   1286\u001b[0m         \u001b[1;32melse\u001b[0m\u001b[1;33m:\u001b[0m\u001b[1;33m\u001b[0m\u001b[1;33m\u001b[0m\u001b[0m\n\u001b[0;32m   1287\u001b[0m             \u001b[1;32mtry\u001b[0m\u001b[1;33m:\u001b[0m\u001b[1;33m\u001b[0m\u001b[1;33m\u001b[0m\u001b[0m\n",
      "\u001b[1;32mC:\\Users\\zigot\\AppData\\Local\\Continuum\\anaconda3\\envs\\PythonData\\lib\\site-packages\\pandas\\core\\indexing.py\u001b[0m in \u001b[0;36m_get_listlike_indexer\u001b[1;34m(self, key, axis, raise_missing)\u001b[0m\n\u001b[0;32m   1090\u001b[0m \u001b[1;33m\u001b[0m\u001b[0m\n\u001b[0;32m   1091\u001b[0m         self._validate_read_indexer(\n\u001b[1;32m-> 1092\u001b[1;33m             \u001b[0mkeyarr\u001b[0m\u001b[1;33m,\u001b[0m \u001b[0mindexer\u001b[0m\u001b[1;33m,\u001b[0m \u001b[0mo\u001b[0m\u001b[1;33m.\u001b[0m\u001b[0m_get_axis_number\u001b[0m\u001b[1;33m(\u001b[0m\u001b[0maxis\u001b[0m\u001b[1;33m)\u001b[0m\u001b[1;33m,\u001b[0m \u001b[0mraise_missing\u001b[0m\u001b[1;33m=\u001b[0m\u001b[0mraise_missing\u001b[0m\u001b[1;33m\u001b[0m\u001b[1;33m\u001b[0m\u001b[0m\n\u001b[0m\u001b[0;32m   1093\u001b[0m         )\n\u001b[0;32m   1094\u001b[0m         \u001b[1;32mreturn\u001b[0m \u001b[0mkeyarr\u001b[0m\u001b[1;33m,\u001b[0m \u001b[0mindexer\u001b[0m\u001b[1;33m\u001b[0m\u001b[1;33m\u001b[0m\u001b[0m\n",
      "\u001b[1;32mC:\\Users\\zigot\\AppData\\Local\\Continuum\\anaconda3\\envs\\PythonData\\lib\\site-packages\\pandas\\core\\indexing.py\u001b[0m in \u001b[0;36m_validate_read_indexer\u001b[1;34m(self, key, indexer, axis, raise_missing)\u001b[0m\n\u001b[0;32m   1183\u001b[0m             \u001b[1;32mif\u001b[0m \u001b[1;32mnot\u001b[0m \u001b[1;33m(\u001b[0m\u001b[0mself\u001b[0m\u001b[1;33m.\u001b[0m\u001b[0mname\u001b[0m \u001b[1;33m==\u001b[0m \u001b[1;34m\"loc\"\u001b[0m \u001b[1;32mand\u001b[0m \u001b[1;32mnot\u001b[0m \u001b[0mraise_missing\u001b[0m\u001b[1;33m)\u001b[0m\u001b[1;33m:\u001b[0m\u001b[1;33m\u001b[0m\u001b[1;33m\u001b[0m\u001b[0m\n\u001b[0;32m   1184\u001b[0m                 \u001b[0mnot_found\u001b[0m \u001b[1;33m=\u001b[0m \u001b[0mlist\u001b[0m\u001b[1;33m(\u001b[0m\u001b[0mset\u001b[0m\u001b[1;33m(\u001b[0m\u001b[0mkey\u001b[0m\u001b[1;33m)\u001b[0m \u001b[1;33m-\u001b[0m \u001b[0mset\u001b[0m\u001b[1;33m(\u001b[0m\u001b[0max\u001b[0m\u001b[1;33m)\u001b[0m\u001b[1;33m)\u001b[0m\u001b[1;33m\u001b[0m\u001b[1;33m\u001b[0m\u001b[0m\n\u001b[1;32m-> 1185\u001b[1;33m                 \u001b[1;32mraise\u001b[0m \u001b[0mKeyError\u001b[0m\u001b[1;33m(\u001b[0m\u001b[1;34m\"{} not in index\"\u001b[0m\u001b[1;33m.\u001b[0m\u001b[0mformat\u001b[0m\u001b[1;33m(\u001b[0m\u001b[0mnot_found\u001b[0m\u001b[1;33m)\u001b[0m\u001b[1;33m)\u001b[0m\u001b[1;33m\u001b[0m\u001b[1;33m\u001b[0m\u001b[0m\n\u001b[0m\u001b[0;32m   1186\u001b[0m \u001b[1;33m\u001b[0m\u001b[0m\n\u001b[0;32m   1187\u001b[0m             \u001b[1;31m# we skip the warning on Categorical/Interval\u001b[0m\u001b[1;33m\u001b[0m\u001b[1;33m\u001b[0m\u001b[1;33m\u001b[0m\u001b[0m\n",
      "\u001b[1;31mKeyError\u001b[0m: \"['users', 'issues', 'location_detail', 'identifier', 'company_assigned', 'issue_type', 'root_cause', 'bim360_account_id_xbusiness_unit_x', 'area'] not in index\""
     ]
    }
   ],
   "source": [
    "\n",
    "W_NEW_DF = NEW_DF[['project_id',\n",
    "                   'bim360_account_id_x'\n",
    "                   'business_unit_x',\n",
    "                   'name',\n",
    "                   'issues',\n",
    "                   'users',\n",
    "                   'issue_id',\n",
    "                   'title',\n",
    "                   'description',\n",
    "                   'issue_type',\n",
    "                   'status_x',\n",
    "                   'company_assigned',\n",
    "                   'job_number',\n",
    "                   'identifier',\n",
    "                   'created_at_x',\n",
    "                   'due_date',\n",
    "                   'closed_at',\n",
    "                   'company_assigned',\n",
    "                   'created_by',\n",
    "                   'root_cause',\n",
    "                   'area',\n",
    "                   'location_detail',\n",
    "                   'type',\n",
    "                   'value',\n",
    "                   'city',\n",
    "                   'state_or_province',\n",
    "                   'postal_code']].copy()"
   ]
  },
  {
   "cell_type": "code",
   "execution_count": null,
   "metadata": {},
   "outputs": [],
   "source": []
  }
 ],
 "metadata": {
  "kernelspec": {
   "display_name": "Python [conda env:PythonData]",
   "language": "python",
   "name": "conda-env-PythonData-py"
  },
  "language_info": {
   "codemirror_mode": {
    "name": "ipython",
    "version": 3
   },
   "file_extension": ".py",
   "mimetype": "text/x-python",
   "name": "python",
   "nbconvert_exporter": "python",
   "pygments_lexer": "ipython3",
   "version": "3.6.9"
  }
 },
 "nbformat": 4,
 "nbformat_minor": 2
}
