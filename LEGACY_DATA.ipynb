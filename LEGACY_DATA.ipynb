{
 "cells": [
  {
   "cell_type": "code",
   "execution_count": 4,
   "metadata": {},
   "outputs": [],
   "source": [
    "import pandas as pd\n",
    "import numpy as np\n",
    "import math\n",
    "import json\n",
    "import pprint\n",
    "import requests\n",
    "from sqlalchemy import create_engine, inspect\n",
    "from sqlalchemy import Column, Integer, String, Float"
   ]
  },
  {
   "cell_type": "code",
   "execution_count": 5,
   "metadata": {},
   "outputs": [],
   "source": [
    "USER_01_MAPPING = 'resources/raw_data_next_gen/admin_users.csv'\n",
    "PROJECT_01_MAPPING = 'resources/raw_data_next_gen/admin_projects.csv'\n",
    "ISSUE_01_MAPPING = 'resources/raw_data_next_gen/issues_issues.csv'\n",
    "COMPANIES_01_MAPPING = 'resources/raw_data_next_gen/admin_companies.csv'\n",
    "PROJECT_COMPANIES_01_MAPPING = 'resources/raw_data_next_gen/admin_project_companies.csv'\n",
    "BUSINESS_01_MAPPING = 'resources/raw_data_next_gen/admin_business_units.csv'\n",
    "ISSUETYPES_01_MAPPING = 'resources/raw_data_next_gen/issues_issue_types.csv'\n",
    "ISSUESUBTYPES_01_MAPPING = 'resources/raw_data_next_gen/issues_issue_subtypes.csv'\n",
    "CLASSIGN_01_MAPPING = 'resources/raw_data_next_gen/checklists_checklist_assignees.csv'\n",
    "\n",
    "##############\n",
    "\n",
    "USER_02_MAPPING = 'resources/raw_data_old_gen/20200330085907_FieldDataHarvest_Users.csv'\n",
    "PROJECT_02_MAPPING = 'resources/raw_data_old_gen/20200330085907_FieldDataHarvest_Projects.csv'\n",
    "ISSUE_02_MAPPING = 'resources/raw_data_old_gen/20200330085907_FieldDataHarvest_Issues.csv'"
   ]
  },
  {
   "cell_type": "code",
   "execution_count": 6,
   "metadata": {},
   "outputs": [],
   "source": [
    "U1_DF = pd.read_csv(USER_01_MAPPING, encoding='utf-8', low_memory=False)\n",
    "P1_DF = pd.read_csv(PROJECT_01_MAPPING, encoding='utf-8', low_memory=False)\n",
    "I1_DF = pd.read_csv(ISSUE_01_MAPPING, encoding='latin1', low_memory=False)\n",
    "C1_DF = pd.read_csv(COMPANIES_01_MAPPING, encoding='latin1', low_memory=False)\n",
    "PC1_DF = pd.read_csv(PROJECT_COMPANIES_01_MAPPING, encoding='latin1', low_memory=False)\n",
    "B1_DF = pd.read_csv(BUSINESS_01_MAPPING, encoding='latin1', low_memory=False)\n",
    "IT1_DF = pd.read_csv(ISSUETYPES_01_MAPPING, encoding='latin1', low_memory=False)\n",
    "IST1_DF = pd.read_csv(ISSUESUBTYPES_01_MAPPING, encoding='latin1', low_memory=False)\n",
    "CA_DF = pd.read_csv(CLASSIGN_01_MAPPING, encoding='latin1', low_memory=False)\n",
    "\n",
    "U2_DF = pd.read_csv(USER_02_MAPPING, encoding='utf-8', low_memory=False)\n",
    "P2_DF = pd.read_csv(PROJECT_02_MAPPING, encoding='utf-8', low_memory=False)\n",
    "I2_DF = pd.read_csv(ISSUE_02_MAPPING, encoding='latin1', low_memory=False)\n"
   ]
  },
  {
   "cell_type": "code",
   "execution_count": 7,
   "metadata": {},
   "outputs": [],
   "source": [
    "U1_DF['domain']= U1_DF['email'].str.split('@').str[1]\n",
    "len(U1_DF['domain'].unique())\n",
    "domain_A = U1_DF['domain'].unique()"
   ]
  },
  {
   "cell_type": "code",
   "execution_count": 8,
   "metadata": {},
   "outputs": [],
   "source": [
    "#domain_A[1].split('.')[0]"
   ]
  },
  {
   "cell_type": "code",
   "execution_count": 9,
   "metadata": {},
   "outputs": [],
   "source": [
    "# temp_DF = U1_DF.loc[U1_DF['domain']==domain_A[16]]\n",
    "# temp_DF\n",
    "# LIST_D=[]\n",
    "# LIST_D = temp_DF.loc[temp_DF['default_company_id'].notnull()]['default_company_id'] \n",
    "#res = max(set(LIST_D), key = LIST_D.count) "
   ]
  },
  {
   "cell_type": "code",
   "execution_count": 10,
   "metadata": {},
   "outputs": [],
   "source": [
    "# x = LIST_D.value_counts().idxmax()"
   ]
  },
  {
   "cell_type": "code",
   "execution_count": 11,
   "metadata": {},
   "outputs": [],
   "source": [
    "\n",
    "# r = 0\n",
    "# #for index, row in U1_DF.iterrows():\n",
    "\n",
    "# for i in range (1, len(domain_A)):\n",
    "#     LIST_D=[]\n",
    "#     r = r + 1\n",
    "#     temp_DF = U1_DF.loc[U1_DF['domain']==domain_A[i]]\n",
    "        \n",
    "#         #LIST_D = temp_DF.loc[temp_DF['default_company_id'].notnull()]\n",
    "        \n",
    "#     LIST_D = temp_DF.loc[temp_DF['default_company_id'].notnull()]['default_company_id']\n",
    "#     if len(LIST_D) > 0:\n",
    "#         comp_id = LIST_D.value_counts().idxmax()\n",
    "# #         print(\"LIST of DOMAINS....\",LIST_D)\n",
    "#         for index, row in temp_DF.iterrows():\n",
    "#             rowIndex = (index)\n",
    "        \n",
    "#             if domain_A[i]>'':\n",
    "#                 d_value = str(domain_A[i])\n",
    "#                 if (d_value.split('.')[0]) not in ['gmail','outlook','yahoo','msn','swbell','comcast','icloud','charter']:\n",
    "        \n",
    "# #                     print (r,'.....', d_value, '----------GROUP----------------------------')\n",
    "# #                     for index, row in temp_DF.iterrows():\n",
    "#                     x1 = (row['domain'])\n",
    "#                     x2 = (row['default_company_id'])\n",
    "# #                     print(x2)\n",
    "                    \n",
    "#                     if type(x2) == float:\n",
    "#                         U1_DF.loc[rowIndex, 'default_company_id'] = comp_id\n",
    "#                         print(rowIndex, x1,'.......',x2)\n",
    "        \n",
    "# print ('NEW GROUP-----------------------------------------------------')"
   ]
  },
  {
   "cell_type": "code",
   "execution_count": 12,
   "metadata": {},
   "outputs": [],
   "source": [
    "#######################################################\n",
    "P1_DF.rename(columns = {\"id\" : \"project_id\"}, inplace=True)\n",
    "PC1_DF.rename(columns = {\"company_id\" : \"default_company_id\"}, inplace=True)\n",
    "I1_DF.rename(columns = {\"bim360_project_id\":\"project_id\"}, inplace=True)\n",
    "C1_DF.rename(columns = {\"id\" : \"default_company_id\"}, inplace=True)"
   ]
  },
  {
   "cell_type": "code",
   "execution_count": 13,
   "metadata": {},
   "outputs": [],
   "source": [
    "C1_DF.to_csv('cleaned_companies.csv')"
   ]
  },
  {
   "cell_type": "code",
   "execution_count": 14,
   "metadata": {},
   "outputs": [
    {
     "data": {
      "text/plain": [
       "id                             9341\n",
       "autodesk_id                    6769\n",
       "bim360_account_id              9341\n",
       "email                          9303\n",
       "name                           9341\n",
       "first_name                     9341\n",
       "last_name                      9341\n",
       "address_line1                   253\n",
       "address_line2                    55\n",
       "city                            314\n",
       "state_or_province               436\n",
       "postal_code                     271\n",
       "country                        9327\n",
       "last_sign_in                   3101\n",
       "phone                           324\n",
       "job_title                       444\n",
       "access_level_account_admin     9341\n",
       "access_level_project_admin     9341\n",
       "access_level_project_member    9341\n",
       "access_level_executive         9341\n",
       "default_role_id                 919\n",
       "default_company_id             3617\n",
       "domain                         9303\n",
       "dtype: int64"
      ]
     },
     "execution_count": 14,
     "metadata": {},
     "output_type": "execute_result"
    }
   ],
   "source": [
    "U1_DF.count()"
   ]
  },
  {
   "cell_type": "code",
   "execution_count": 15,
   "metadata": {},
   "outputs": [],
   "source": [
    "MERGED_PI_NEW = pd.merge(P1_DF, I1_DF, on ='project_id', how='inner')\n"
   ]
  },
  {
   "cell_type": "code",
   "execution_count": 16,
   "metadata": {},
   "outputs": [],
   "source": [
    "# Working_OLD_DataFrame\n",
    "W_NEW_PI_DF = MERGED_PI_NEW[['project_id',\n",
    "                   'name',\n",
    "                   'title',\n",
    "                   'description',\n",
    "                   'type_id',\n",
    "                   'subtype_id',\n",
    "                   'assignee_id',\n",
    "                   'job_number',\n",
    "                   'type',\n",
    "                   'value',\n",
    "                   'city',\n",
    "                   'state_or_province',\n",
    "                   'postal_code']].copy()"
   ]
  },
  {
   "cell_type": "code",
   "execution_count": 17,
   "metadata": {},
   "outputs": [
    {
     "data": {
      "text/html": [
       "<div>\n",
       "<style scoped>\n",
       "    .dataframe tbody tr th:only-of-type {\n",
       "        vertical-align: middle;\n",
       "    }\n",
       "\n",
       "    .dataframe tbody tr th {\n",
       "        vertical-align: top;\n",
       "    }\n",
       "\n",
       "    .dataframe thead th {\n",
       "        text-align: right;\n",
       "    }\n",
       "</style>\n",
       "<table border=\"1\" class=\"dataframe\">\n",
       "  <thead>\n",
       "    <tr style=\"text-align: right;\">\n",
       "      <th></th>\n",
       "      <th>project_id</th>\n",
       "      <th>name</th>\n",
       "      <th>title</th>\n",
       "      <th>description</th>\n",
       "      <th>issue_type_id</th>\n",
       "      <th>subtype_id</th>\n",
       "      <th>assignee_id</th>\n",
       "      <th>job_number</th>\n",
       "      <th>type</th>\n",
       "      <th>value</th>\n",
       "      <th>city</th>\n",
       "      <th>state_or_province</th>\n",
       "      <th>postal_code</th>\n",
       "    </tr>\n",
       "  </thead>\n",
       "  <tbody>\n",
       "    <tr>\n",
       "      <th>0</th>\n",
       "      <td>373096cf-bb05-4c80-8cfe-aa4f978ef5d0</td>\n",
       "      <td>00000_Mercy_Hospital_Springfield_Pharmacy</td>\n",
       "      <td>Scan_043_044_High_Low</td>\n",
       "      <td>NaN</td>\n",
       "      <td>fcad3025-f61e-4b23-9aca-fe550600b014</td>\n",
       "      <td>51ee74cd-a8fc-4acf-b665-1e6097c123bd</td>\n",
       "      <td>200810021927646</td>\n",
       "      <td>Unknown</td>\n",
       "      <td>Hospital</td>\n",
       "      <td>1000000.0</td>\n",
       "      <td>Springfield</td>\n",
       "      <td>MO</td>\n",
       "      <td>65804</td>\n",
       "    </tr>\n",
       "    <tr>\n",
       "      <th>1</th>\n",
       "      <td>373096cf-bb05-4c80-8cfe-aa4f978ef5d0</td>\n",
       "      <td>00000_Mercy_Hospital_Springfield_Pharmacy</td>\n",
       "      <td>Scan_007_Low</td>\n",
       "      <td>NaN</td>\n",
       "      <td>fcad3025-f61e-4b23-9aca-fe550600b014</td>\n",
       "      <td>51ee74cd-a8fc-4acf-b665-1e6097c123bd</td>\n",
       "      <td>200810021927646</td>\n",
       "      <td>Unknown</td>\n",
       "      <td>Hospital</td>\n",
       "      <td>1000000.0</td>\n",
       "      <td>Springfield</td>\n",
       "      <td>MO</td>\n",
       "      <td>65804</td>\n",
       "    </tr>\n",
       "    <tr>\n",
       "      <th>2</th>\n",
       "      <td>373096cf-bb05-4c80-8cfe-aa4f978ef5d0</td>\n",
       "      <td>00000_Mercy_Hospital_Springfield_Pharmacy</td>\n",
       "      <td>Scan_019_020_High_Low</td>\n",
       "      <td>NaN</td>\n",
       "      <td>fcad3025-f61e-4b23-9aca-fe550600b014</td>\n",
       "      <td>51ee74cd-a8fc-4acf-b665-1e6097c123bd</td>\n",
       "      <td>200810021927646</td>\n",
       "      <td>Unknown</td>\n",
       "      <td>Hospital</td>\n",
       "      <td>1000000.0</td>\n",
       "      <td>Springfield</td>\n",
       "      <td>MO</td>\n",
       "      <td>65804</td>\n",
       "    </tr>\n",
       "    <tr>\n",
       "      <th>3</th>\n",
       "      <td>373096cf-bb05-4c80-8cfe-aa4f978ef5d0</td>\n",
       "      <td>00000_Mercy_Hospital_Springfield_Pharmacy</td>\n",
       "      <td>Scan_021_022_High_Low</td>\n",
       "      <td>NaN</td>\n",
       "      <td>fcad3025-f61e-4b23-9aca-fe550600b014</td>\n",
       "      <td>51ee74cd-a8fc-4acf-b665-1e6097c123bd</td>\n",
       "      <td>200810021927646</td>\n",
       "      <td>Unknown</td>\n",
       "      <td>Hospital</td>\n",
       "      <td>1000000.0</td>\n",
       "      <td>Springfield</td>\n",
       "      <td>MO</td>\n",
       "      <td>65804</td>\n",
       "    </tr>\n",
       "    <tr>\n",
       "      <th>4</th>\n",
       "      <td>373096cf-bb05-4c80-8cfe-aa4f978ef5d0</td>\n",
       "      <td>00000_Mercy_Hospital_Springfield_Pharmacy</td>\n",
       "      <td>Scan_041_042_High_Low</td>\n",
       "      <td>NaN</td>\n",
       "      <td>fcad3025-f61e-4b23-9aca-fe550600b014</td>\n",
       "      <td>51ee74cd-a8fc-4acf-b665-1e6097c123bd</td>\n",
       "      <td>200810021927646</td>\n",
       "      <td>Unknown</td>\n",
       "      <td>Hospital</td>\n",
       "      <td>1000000.0</td>\n",
       "      <td>Springfield</td>\n",
       "      <td>MO</td>\n",
       "      <td>65804</td>\n",
       "    </tr>\n",
       "  </tbody>\n",
       "</table>\n",
       "</div>"
      ],
      "text/plain": [
       "                             project_id  \\\n",
       "0  373096cf-bb05-4c80-8cfe-aa4f978ef5d0   \n",
       "1  373096cf-bb05-4c80-8cfe-aa4f978ef5d0   \n",
       "2  373096cf-bb05-4c80-8cfe-aa4f978ef5d0   \n",
       "3  373096cf-bb05-4c80-8cfe-aa4f978ef5d0   \n",
       "4  373096cf-bb05-4c80-8cfe-aa4f978ef5d0   \n",
       "\n",
       "                                        name                  title  \\\n",
       "0  00000_Mercy_Hospital_Springfield_Pharmacy  Scan_043_044_High_Low   \n",
       "1  00000_Mercy_Hospital_Springfield_Pharmacy           Scan_007_Low   \n",
       "2  00000_Mercy_Hospital_Springfield_Pharmacy  Scan_019_020_High_Low   \n",
       "3  00000_Mercy_Hospital_Springfield_Pharmacy  Scan_021_022_High_Low   \n",
       "4  00000_Mercy_Hospital_Springfield_Pharmacy  Scan_041_042_High_Low   \n",
       "\n",
       "  description                         issue_type_id  \\\n",
       "0         NaN  fcad3025-f61e-4b23-9aca-fe550600b014   \n",
       "1         NaN  fcad3025-f61e-4b23-9aca-fe550600b014   \n",
       "2         NaN  fcad3025-f61e-4b23-9aca-fe550600b014   \n",
       "3         NaN  fcad3025-f61e-4b23-9aca-fe550600b014   \n",
       "4         NaN  fcad3025-f61e-4b23-9aca-fe550600b014   \n",
       "\n",
       "                             subtype_id      assignee_id job_number      type  \\\n",
       "0  51ee74cd-a8fc-4acf-b665-1e6097c123bd  200810021927646    Unknown  Hospital   \n",
       "1  51ee74cd-a8fc-4acf-b665-1e6097c123bd  200810021927646    Unknown  Hospital   \n",
       "2  51ee74cd-a8fc-4acf-b665-1e6097c123bd  200810021927646    Unknown  Hospital   \n",
       "3  51ee74cd-a8fc-4acf-b665-1e6097c123bd  200810021927646    Unknown  Hospital   \n",
       "4  51ee74cd-a8fc-4acf-b665-1e6097c123bd  200810021927646    Unknown  Hospital   \n",
       "\n",
       "       value         city state_or_province postal_code  \n",
       "0  1000000.0  Springfield                MO       65804  \n",
       "1  1000000.0  Springfield                MO       65804  \n",
       "2  1000000.0  Springfield                MO       65804  \n",
       "3  1000000.0  Springfield                MO       65804  \n",
       "4  1000000.0  Springfield                MO       65804  "
      ]
     },
     "execution_count": 17,
     "metadata": {},
     "output_type": "execute_result"
    }
   ],
   "source": [
    "W_NEW_PI_DF.rename(columns = {\"type_id\" : \"issue_type_id\"}, inplace=True)\n",
    "W_NEW_PI_DF.head()"
   ]
  },
  {
   "cell_type": "code",
   "execution_count": 18,
   "metadata": {},
   "outputs": [],
   "source": [
    "MERGED_PIIT_NEW = pd.merge(W_NEW_PI_DF, IT1_DF, on ='issue_type_id', how='inner')"
   ]
  },
  {
   "cell_type": "code",
   "execution_count": 19,
   "metadata": {},
   "outputs": [],
   "source": [
    "#MERGED_PIIT_NEW.head()"
   ]
  },
  {
   "cell_type": "code",
   "execution_count": 20,
   "metadata": {},
   "outputs": [],
   "source": [
    "MERGED_PIIT_NEW.drop(['is_active','created_by','created_at','updated_by','updated_at','bim360_account_id','bim360_project_id','deleted_by','deleted_at'],inplace=True, axis=1)"
   ]
  },
  {
   "cell_type": "code",
   "execution_count": 21,
   "metadata": {},
   "outputs": [],
   "source": [
    "MERGED_PIIT_NEW.rename(columns = {\"subtype_id\" : \"issue_subtype_id\"}, inplace=True)\n",
    "\n"
   ]
  },
  {
   "cell_type": "code",
   "execution_count": 22,
   "metadata": {},
   "outputs": [],
   "source": [
    "#len(IST1_DF['issue_type_id'].unique())"
   ]
  },
  {
   "cell_type": "code",
   "execution_count": 23,
   "metadata": {},
   "outputs": [],
   "source": [
    "#MERGED_PIIT_NEW.count()\n",
    "MERGED_PIIST_NEW = pd.merge(MERGED_PIIT_NEW, IST1_DF, on ='issue_subtype_id', how='inner')"
   ]
  },
  {
   "cell_type": "code",
   "execution_count": 24,
   "metadata": {},
   "outputs": [],
   "source": [
    "MERGED_PIIST_NEW.drop(['issue_type_id_x',\n",
    "                       'issue_subtype_id',\n",
    "                       'issue_type_id_y',\n",
    "                       'is_active',\n",
    "                       'created_by',\n",
    "                       'created_at',\n",
    "                       'updated_by',\n",
    "                       'updated_at',\n",
    "                       'deleted_by',\n",
    "                       'deleted_at',\n",
    "                       'bim360_account_id',\n",
    "                       'bim360_project_id'],inplace=True, axis=1)"
   ]
  },
  {
   "cell_type": "code",
   "execution_count": 25,
   "metadata": {},
   "outputs": [
    {
     "data": {
      "text/plain": [
       "project_id           59084\n",
       "name                 59084\n",
       "title                59084\n",
       "description          23200\n",
       "assignee_id          52446\n",
       "job_number           57085\n",
       "type                 59084\n",
       "value                57593\n",
       "city                 42841\n",
       "state_or_province    42592\n",
       "postal_code          42401\n",
       "issue_type           59084\n",
       "issue_subtype        59084\n",
       "dtype: int64"
      ]
     },
     "execution_count": 25,
     "metadata": {},
     "output_type": "execute_result"
    }
   ],
   "source": [
    "MERGED_PIIST_NEW.count()"
   ]
  },
  {
   "cell_type": "code",
   "execution_count": 26,
   "metadata": {},
   "outputs": [],
   "source": [
    "#MERGED_PUC_NEW.head()\n",
    "MERGED_PIIST_NEW.to_csv('NEW_PIIST.csv')\n",
    "\n",
    "#MERGED_PUC_NEW.rename(columns = {\"id\" : \"project_id\"}, inplace=True)"
   ]
  },
  {
   "cell_type": "code",
   "execution_count": 27,
   "metadata": {},
   "outputs": [],
   "source": [
    "OLD_PI_DF = pd.merge(P2_DF, I2_DF, on='project_id', how='inner')\n"
   ]
  },
  {
   "cell_type": "code",
   "execution_count": 28,
   "metadata": {},
   "outputs": [],
   "source": [
    "OLD_PI_DF.rename(columns = {\"id\":\"project_id\"}, inplace=True)\n",
    "OLD_PI_DF.drop(['business_unit_x',\n",
    "                'status_x',\n",
    "                'checklists',\n",
    "                'equipment',\n",
    "                'tasks',\n",
    "                'dailyUpdates',\n",
    "                'photos',\n",
    "                'users',\n",
    "                'identifier',\n",
    "                'status_y','priority',\n",
    "                'full_description',\n",
    "                'location_detail',\n",
    "                'source_type',\n",
    "                'parent_source_type',\n",
    "                'created_by',\n",
    "                'area',\n",
    "                'created_at',\n",
    "                'updated_at',\n",
    "                'created_from',\n",
    "                'due_date',\n",
    "                'closed_at',\n",
    "                'root_cause',\n",
    "                'hq_identifier_y',\n",
    "                'business_unit_y'],inplace=True, axis=1)"
   ]
  },
  {
   "cell_type": "code",
   "execution_count": 29,
   "metadata": {},
   "outputs": [
    {
     "data": {
      "text/plain": [
       "hq_identifier_x     101605\n",
       "project_id          101605\n",
       "name                101605\n",
       "files               101605\n",
       "issues              101605\n",
       "issue_id            101605\n",
       "description         101605\n",
       "issue_type          101605\n",
       "company_assigned     96657\n",
       "dtype: int64"
      ]
     },
     "execution_count": 29,
     "metadata": {},
     "output_type": "execute_result"
    }
   ],
   "source": [
    "OLD_PI_DF.count()"
   ]
  },
  {
   "cell_type": "code",
   "execution_count": 30,
   "metadata": {},
   "outputs": [],
   "source": [
    "OLD_PI_DF.rename(columns = {\"hq_identifier_x\":\"project_id\",\"project_id\":\"old_project_id\"}, inplace=True)"
   ]
  },
  {
   "cell_type": "code",
   "execution_count": 31,
   "metadata": {},
   "outputs": [],
   "source": [
    "MERGED_PI_OLD2NEW = pd.merge(OLD_PI_DF, P1_DF, on ='project_id', how='inner')"
   ]
  },
  {
   "cell_type": "code",
   "execution_count": 32,
   "metadata": {},
   "outputs": [],
   "source": [
    "MERGED_PI_OLD2NEW.count()\n",
    "MERGED_PI_OLD2NEW.drop(['files',\n",
    "                        'bim360_account_id',\n",
    "                        'address_line1',\n",
    "                        'address_line2',\n",
    "                        'start_date',\n",
    "                        'end_date',\n",
    "                        'currency',\n",
    "                        'timezone',\n",
    "                        'construction_type',\n",
    "                        'contract_type',\n",
    "                        'business_unit_id',\n",
    "                        'last_sign_in',\n",
    "                        'created_at',\n",
    "                        'country',\n",
    "                        ],inplace=True, axis=1)"
   ]
  },
  {
   "cell_type": "code",
   "execution_count": 33,
   "metadata": {},
   "outputs": [],
   "source": [
    "###################################################\n",
    "#### TO CLEAN\n",
    "MERGED_PI_OLD2NEW.head()\n",
    "MERGED_PI_OLD2NEW=MERGED_PI_OLD2NEW.reindex(columns = MERGED_PI_OLD2NEW.columns.tolist() + ['issue_subtype','title'])\n"
   ]
  },
  {
   "cell_type": "code",
   "execution_count": 34,
   "metadata": {},
   "outputs": [],
   "source": [
    "PI_OLD2NEW_DF = MERGED_PI_OLD2NEW[['project_id',\n",
    "                                  'name_x',\n",
    "                                  'job_number',\n",
    "                                  'type',\n",
    "                                  'value',\n",
    "                                  'city',\n",
    "                                  'state_or_province',\n",
    "                                  'postal_code',\n",
    "                                  'issue_type',\n",
    "                                  'issue_subtype',\n",
    "                                  'title',\n",
    "                                  'description',\n",
    "                                  ]].copy()"
   ]
  },
  {
   "cell_type": "code",
   "execution_count": 35,
   "metadata": {},
   "outputs": [],
   "source": [
    "PI_OLD2NEW_DF.rename(columns = {\"name_x\":\"name\"}, inplace=True)"
   ]
  },
  {
   "cell_type": "code",
   "execution_count": 36,
   "metadata": {},
   "outputs": [],
   "source": [
    "PIIST_NEW_DF = MERGED_PIIST_NEW [['project_id',\n",
    "                                  'name',\n",
    "                                  'job_number',\n",
    "                                  'type',\n",
    "                                  'value',\n",
    "                                  'city',\n",
    "                                  'state_or_province',\n",
    "                                  'postal_code',\n",
    "                                  'issue_type',\n",
    "                                  'issue_subtype',\n",
    "                                  'title',\n",
    "                                  'description',\n",
    "                                   ]].copy()"
   ]
  },
  {
   "cell_type": "code",
   "execution_count": 37,
   "metadata": {},
   "outputs": [
    {
     "data": {
      "text/plain": [
       "project_id           59084\n",
       "name                 59084\n",
       "job_number           57085\n",
       "type                 59084\n",
       "value                57593\n",
       "city                 42841\n",
       "state_or_province    42592\n",
       "postal_code          42401\n",
       "issue_type           59084\n",
       "issue_subtype        59084\n",
       "title                59084\n",
       "description          23200\n",
       "dtype: int64"
      ]
     },
     "execution_count": 37,
     "metadata": {},
     "output_type": "execute_result"
    }
   ],
   "source": [
    "PIIST_NEW_DF.count()"
   ]
  },
  {
   "cell_type": "code",
   "execution_count": 38,
   "metadata": {},
   "outputs": [],
   "source": [
    "PI_NEWandOLD_DF = pd.concat([PI_OLD2NEW_DF, PIIST_NEW_DF], axis = 0)"
   ]
  },
  {
   "cell_type": "code",
   "execution_count": 39,
   "metadata": {},
   "outputs": [
    {
     "data": {
      "text/plain": [
       "project_id           160689\n",
       "name                 160689\n",
       "job_number           108330\n",
       "type                 160689\n",
       "value                158952\n",
       "city                 124587\n",
       "state_or_province    125271\n",
       "postal_code          120071\n",
       "issue_type           160689\n",
       "issue_subtype         59084\n",
       "title                 59084\n",
       "description          124805\n",
       "dtype: int64"
      ]
     },
     "execution_count": 39,
     "metadata": {},
     "output_type": "execute_result"
    }
   ],
   "source": [
    "PI_NEWandOLD_DF.count()"
   ]
  },
  {
   "cell_type": "code",
   "execution_count": 47,
   "metadata": {},
   "outputs": [],
   "source": [
    "indexScanns = PI_NEWandOLD_DF[PI_NEWandOLD_DF['issue_subtype'] == 'Scanning' ].index\n"
   ]
  },
  {
   "cell_type": "code",
   "execution_count": 55,
   "metadata": {},
   "outputs": [
    {
     "name": "stdout",
     "output_type": "stream",
     "text": [
      "object\n"
     ]
    }
   ],
   "source": [
    "#indexFload = PI_NEWandOLD_DF.select_dtypes(include=['float64'])\n",
    "print(PI_NEWandOLD_DF['description'].dtypes)"
   ]
  },
  {
   "cell_type": "code",
   "execution_count": 53,
   "metadata": {},
   "outputs": [
    {
     "data": {
      "text/html": [
       "<div>\n",
       "<style scoped>\n",
       "    .dataframe tbody tr th:only-of-type {\n",
       "        vertical-align: middle;\n",
       "    }\n",
       "\n",
       "    .dataframe tbody tr th {\n",
       "        vertical-align: top;\n",
       "    }\n",
       "\n",
       "    .dataframe thead th {\n",
       "        text-align: right;\n",
       "    }\n",
       "</style>\n",
       "<table border=\"1\" class=\"dataframe\">\n",
       "  <thead>\n",
       "    <tr style=\"text-align: right;\">\n",
       "      <th></th>\n",
       "      <th>value</th>\n",
       "    </tr>\n",
       "  </thead>\n",
       "  <tbody>\n",
       "    <tr>\n",
       "      <th>0</th>\n",
       "      <td>20549347.0</td>\n",
       "    </tr>\n",
       "    <tr>\n",
       "      <th>1</th>\n",
       "      <td>20549347.0</td>\n",
       "    </tr>\n",
       "    <tr>\n",
       "      <th>2</th>\n",
       "      <td>20549347.0</td>\n",
       "    </tr>\n",
       "    <tr>\n",
       "      <th>3</th>\n",
       "      <td>20549347.0</td>\n",
       "    </tr>\n",
       "    <tr>\n",
       "      <th>4</th>\n",
       "      <td>20549347.0</td>\n",
       "    </tr>\n",
       "    <tr>\n",
       "      <th>...</th>\n",
       "      <td>...</td>\n",
       "    </tr>\n",
       "    <tr>\n",
       "      <th>59079</th>\n",
       "      <td>26748673.0</td>\n",
       "    </tr>\n",
       "    <tr>\n",
       "      <th>59080</th>\n",
       "      <td>26748673.0</td>\n",
       "    </tr>\n",
       "    <tr>\n",
       "      <th>59081</th>\n",
       "      <td>26748673.0</td>\n",
       "    </tr>\n",
       "    <tr>\n",
       "      <th>59082</th>\n",
       "      <td>26748673.0</td>\n",
       "    </tr>\n",
       "    <tr>\n",
       "      <th>59083</th>\n",
       "      <td>26748673.0</td>\n",
       "    </tr>\n",
       "  </tbody>\n",
       "</table>\n",
       "<p>159285 rows × 1 columns</p>\n",
       "</div>"
      ],
      "text/plain": [
       "            value\n",
       "0      20549347.0\n",
       "1      20549347.0\n",
       "2      20549347.0\n",
       "3      20549347.0\n",
       "4      20549347.0\n",
       "...           ...\n",
       "59079  26748673.0\n",
       "59080  26748673.0\n",
       "59081  26748673.0\n",
       "59082  26748673.0\n",
       "59083  26748673.0\n",
       "\n",
       "[159285 rows x 1 columns]"
      ]
     },
     "execution_count": 53,
     "metadata": {},
     "output_type": "execute_result"
    }
   ],
   "source": [
    "indexFload"
   ]
  },
  {
   "cell_type": "code",
   "execution_count": 42,
   "metadata": {},
   "outputs": [
    {
     "data": {
      "text/plain": [
       "702"
      ]
     },
     "execution_count": 42,
     "metadata": {},
     "output_type": "execute_result"
    }
   ],
   "source": [
    "len(indexScanns)"
   ]
  },
  {
   "cell_type": "code",
   "execution_count": 48,
   "metadata": {},
   "outputs": [
    {
     "data": {
      "text/plain": [
       "project_id            object\n",
       "name                  object\n",
       "job_number            object\n",
       "type                  object\n",
       "value                float64\n",
       "city                  object\n",
       "state_or_province     object\n",
       "postal_code           object\n",
       "issue_type            object\n",
       "issue_subtype         object\n",
       "title                 object\n",
       "description           object\n",
       "dtype: object"
      ]
     },
     "execution_count": 48,
     "metadata": {},
     "output_type": "execute_result"
    }
   ],
   "source": [
    "PI_NEWandOLD_DF.dtypes"
   ]
  },
  {
   "cell_type": "code",
   "execution_count": 43,
   "metadata": {},
   "outputs": [],
   "source": [
    "PI_NEWandOLD_DF.drop(indexScanns, inplace=True)"
   ]
  },
  {
   "cell_type": "code",
   "execution_count": 44,
   "metadata": {},
   "outputs": [],
   "source": [
    "PI_NEWandOLD_DF.to_csv('PI_NEWandOLD.csv')"
   ]
  },
  {
   "cell_type": "code",
   "execution_count": null,
   "metadata": {},
   "outputs": [],
   "source": [
    "################################################################################\n",
    "### END SECTION\n",
    "#################################################################################"
   ]
  },
  {
   "cell_type": "code",
   "execution_count": 23,
   "metadata": {},
   "outputs": [],
   "source": [
    "I1_DF.rename(columns = {\"bim360_project_id\" : \"project_id\"}, inplace=True)\n",
    "MERGED_NEW.to_csv('new_clean.csv')\n",
    "MERGED_OLD.rename(columns = {\"project_id\" : \"project_id_classic\"}, inplace=True)\n",
    "MERGED_OLD.rename(columns = {\"hq_identifier_x\" : \"project_id\"}, inplace=True)\n",
    "MERGED_OLD_NEXT = pd.merge(MERGED_OLD, P1_DF, on='project_id', how='inner')\n",
    "MERGED_OLD_NEXT.to_csv('old_next_clean.csv')\n",
    "### FINAL MERGE PROJECT ISSUES\n",
    "OLD_MAPPING = 'old_next_clean.csv'\n",
    "NEW_MAPPING = 'new_clean.csv'\n",
    "##################################\n",
    "OLD_DF = pd.read_csv(OLD_MAPPING, encoding='utf-8', low_memory=False)\n",
    "NEW_DF = pd.read_csv(NEW_MAPPING, encoding='utf-8', low_memory=False)\n",
    "# Working_OLD_DataFrame\n",
    "W_OLD_DF = OLD_DF[['project_id',\n",
    "                   'bim360_account_id'\n",
    "                   'business_unit_x',\n",
    "                   'name_x',\n",
    "                   'issues',\n",
    "                   'users',\n",
    "                   'issue_id',\n",
    "                   'description',\n",
    "                   'issue_type',\n",
    "                   'status_x',\n",
    "                   'company_assigned',\n",
    "                   'job_number',\n",
    "                   'identifier',\n",
    "                   'created_at_x',\n",
    "                   'due_date',\n",
    "                   'closed_at',\n",
    "                   'company_assigned',\n",
    "                   'created_by',\n",
    "                   'root_cause',\n",
    "                   'area',\n",
    "                   'location_detail',\n",
    "                   'type',\n",
    "                   'value',\n",
    "                   'city',\n",
    "                   'state_or_province',\n",
    "                   'postal_code']].copy()\n",
    "W_OLD_DF.head()\n",
    "W_OLD_DF.rename(columns = {\"name_x\" : \"name\",\n",
    "                           'business_unit_x' : 'business_unit',\n",
    "                           'status_x' : 'status',\n",
    "                           'created_at_x' : 'created_at'}, inplace=True)\n",
    "# W_NEW_DF = NEW_DF[['project_id',\n",
    "#                    'bim360_account_id_x'\n",
    "#                    'business_unit_x',\n",
    "#                    'name',\n",
    "#                    'issues',\n",
    "#                    'users',\n",
    "#                    'issue_id',\n",
    "#                    'title',\n",
    "#                    'description',\n",
    "#                    'issue_type',\n",
    "#                    'status_x',\n",
    "#                    'company_assigned',\n",
    "#                    'job_number',\n",
    "#                    'identifier',\n",
    "#                    'created_at_x',\n",
    "#                    'due_date',\n",
    "#                    'closed_at',\n",
    "#                    'company_assigned',\n",
    "#                    'created_by',\n",
    "#                    'root_cause',\n",
    "#                    'area',\n",
    "#                    'location_detail',\n",
    "#                    'type',\n",
    "#                    'value',\n",
    "#                    'city',\n",
    "#                    'state_or_province',\n",
    "#                    'postal_code']].copy()"
   ]
  },
  {
   "cell_type": "code",
   "execution_count": 24,
   "metadata": {},
   "outputs": [],
   "source": []
  },
  {
   "cell_type": "code",
   "execution_count": 28,
   "metadata": {},
   "outputs": [],
   "source": []
  },
  {
   "cell_type": "code",
   "execution_count": 29,
   "metadata": {},
   "outputs": [],
   "source": []
  },
  {
   "cell_type": "code",
   "execution_count": 32,
   "metadata": {},
   "outputs": [],
   "source": []
  },
  {
   "cell_type": "code",
   "execution_count": 35,
   "metadata": {},
   "outputs": [],
   "source": []
  },
  {
   "cell_type": "code",
   "execution_count": null,
   "metadata": {},
   "outputs": [],
   "source": []
  },
  {
   "cell_type": "code",
   "execution_count": 36,
   "metadata": {},
   "outputs": [],
   "source": [
    "\n"
   ]
  },
  {
   "cell_type": "code",
   "execution_count": 48,
   "metadata": {},
   "outputs": [],
   "source": [
    "\n"
   ]
  },
  {
   "cell_type": "code",
   "execution_count": 53,
   "metadata": {},
   "outputs": [],
   "source": []
  },
  {
   "cell_type": "code",
   "execution_count": 3,
   "metadata": {},
   "outputs": [],
   "source": [
    "\n"
   ]
  },
  {
   "cell_type": "code",
   "execution_count": null,
   "metadata": {},
   "outputs": [],
   "source": []
  }
 ],
 "metadata": {
  "kernelspec": {
   "display_name": "Python [conda env:PythonData] *",
   "language": "python",
   "name": "conda-env-PythonData-py"
  },
  "language_info": {
   "codemirror_mode": {
    "name": "ipython",
    "version": 3
   },
   "file_extension": ".py",
   "mimetype": "text/x-python",
   "name": "python",
   "nbconvert_exporter": "python",
   "pygments_lexer": "ipython3",
   "version": "3.6.9"
  }
 },
 "nbformat": 4,
 "nbformat_minor": 2
}
