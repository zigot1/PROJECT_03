{
 "cells": [
  {
   "cell_type": "code",
   "execution_count": 90,
   "metadata": {},
   "outputs": [],
   "source": [
    "import pandas as pd\n",
    "import numpy as np"
   ]
  },
  {
   "cell_type": "markdown",
   "metadata": {},
   "source": [
    "# Import the data and assign description column to process"
   ]
  },
  {
   "cell_type": "code",
   "execution_count": 91,
   "metadata": {},
   "outputs": [
    {
     "name": "stderr",
     "output_type": "stream",
     "text": [
      "C:\\Users\\mrabier\\AppData\\Local\\Continuum\\anaconda3\\lib\\site-packages\\IPython\\core\\interactiveshell.py:3058: DtypeWarning: Columns (8,10,11) have mixed types. Specify dtype option on import or set low_memory=False.\n",
      "  interactivity=interactivity, compiler=compiler, result=result)\n"
     ]
    }
   ],
   "source": [
    "csv = 'PI_NEWandOLD.csv'\n",
    "issues_df = pd.read_csv(csv, encoding='latin1')"
   ]
  },
  {
   "cell_type": "code",
   "execution_count": 92,
   "metadata": {},
   "outputs": [
    {
     "data": {
      "text/html": [
       "<div>\n",
       "<style scoped>\n",
       "    .dataframe tbody tr th:only-of-type {\n",
       "        vertical-align: middle;\n",
       "    }\n",
       "\n",
       "    .dataframe tbody tr th {\n",
       "        vertical-align: top;\n",
       "    }\n",
       "\n",
       "    .dataframe thead th {\n",
       "        text-align: right;\n",
       "    }\n",
       "</style>\n",
       "<table border=\"1\" class=\"dataframe\">\n",
       "  <thead>\n",
       "    <tr style=\"text-align: right;\">\n",
       "      <th></th>\n",
       "      <th>Unnamed: 0</th>\n",
       "      <th>project_id</th>\n",
       "      <th>name</th>\n",
       "      <th>job_number</th>\n",
       "      <th>type</th>\n",
       "      <th>value</th>\n",
       "      <th>city</th>\n",
       "      <th>state_or_province</th>\n",
       "      <th>postal_code</th>\n",
       "      <th>issue_type</th>\n",
       "      <th>issue_subtype</th>\n",
       "      <th>title</th>\n",
       "      <th>description</th>\n",
       "    </tr>\n",
       "  </thead>\n",
       "  <tbody>\n",
       "    <tr>\n",
       "      <td>0</td>\n",
       "      <td>0</td>\n",
       "      <td>01fa4f3a-9969-4069-a5b3-72fb630a0143</td>\n",
       "      <td>Gestamp</td>\n",
       "      <td>102601</td>\n",
       "      <td>Manufacturing / Factory</td>\n",
       "      <td>20549347.0</td>\n",
       "      <td>McCalla</td>\n",
       "      <td>AL</td>\n",
       "      <td>35111</td>\n",
       "      <td>Punch List : Pre-Punch List</td>\n",
       "      <td>NaN</td>\n",
       "      <td>NaN</td>\n",
       "      <td>Remove nails around dock angles.</td>\n",
       "    </tr>\n",
       "    <tr>\n",
       "      <td>1</td>\n",
       "      <td>1</td>\n",
       "      <td>01fa4f3a-9969-4069-a5b3-72fb630a0143</td>\n",
       "      <td>Gestamp</td>\n",
       "      <td>102601</td>\n",
       "      <td>Manufacturing / Factory</td>\n",
       "      <td>20549347.0</td>\n",
       "      <td>McCalla</td>\n",
       "      <td>AL</td>\n",
       "      <td>35111</td>\n",
       "      <td>Punch List : Pre-Punch List</td>\n",
       "      <td>NaN</td>\n",
       "      <td>NaN</td>\n",
       "      <td>Grind in a 3/4\" chamfer at all exterior corner...</td>\n",
       "    </tr>\n",
       "    <tr>\n",
       "      <td>2</td>\n",
       "      <td>2</td>\n",
       "      <td>01fa4f3a-9969-4069-a5b3-72fb630a0143</td>\n",
       "      <td>Gestamp</td>\n",
       "      <td>102601</td>\n",
       "      <td>Manufacturing / Factory</td>\n",
       "      <td>20549347.0</td>\n",
       "      <td>McCalla</td>\n",
       "      <td>AL</td>\n",
       "      <td>35111</td>\n",
       "      <td>Punch List : Architect Punch List</td>\n",
       "      <td>NaN</td>\n",
       "      <td>NaN</td>\n",
       "      <td>Install missing switch and data outlets</td>\n",
       "    </tr>\n",
       "    <tr>\n",
       "      <td>3</td>\n",
       "      <td>3</td>\n",
       "      <td>01fa4f3a-9969-4069-a5b3-72fb630a0143</td>\n",
       "      <td>Gestamp</td>\n",
       "      <td>102601</td>\n",
       "      <td>Manufacturing / Factory</td>\n",
       "      <td>20549347.0</td>\n",
       "      <td>McCalla</td>\n",
       "      <td>AL</td>\n",
       "      <td>35111</td>\n",
       "      <td>Punch List : Architect Punch List</td>\n",
       "      <td>NaN</td>\n",
       "      <td>NaN</td>\n",
       "      <td>Install cover plate on light switch</td>\n",
       "    </tr>\n",
       "    <tr>\n",
       "      <td>4</td>\n",
       "      <td>4</td>\n",
       "      <td>01fa4f3a-9969-4069-a5b3-72fb630a0143</td>\n",
       "      <td>Gestamp</td>\n",
       "      <td>102601</td>\n",
       "      <td>Manufacturing / Factory</td>\n",
       "      <td>20549347.0</td>\n",
       "      <td>McCalla</td>\n",
       "      <td>AL</td>\n",
       "      <td>35111</td>\n",
       "      <td>Punch List : Architect Punch List</td>\n",
       "      <td>NaN</td>\n",
       "      <td>NaN</td>\n",
       "      <td>Install base</td>\n",
       "    </tr>\n",
       "  </tbody>\n",
       "</table>\n",
       "</div>"
      ],
      "text/plain": [
       "   Unnamed: 0                            project_id     name job_number  \\\n",
       "0           0  01fa4f3a-9969-4069-a5b3-72fb630a0143  Gestamp     102601   \n",
       "1           1  01fa4f3a-9969-4069-a5b3-72fb630a0143  Gestamp     102601   \n",
       "2           2  01fa4f3a-9969-4069-a5b3-72fb630a0143  Gestamp     102601   \n",
       "3           3  01fa4f3a-9969-4069-a5b3-72fb630a0143  Gestamp     102601   \n",
       "4           4  01fa4f3a-9969-4069-a5b3-72fb630a0143  Gestamp     102601   \n",
       "\n",
       "                      type       value     city state_or_province postal_code  \\\n",
       "0  Manufacturing / Factory  20549347.0  McCalla                AL       35111   \n",
       "1  Manufacturing / Factory  20549347.0  McCalla                AL       35111   \n",
       "2  Manufacturing / Factory  20549347.0  McCalla                AL       35111   \n",
       "3  Manufacturing / Factory  20549347.0  McCalla                AL       35111   \n",
       "4  Manufacturing / Factory  20549347.0  McCalla                AL       35111   \n",
       "\n",
       "                          issue_type issue_subtype title  \\\n",
       "0        Punch List : Pre-Punch List           NaN   NaN   \n",
       "1        Punch List : Pre-Punch List           NaN   NaN   \n",
       "2  Punch List : Architect Punch List           NaN   NaN   \n",
       "3  Punch List : Architect Punch List           NaN   NaN   \n",
       "4  Punch List : Architect Punch List           NaN   NaN   \n",
       "\n",
       "                                         description  \n",
       "0                  Remove nails around dock angles.   \n",
       "1  Grind in a 3/4\" chamfer at all exterior corner...  \n",
       "2            Install missing switch and data outlets  \n",
       "3                Install cover plate on light switch  \n",
       "4                                       Install base  "
      ]
     },
     "execution_count": 92,
     "metadata": {},
     "output_type": "execute_result"
    }
   ],
   "source": [
    "issues_df.head()"
   ]
  },
  {
   "cell_type": "code",
   "execution_count": 93,
   "metadata": {},
   "outputs": [],
   "source": [
    "issues_df['description'] = issues_df['description'].fillna('').astype(str)\n",
    "issues_df['title'] = issues_df['title'].fillna('').astype(str)"
   ]
  },
  {
   "cell_type": "code",
   "execution_count": 96,
   "metadata": {},
   "outputs": [],
   "source": [
    "def description(row):\n",
    "    if len(row['description']) > len(row['title']):\n",
    "        return row['description'] \n",
    "    if len(row['description']) < len(row['title']):\n",
    "        return row['title']"
   ]
  },
  {
   "cell_type": "code",
   "execution_count": 97,
   "metadata": {},
   "outputs": [],
   "source": [
    "issues_df['description']=issues_df.apply (lambda row: description(row), axis =1)"
   ]
  },
  {
   "cell_type": "code",
   "execution_count": 98,
   "metadata": {},
   "outputs": [
    {
     "data": {
      "text/html": [
       "<div>\n",
       "<style scoped>\n",
       "    .dataframe tbody tr th:only-of-type {\n",
       "        vertical-align: middle;\n",
       "    }\n",
       "\n",
       "    .dataframe tbody tr th {\n",
       "        vertical-align: top;\n",
       "    }\n",
       "\n",
       "    .dataframe thead th {\n",
       "        text-align: right;\n",
       "    }\n",
       "</style>\n",
       "<table border=\"1\" class=\"dataframe\">\n",
       "  <thead>\n",
       "    <tr style=\"text-align: right;\">\n",
       "      <th></th>\n",
       "      <th>Unnamed: 0</th>\n",
       "      <th>project_id</th>\n",
       "      <th>name</th>\n",
       "      <th>job_number</th>\n",
       "      <th>type</th>\n",
       "      <th>value</th>\n",
       "      <th>city</th>\n",
       "      <th>state_or_province</th>\n",
       "      <th>postal_code</th>\n",
       "      <th>issue_type</th>\n",
       "      <th>issue_subtype</th>\n",
       "      <th>title</th>\n",
       "      <th>description</th>\n",
       "    </tr>\n",
       "  </thead>\n",
       "  <tbody>\n",
       "    <tr>\n",
       "      <td>0</td>\n",
       "      <td>0</td>\n",
       "      <td>01fa4f3a-9969-4069-a5b3-72fb630a0143</td>\n",
       "      <td>Gestamp</td>\n",
       "      <td>102601</td>\n",
       "      <td>Manufacturing / Factory</td>\n",
       "      <td>20549347.0</td>\n",
       "      <td>McCalla</td>\n",
       "      <td>AL</td>\n",
       "      <td>35111</td>\n",
       "      <td>Punch List : Pre-Punch List</td>\n",
       "      <td>NaN</td>\n",
       "      <td></td>\n",
       "      <td>Remove nails around dock angles.</td>\n",
       "    </tr>\n",
       "    <tr>\n",
       "      <td>1</td>\n",
       "      <td>1</td>\n",
       "      <td>01fa4f3a-9969-4069-a5b3-72fb630a0143</td>\n",
       "      <td>Gestamp</td>\n",
       "      <td>102601</td>\n",
       "      <td>Manufacturing / Factory</td>\n",
       "      <td>20549347.0</td>\n",
       "      <td>McCalla</td>\n",
       "      <td>AL</td>\n",
       "      <td>35111</td>\n",
       "      <td>Punch List : Pre-Punch List</td>\n",
       "      <td>NaN</td>\n",
       "      <td></td>\n",
       "      <td>Grind in a 3/4\" chamfer at all exterior corner...</td>\n",
       "    </tr>\n",
       "    <tr>\n",
       "      <td>2</td>\n",
       "      <td>2</td>\n",
       "      <td>01fa4f3a-9969-4069-a5b3-72fb630a0143</td>\n",
       "      <td>Gestamp</td>\n",
       "      <td>102601</td>\n",
       "      <td>Manufacturing / Factory</td>\n",
       "      <td>20549347.0</td>\n",
       "      <td>McCalla</td>\n",
       "      <td>AL</td>\n",
       "      <td>35111</td>\n",
       "      <td>Punch List : Architect Punch List</td>\n",
       "      <td>NaN</td>\n",
       "      <td></td>\n",
       "      <td>Install missing switch and data outlets</td>\n",
       "    </tr>\n",
       "    <tr>\n",
       "      <td>3</td>\n",
       "      <td>3</td>\n",
       "      <td>01fa4f3a-9969-4069-a5b3-72fb630a0143</td>\n",
       "      <td>Gestamp</td>\n",
       "      <td>102601</td>\n",
       "      <td>Manufacturing / Factory</td>\n",
       "      <td>20549347.0</td>\n",
       "      <td>McCalla</td>\n",
       "      <td>AL</td>\n",
       "      <td>35111</td>\n",
       "      <td>Punch List : Architect Punch List</td>\n",
       "      <td>NaN</td>\n",
       "      <td></td>\n",
       "      <td>Install cover plate on light switch</td>\n",
       "    </tr>\n",
       "    <tr>\n",
       "      <td>4</td>\n",
       "      <td>4</td>\n",
       "      <td>01fa4f3a-9969-4069-a5b3-72fb630a0143</td>\n",
       "      <td>Gestamp</td>\n",
       "      <td>102601</td>\n",
       "      <td>Manufacturing / Factory</td>\n",
       "      <td>20549347.0</td>\n",
       "      <td>McCalla</td>\n",
       "      <td>AL</td>\n",
       "      <td>35111</td>\n",
       "      <td>Punch List : Architect Punch List</td>\n",
       "      <td>NaN</td>\n",
       "      <td></td>\n",
       "      <td>Install base</td>\n",
       "    </tr>\n",
       "    <tr>\n",
       "      <td>...</td>\n",
       "      <td>...</td>\n",
       "      <td>...</td>\n",
       "      <td>...</td>\n",
       "      <td>...</td>\n",
       "      <td>...</td>\n",
       "      <td>...</td>\n",
       "      <td>...</td>\n",
       "      <td>...</td>\n",
       "      <td>...</td>\n",
       "      <td>...</td>\n",
       "      <td>...</td>\n",
       "      <td>...</td>\n",
       "      <td>...</td>\n",
       "    </tr>\n",
       "    <tr>\n",
       "      <td>160684</td>\n",
       "      <td>59079</td>\n",
       "      <td>69bb62b9-8abd-4b2d-8393-abb625f1023c</td>\n",
       "      <td>10104186 - Project Kodiak</td>\n",
       "      <td>10104186</td>\n",
       "      <td>Warehouse (non-manufacturing)</td>\n",
       "      <td>26748673.0</td>\n",
       "      <td>Salisbury</td>\n",
       "      <td>NC</td>\n",
       "      <td>28146</td>\n",
       "      <td>Observation</td>\n",
       "      <td>Safety</td>\n",
       "      <td>Fuel stored next to Natural gas Trailer</td>\n",
       "      <td>Owned by Chewy Sub but still needs to be removed.</td>\n",
       "    </tr>\n",
       "    <tr>\n",
       "      <td>160685</td>\n",
       "      <td>59080</td>\n",
       "      <td>69bb62b9-8abd-4b2d-8393-abb625f1023c</td>\n",
       "      <td>10104186 - Project Kodiak</td>\n",
       "      <td>10104186</td>\n",
       "      <td>Warehouse (non-manufacturing)</td>\n",
       "      <td>26748673.0</td>\n",
       "      <td>Salisbury</td>\n",
       "      <td>NC</td>\n",
       "      <td>28146</td>\n",
       "      <td>Quality</td>\n",
       "      <td>Workmanship</td>\n",
       "      <td>Plywood Enclosure needs some attention</td>\n",
       "      <td>Plywood Enclosure needs some attention</td>\n",
       "    </tr>\n",
       "    <tr>\n",
       "      <td>160686</td>\n",
       "      <td>59081</td>\n",
       "      <td>69bb62b9-8abd-4b2d-8393-abb625f1023c</td>\n",
       "      <td>10104186 - Project Kodiak</td>\n",
       "      <td>10104186</td>\n",
       "      <td>Warehouse (non-manufacturing)</td>\n",
       "      <td>26748673.0</td>\n",
       "      <td>Salisbury</td>\n",
       "      <td>NC</td>\n",
       "      <td>28146</td>\n",
       "      <td>Quality</td>\n",
       "      <td>Workmanship</td>\n",
       "      <td>Replace Damaged base course asphalt</td>\n",
       "      <td>Need a map created to make sure we pick up all...</td>\n",
       "    </tr>\n",
       "    <tr>\n",
       "      <td>160687</td>\n",
       "      <td>59082</td>\n",
       "      <td>69bb62b9-8abd-4b2d-8393-abb625f1023c</td>\n",
       "      <td>10104186 - Project Kodiak</td>\n",
       "      <td>10104186</td>\n",
       "      <td>Warehouse (non-manufacturing)</td>\n",
       "      <td>26748673.0</td>\n",
       "      <td>Salisbury</td>\n",
       "      <td>NC</td>\n",
       "      <td>28146</td>\n",
       "      <td>Quality</td>\n",
       "      <td>Quality</td>\n",
       "      <td>Concrete Acid etched</td>\n",
       "      <td>Need to come up with a plan to repair the slab...</td>\n",
       "    </tr>\n",
       "    <tr>\n",
       "      <td>160688</td>\n",
       "      <td>59083</td>\n",
       "      <td>69bb62b9-8abd-4b2d-8393-abb625f1023c</td>\n",
       "      <td>10104186 - Project Kodiak</td>\n",
       "      <td>10104186</td>\n",
       "      <td>Warehouse (non-manufacturing)</td>\n",
       "      <td>26748673.0</td>\n",
       "      <td>Salisbury</td>\n",
       "      <td>NC</td>\n",
       "      <td>28146</td>\n",
       "      <td>Quality</td>\n",
       "      <td>Quality</td>\n",
       "      <td>Rust on dock angle</td>\n",
       "      <td>Need to re galvanize the angle.</td>\n",
       "    </tr>\n",
       "  </tbody>\n",
       "</table>\n",
       "<p>160689 rows × 13 columns</p>\n",
       "</div>"
      ],
      "text/plain": [
       "        Unnamed: 0                            project_id  \\\n",
       "0                0  01fa4f3a-9969-4069-a5b3-72fb630a0143   \n",
       "1                1  01fa4f3a-9969-4069-a5b3-72fb630a0143   \n",
       "2                2  01fa4f3a-9969-4069-a5b3-72fb630a0143   \n",
       "3                3  01fa4f3a-9969-4069-a5b3-72fb630a0143   \n",
       "4                4  01fa4f3a-9969-4069-a5b3-72fb630a0143   \n",
       "...            ...                                   ...   \n",
       "160684       59079  69bb62b9-8abd-4b2d-8393-abb625f1023c   \n",
       "160685       59080  69bb62b9-8abd-4b2d-8393-abb625f1023c   \n",
       "160686       59081  69bb62b9-8abd-4b2d-8393-abb625f1023c   \n",
       "160687       59082  69bb62b9-8abd-4b2d-8393-abb625f1023c   \n",
       "160688       59083  69bb62b9-8abd-4b2d-8393-abb625f1023c   \n",
       "\n",
       "                             name job_number                           type  \\\n",
       "0                         Gestamp     102601        Manufacturing / Factory   \n",
       "1                         Gestamp     102601        Manufacturing / Factory   \n",
       "2                         Gestamp     102601        Manufacturing / Factory   \n",
       "3                         Gestamp     102601        Manufacturing / Factory   \n",
       "4                         Gestamp     102601        Manufacturing / Factory   \n",
       "...                           ...        ...                            ...   \n",
       "160684  10104186 - Project Kodiak   10104186  Warehouse (non-manufacturing)   \n",
       "160685  10104186 - Project Kodiak   10104186  Warehouse (non-manufacturing)   \n",
       "160686  10104186 - Project Kodiak   10104186  Warehouse (non-manufacturing)   \n",
       "160687  10104186 - Project Kodiak   10104186  Warehouse (non-manufacturing)   \n",
       "160688  10104186 - Project Kodiak   10104186  Warehouse (non-manufacturing)   \n",
       "\n",
       "             value       city state_or_province postal_code  \\\n",
       "0       20549347.0    McCalla                AL       35111   \n",
       "1       20549347.0    McCalla                AL       35111   \n",
       "2       20549347.0    McCalla                AL       35111   \n",
       "3       20549347.0    McCalla                AL       35111   \n",
       "4       20549347.0    McCalla                AL       35111   \n",
       "...            ...        ...               ...         ...   \n",
       "160684  26748673.0  Salisbury                NC       28146   \n",
       "160685  26748673.0  Salisbury                NC       28146   \n",
       "160686  26748673.0  Salisbury                NC       28146   \n",
       "160687  26748673.0  Salisbury                NC       28146   \n",
       "160688  26748673.0  Salisbury                NC       28146   \n",
       "\n",
       "                               issue_type issue_subtype  \\\n",
       "0             Punch List : Pre-Punch List           NaN   \n",
       "1             Punch List : Pre-Punch List           NaN   \n",
       "2       Punch List : Architect Punch List           NaN   \n",
       "3       Punch List : Architect Punch List           NaN   \n",
       "4       Punch List : Architect Punch List           NaN   \n",
       "...                                   ...           ...   \n",
       "160684                        Observation        Safety   \n",
       "160685                            Quality   Workmanship   \n",
       "160686                            Quality   Workmanship   \n",
       "160687                            Quality       Quality   \n",
       "160688                            Quality       Quality   \n",
       "\n",
       "                                          title  \\\n",
       "0                                                 \n",
       "1                                                 \n",
       "2                                                 \n",
       "3                                                 \n",
       "4                                                 \n",
       "...                                         ...   \n",
       "160684  Fuel stored next to Natural gas Trailer   \n",
       "160685  Plywood Enclosure needs some attention    \n",
       "160686      Replace Damaged base course asphalt   \n",
       "160687                     Concrete Acid etched   \n",
       "160688                       Rust on dock angle   \n",
       "\n",
       "                                              description  \n",
       "0                       Remove nails around dock angles.   \n",
       "1       Grind in a 3/4\" chamfer at all exterior corner...  \n",
       "2                 Install missing switch and data outlets  \n",
       "3                     Install cover plate on light switch  \n",
       "4                                            Install base  \n",
       "...                                                   ...  \n",
       "160684  Owned by Chewy Sub but still needs to be removed.  \n",
       "160685            Plywood Enclosure needs some attention   \n",
       "160686  Need a map created to make sure we pick up all...  \n",
       "160687  Need to come up with a plan to repair the slab...  \n",
       "160688                    Need to re galvanize the angle.  \n",
       "\n",
       "[160689 rows x 13 columns]"
      ]
     },
     "execution_count": 98,
     "metadata": {},
     "output_type": "execute_result"
    }
   ],
   "source": [
    "issues_df"
   ]
  },
  {
   "cell_type": "code",
   "execution_count": 4,
   "metadata": {},
   "outputs": [
    {
     "name": "stderr",
     "output_type": "stream",
     "text": [
      "C:\\Users\\mrabier\\AppData\\Local\\Continuum\\anaconda3\\lib\\site-packages\\ipykernel_launcher.py:2: SettingWithCopyWarning: \n",
      "A value is trying to be set on a copy of a slice from a DataFrame.\n",
      "Try using .loc[row_indexer,col_indexer] = value instead\n",
      "\n",
      "See the caveats in the documentation: http://pandas.pydata.org/pandas-docs/stable/user_guide/indexing.html#returning-a-view-versus-a-copy\n",
      "  \n"
     ]
    }
   ],
   "source": [
    "description_text = issues_df[[\"description\"]]\n",
    "description_text['index']=description_text.index\n",
    "documents = description_text"
   ]
  },
  {
   "cell_type": "code",
   "execution_count": 5,
   "metadata": {},
   "outputs": [
    {
     "name": "stdout",
     "output_type": "stream",
     "text": [
      "160689\n",
      "                                          description  index\n",
      "0                   Remove nails around dock angles.       0\n",
      "1   Grind in a 3/4\" chamfer at all exterior corner...      1\n",
      "2             Install missing switch and data outlets      2\n",
      "3                 Install cover plate on light switch      3\n",
      "4                                        Install base      4\n",
      "5                       Repaint north and south walls      5\n",
      "6               Complete striping and traffic signage      6\n",
      "7                                   Clean floor, typ.      7\n",
      "8          Touch up yellow paint at railing door x118      8\n",
      "9                   Fix weatherstripping at door x119      9\n",
      "10  Fill nail holes in all door windows, offices a...     10\n",
      "11                                    Paint east wall     11\n",
      "12                                   Paint above door     12\n",
      "13  Verify no base heater in women's\\r\\n\\r\\nClayco...     13\n",
      "14  Patch top of SE drive in ramp so it is level a...     14\n",
      "15                         Clean haze from tile walls     15\n",
      "16  Remove stick pin insulation, fur out drywall t...     16\n",
      "17        Replace thermax in electrical room as shown     17\n",
      "18         Door sa2a  & sa2b add screws to door frame     18\n",
      "19                      Touch up paint around window      19\n",
      "20                       Touch up paint around window     20\n",
      "21       Caulk joint at employee entrance site paving     21\n",
      "22                                   <no description>     22\n",
      "23    Adjust dock shelters on north side of building      23\n",
      "24                 Touch up drywall for smooth finish     24\n",
      "25                                   <no description>     25\n",
      "26       Re-paint around installations in panels, typ     26\n",
      "27       Add diffusers and make sure both lights work     27\n",
      "28                                       Install base     28\n",
      "29  Check all lockers for missing screws, and conn...     29\n"
     ]
    }
   ],
   "source": [
    "print(len(documents))\n",
    "print(documents[:30])"
   ]
  },
  {
   "cell_type": "markdown",
   "metadata": {},
   "source": [
    "# Data Pre-processing which includes tokenization, removal of stop words and words with fewer than 3 words, lemmatization, stemming"
   ]
  },
  {
   "cell_type": "code",
   "execution_count": 6,
   "metadata": {},
   "outputs": [
    {
     "name": "stderr",
     "output_type": "stream",
     "text": [
      "[nltk_data] Downloading package wordnet to\n",
      "[nltk_data]     C:\\Users\\mrabier\\AppData\\Roaming\\nltk_data...\n",
      "[nltk_data]   Package wordnet is already up-to-date!\n"
     ]
    },
    {
     "data": {
      "text/plain": [
       "True"
      ]
     },
     "execution_count": 6,
     "metadata": {},
     "output_type": "execute_result"
    }
   ],
   "source": [
    "import gensim\n",
    "from gensim.utils import simple_preprocess\n",
    "from gensim.parsing.preprocessing import STOPWORDS\n",
    "from nltk.stem import WordNetLemmatizer, SnowballStemmer\n",
    "from nltk.stem.porter import *\n",
    "np.random.seed(2018)\n",
    "import nltk\n",
    "nltk.download('wordnet')"
   ]
  },
  {
   "cell_type": "code",
   "execution_count": 7,
   "metadata": {},
   "outputs": [],
   "source": [
    "stemmer = PorterStemmer()"
   ]
  },
  {
   "cell_type": "code",
   "execution_count": 8,
   "metadata": {},
   "outputs": [],
   "source": [
    "#Write a function to perform lemmatize and stem preprocessing steps on the data set\n",
    "\n",
    "def lemmatize_stemming(text):\n",
    "    return stemmer.stem(WordNetLemmatizer().lemmatize(text, pos='v'))\n",
    "\n",
    "def preprocess(text):\n",
    "    result = []\n",
    "    for token in gensim.utils.simple_preprocess(text):\n",
    "        if token not in gensim.parsing.preprocessing.STOPWORDS and len(token) > 3:\n",
    "            result.append(lemmatize_stemming(token))\n",
    "    return result"
   ]
  },
  {
   "cell_type": "code",
   "execution_count": null,
   "metadata": {},
   "outputs": [],
   "source": []
  },
  {
   "cell_type": "code",
   "execution_count": 9,
   "metadata": {},
   "outputs": [
    {
     "name": "stdout",
     "output_type": "stream",
     "text": [
      "original document: \n",
      "['Remove', 'paint', 'from', 'rubber', 'base', 'left', 'of', 'room', '606']\n",
      "\n",
      "\n",
      " tokenized and lemmatized document: \n",
      "['remov', 'paint', 'rubber', 'base', 'leav', 'room']\n"
     ]
    }
   ],
   "source": [
    "#Select a document to preview after preprocessing\n",
    "\n",
    "doc_sample = documents[documents['index'] == 4310].values[0][0]\n",
    "print('original document: ')\n",
    "words = []\n",
    "for word in doc_sample.split(' '):\n",
    "    words.append(word)\n",
    "print(words)\n",
    "print('\\n\\n tokenized and lemmatized document: ')\n",
    "print(preprocess(doc_sample))"
   ]
  },
  {
   "cell_type": "code",
   "execution_count": 11,
   "metadata": {},
   "outputs": [
    {
     "data": {
      "text/plain": [
       "0                            [remov, nail, dock, angl]\n",
       "1    [grind, chamfer, exterior, corner, tilt, panel...\n",
       "2                 [instal, miss, switch, data, outlet]\n",
       "3                [instal, cover, plate, light, switch]\n",
       "4                                       [instal, base]\n",
       "5                        [repaint, north, south, wall]\n",
       "6                    [complet, strip, traffic, signag]\n",
       "7                                       [clean, floor]\n",
       "8                   [touch, yellow, paint, rail, door]\n",
       "9                                               [door]\n",
       "Name: description, dtype: object"
      ]
     },
     "execution_count": 11,
     "metadata": {},
     "output_type": "execute_result"
    }
   ],
   "source": [
    "# Pre-process all of the description cells\n",
    "\n",
    "processed_docs = documents['description'].astype(str).map(preprocess)\n",
    "processed_docs[:10]"
   ]
  },
  {
   "cell_type": "markdown",
   "metadata": {},
   "source": [
    "# Bag of Words on the Data Set"
   ]
  },
  {
   "cell_type": "code",
   "execution_count": 12,
   "metadata": {},
   "outputs": [],
   "source": [
    "dictionary = gensim.corpora.Dictionary(processed_docs)\n"
   ]
  },
  {
   "cell_type": "code",
   "execution_count": 13,
   "metadata": {},
   "outputs": [
    {
     "name": "stdout",
     "output_type": "stream",
     "text": [
      "0 angl\n",
      "1 dock\n",
      "2 nail\n",
      "3 remov\n",
      "4 chamfer\n",
      "5 corner\n",
      "6 exterior\n",
      "7 grind\n",
      "8 insid\n",
      "9 loung\n",
      "10 panel\n"
     ]
    }
   ],
   "source": [
    "count = 0\n",
    "for k, v in dictionary.iteritems():\n",
    "    print(k, v)\n",
    "    count += 1\n",
    "    if count > 10:\n",
    "        break"
   ]
  },
  {
   "cell_type": "code",
   "execution_count": 14,
   "metadata": {},
   "outputs": [],
   "source": [
    "# filter out tokens that appear in less than 15 documents, more than .5 documents and the most 100000 most frequent tokens\n",
    "dictionary.filter_extremes(no_below=15, no_above=0.5, keep_n=10000)"
   ]
  },
  {
   "cell_type": "code",
   "execution_count": 15,
   "metadata": {},
   "outputs": [
    {
     "name": "stdout",
     "output_type": "stream",
     "text": [
      "0 angl\n",
      "1 dock\n",
      "2 nail\n",
      "3 remov\n",
      "4 chamfer\n",
      "5 corner\n",
      "6 exterior\n",
      "7 grind\n",
      "8 insid\n",
      "9 loung\n",
      "10 panel\n"
     ]
    }
   ],
   "source": [
    "count = 0\n",
    "for k, v in dictionary.iteritems():\n",
    "    print(k, v)\n",
    "    count += 1\n",
    "    if count > 10:\n",
    "        break"
   ]
  },
  {
   "cell_type": "code",
   "execution_count": 16,
   "metadata": {},
   "outputs": [
    {
     "data": {
      "text/plain": [
       "[(3, 1), (23, 1), (35, 1), (63, 1), (155, 1), (384, 1)]"
      ]
     },
     "execution_count": 16,
     "metadata": {},
     "output_type": "execute_result"
    }
   ],
   "source": [
    "#For each cell, we create a dictionary reporting how many words and how many times those words appear\n",
    "bow_corpus = [dictionary.doc2bow(doc) for doc in processed_docs]\n",
    "bow_corpus[4310]"
   ]
  },
  {
   "cell_type": "code",
   "execution_count": 17,
   "metadata": {},
   "outputs": [
    {
     "name": "stdout",
     "output_type": "stream",
     "text": [
      "Word 3 (\"remov\") appears 1 time.\n",
      "Word 23 (\"base\") appears 1 time.\n",
      "Word 35 (\"paint\") appears 1 time.\n",
      "Word 63 (\"room\") appears 1 time.\n",
      "Word 155 (\"leav\") appears 1 time.\n",
      "Word 384 (\"rubber\") appears 1 time.\n"
     ]
    }
   ],
   "source": [
    "bow_doc_4310 = bow_corpus[4310]\n",
    "for i in range(len(bow_doc_4310)):\n",
    "    print(\"Word {} (\\\"{}\\\") appears {} time.\".format(bow_doc_4310[i][0], \n",
    "                                               dictionary[bow_doc_4310[i][0]], \n",
    "bow_doc_4310[i][1]))"
   ]
  },
  {
   "cell_type": "code",
   "execution_count": 18,
   "metadata": {},
   "outputs": [
    {
     "name": "stdout",
     "output_type": "stream",
     "text": [
      "[(0, 0.5764724600853102),\n",
      " (1, 0.5663923097698391),\n",
      " (2, 0.5131117272802224),\n",
      " (3, 0.2891290534074423)]\n"
     ]
    }
   ],
   "source": [
    "# TF-IDF\n",
    "\n",
    "from gensim import corpora, models\n",
    "tfidf = models.TfidfModel(bow_corpus)\n",
    "corpus_tfidf = tfidf[bow_corpus]\n",
    "from pprint import pprint\n",
    "for doc in corpus_tfidf:\n",
    "    pprint(doc)\n",
    "    break"
   ]
  },
  {
   "cell_type": "markdown",
   "metadata": {},
   "source": [
    "# Run LDA using Bag of Words"
   ]
  },
  {
   "cell_type": "code",
   "execution_count": 25,
   "metadata": {},
   "outputs": [],
   "source": [
    "lda_model = gensim.models.LdaMulticore(bow_corpus, num_topics=20, id2word=dictionary, passes=4, workers=2)"
   ]
  },
  {
   "cell_type": "code",
   "execution_count": 26,
   "metadata": {},
   "outputs": [
    {
     "name": "stdout",
     "output_type": "stream",
     "text": [
      "Topic: 0 \n",
      "Words: 0.175*\"caulk\" + 0.059*\"look\" + 0.047*\"sink\" + 0.047*\"damag\" + 0.040*\"need\" + 0.036*\"toilet\" + 0.031*\"suppli\" + 0.028*\"return\" + 0.027*\"grill\" + 0.027*\"align\"\n",
      "Topic: 1 \n",
      "Words: 0.068*\"sprinkler\" + 0.067*\"edg\" + 0.064*\"shower\" + 0.056*\"head\" + 0.042*\"screw\" + 0.038*\"roof\" + 0.029*\"loos\" + 0.027*\"come\" + 0.022*\"escutcheon\" + 0.021*\"slab\"\n",
      "Topic: 2 \n",
      "Words: 0.047*\"issu\" + 0.044*\"adjust\" + 0.041*\"draw\" + 0.029*\"project\" + 0.021*\"flush\" + 0.020*\"show\" + 0.018*\"creat\" + 0.017*\"item\" + 0.017*\"design\" + 0.016*\"field\"\n",
      "Topic: 3 \n",
      "Words: 0.146*\"panel\" + 0.093*\"unit\" + 0.065*\"access\" + 0.042*\"bathroom\" + 0.034*\"closet\" + 0.031*\"bedroom\" + 0.027*\"entri\" + 0.024*\"need\" + 0.021*\"coat\" + 0.020*\"email\"\n",
      "Topic: 4 \n",
      "Words: 0.071*\"rebar\" + 0.050*\"protect\" + 0.035*\"need\" + 0.033*\"grind\" + 0.030*\"work\" + 0.028*\"long\" + 0.021*\"ladder\" + 0.020*\"worker\" + 0.017*\"break\" + 0.016*\"area\"\n",
      "Topic: 5 \n",
      "Words: 0.215*\"repair\" + 0.111*\"tape\" + 0.102*\"corner\" + 0.079*\"locat\" + 0.053*\"sticker\" + 0.052*\"note\" + 0.052*\"indic\" + 0.043*\"paint\" + 0.031*\"guard\" + 0.028*\"drywal\"\n",
      "Topic: 6 \n",
      "Words: 0.135*\"direct\" + 0.032*\"surfac\" + 0.030*\"cabl\" + 0.030*\"list\" + 0.025*\"walk\" + 0.023*\"hazard\" + 0.023*\"trip\" + 0.021*\"leak\" + 0.021*\"number\" + 0.020*\"manag\"\n",
      "Topic: 7 \n",
      "Words: 0.460*\"paint\" + 0.225*\"touch\" + 0.069*\"wall\" + 0.058*\"trim\" + 0.029*\"need\" + 0.014*\"patch\" + 0.014*\"mullion\" + 0.013*\"edg\" + 0.013*\"global\" + 0.012*\"reveal\"\n",
      "Topic: 8 \n",
      "Words: 0.223*\"wall\" + 0.113*\"ceil\" + 0.110*\"patch\" + 0.078*\"tile\" + 0.067*\"hole\" + 0.058*\"replac\" + 0.036*\"south\" + 0.034*\"need\" + 0.031*\"north\" + 0.027*\"east\"\n",
      "Topic: 9 \n",
      "Words: 0.102*\"open\" + 0.090*\"requir\" + 0.041*\"cut\" + 0.028*\"water\" + 0.027*\"photo\" + 0.027*\"drain\" + 0.027*\"locat\" + 0.026*\"short\" + 0.020*\"attach\" + 0.020*\"provid\"\n",
      "Topic: 10 \n",
      "Words: 0.210*\"remov\" + 0.198*\"clean\" + 0.079*\"floor\" + 0.054*\"concret\" + 0.047*\"sealant\" + 0.026*\"final\" + 0.021*\"shade\" + 0.020*\"nail\" + 0.019*\"debri\" + 0.019*\"need\"\n",
      "Topic: 11 \n",
      "Words: 0.048*\"level\" + 0.032*\"stair\" + 0.029*\"need\" + 0.028*\"elev\" + 0.027*\"roof\" + 0.026*\"insul\" + 0.023*\"duct\" + 0.020*\"steel\" + 0.020*\"connect\" + 0.019*\"build\"\n",
      "Topic: 12 \n",
      "Words: 0.429*\"instal\" + 0.104*\"base\" + 0.095*\"complet\" + 0.073*\"finish\" + 0.039*\"spall\" + 0.033*\"incomplet\" + 0.023*\"rail\" + 0.021*\"floor\" + 0.021*\"thermostat\" + 0.013*\"secur\"\n",
      "Topic: 13 \n",
      "Words: 0.209*\"miss\" + 0.120*\"room\" + 0.050*\"label\" + 0.047*\"crack\" + 0.041*\"test\" + 0.039*\"outsid\" + 0.022*\"receptacl\" + 0.022*\"screen\" + 0.020*\"insid\" + 0.020*\"temp\"\n",
      "Topic: 14 \n",
      "Words: 0.140*\"light\" + 0.064*\"fixtur\" + 0.051*\"conduit\" + 0.047*\"electr\" + 0.037*\"need\" + 0.032*\"wire\" + 0.032*\"room\" + 0.030*\"exist\" + 0.022*\"trash\" + 0.021*\"materi\"\n",
      "Topic: 15 \n",
      "Words: 0.154*\"cover\" + 0.110*\"seal\" + 0.103*\"instal\" + 0.077*\"penetr\" + 0.067*\"outlet\" + 0.051*\"wall\" + 0.048*\"plate\" + 0.041*\"switch\" + 0.032*\"data\" + 0.028*\"offic\"\n",
      "Topic: 16 \n",
      "Words: 0.077*\"column\" + 0.034*\"need\" + 0.028*\"confirm\" + 0.022*\"locat\" + 0.022*\"approv\" + 0.021*\"review\" + 0.020*\"site\" + 0.020*\"sign\" + 0.019*\"oper\" + 0.019*\"time\"\n",
      "Topic: 17 \n",
      "Words: 0.391*\"door\" + 0.128*\"frame\" + 0.042*\"glass\" + 0.041*\"stop\" + 0.034*\"need\" + 0.034*\"close\" + 0.023*\"gasket\" + 0.023*\"hardwar\" + 0.021*\"latch\" + 0.017*\"adjust\"\n",
      "Topic: 18 \n",
      "Words: 0.084*\"joint\" + 0.079*\"line\" + 0.069*\"pipe\" + 0.043*\"support\" + 0.037*\"need\" + 0.032*\"corridor\" + 0.031*\"ceil\" + 0.031*\"grout\" + 0.028*\"grid\" + 0.025*\"water\"\n",
      "Topic: 19 \n",
      "Words: 0.228*\"window\" + 0.110*\"drywal\" + 0.092*\"mark\" + 0.060*\"sill\" + 0.051*\"scratch\" + 0.025*\"repaint\" + 0.025*\"soffit\" + 0.025*\"jamb\" + 0.024*\"patch\" + 0.024*\"spot\"\n"
     ]
    }
   ],
   "source": [
    "for idx, topic in lda_model.print_topics(-1):\n",
    "    print('Topic: {} \\nWords: {}'.format(idx, topic))"
   ]
  },
  {
   "cell_type": "markdown",
   "metadata": {},
   "source": [
    "# Run LDA using TF-IDF"
   ]
  },
  {
   "cell_type": "code",
   "execution_count": 27,
   "metadata": {},
   "outputs": [
    {
     "name": "stdout",
     "output_type": "stream",
     "text": [
      "Topic: 0 Word: 0.113*\"base\" + 0.094*\"instal\" + 0.059*\"sprinkler\" + 0.052*\"shade\" + 0.039*\"head\" + 0.036*\"escutcheon\" + 0.033*\"window\" + 0.025*\"complet\" + 0.015*\"core\" + 0.015*\"miss\"\n",
      "Topic: 1 Word: 0.021*\"issu\" + 0.020*\"sign\" + 0.016*\"item\" + 0.016*\"materi\" + 0.014*\"countertop\" + 0.014*\"safeti\" + 0.013*\"gener\" + 0.013*\"project\" + 0.013*\"need\" + 0.013*\"screw\"\n",
      "Topic: 2 Word: 0.114*\"door\" + 0.097*\"frame\" + 0.054*\"outlet\" + 0.051*\"cover\" + 0.045*\"paint\" + 0.038*\"touch\" + 0.037*\"instal\" + 0.036*\"hardwar\" + 0.035*\"plate\" + 0.021*\"miss\"\n",
      "Topic: 3 Word: 0.043*\"screen\" + 0.041*\"cabinet\" + 0.040*\"shower\" + 0.038*\"sink\" + 0.034*\"glass\" + 0.031*\"instal\" + 0.027*\"window\" + 0.025*\"test\" + 0.024*\"counter\" + 0.016*\"kitchen\"\n",
      "Topic: 4 Word: 0.063*\"floor\" + 0.047*\"joint\" + 0.038*\"concret\" + 0.034*\"finish\" + 0.033*\"receptacl\" + 0.031*\"grout\" + 0.030*\"column\" + 0.023*\"clean\" + 0.016*\"wall\" + 0.016*\"paint\"\n",
      "Topic: 5 Word: 0.037*\"acoust\" + 0.035*\"insul\" + 0.031*\"duct\" + 0.018*\"gap\" + 0.014*\"barrier\" + 0.013*\"need\" + 0.011*\"brick\" + 0.010*\"excav\" + 0.009*\"seal\" + 0.009*\"condens\"\n",
      "Topic: 6 Word: 0.044*\"spall\" + 0.037*\"crack\" + 0.034*\"panel\" + 0.023*\"surfac\" + 0.020*\"metal\" + 0.019*\"access\" + 0.018*\"wall\" + 0.017*\"solid\" + 0.015*\"steel\" + 0.013*\"piec\"\n",
      "Topic: 7 Word: 0.067*\"clean\" + 0.037*\"final\" + 0.034*\"room\" + 0.024*\"look\" + 0.020*\"exist\" + 0.019*\"paint\" + 0.019*\"pictur\" + 0.019*\"dock\" + 0.018*\"list\" + 0.016*\"remain\"\n",
      "Topic: 8 Word: 0.145*\"drywal\" + 0.047*\"repair\" + 0.046*\"grill\" + 0.039*\"extinguish\" + 0.037*\"paint\" + 0.035*\"soffit\" + 0.034*\"descript\" + 0.022*\"indic\" + 0.019*\"damag\" + 0.019*\"return\"\n",
      "Topic: 9 Word: 0.069*\"penetr\" + 0.061*\"seal\" + 0.027*\"sealant\" + 0.027*\"wall\" + 0.022*\"pipe\" + 0.021*\"devic\" + 0.021*\"backsplash\" + 0.020*\"caulk\" + 0.014*\"plumb\" + 0.013*\"label\"\n",
      "Topic: 10 Word: 0.090*\"light\" + 0.055*\"fixtur\" + 0.039*\"switch\" + 0.032*\"instal\" + 0.030*\"facepl\" + 0.024*\"closet\" + 0.023*\"electr\" + 0.023*\"power\" + 0.023*\"protect\" + 0.022*\"work\"\n",
      "Topic: 11 Word: 0.178*\"touch\" + 0.144*\"paint\" + 0.054*\"caulk\" + 0.048*\"wall\" + 0.043*\"rail\" + 0.035*\"window\" + 0.032*\"smoke\" + 0.031*\"detector\" + 0.028*\"instal\" + 0.027*\"sill\"\n",
      "Topic: 12 Word: 0.041*\"conduit\" + 0.026*\"corner\" + 0.023*\"guard\" + 0.022*\"inspect\" + 0.021*\"junction\" + 0.020*\"instal\" + 0.019*\"sleev\" + 0.019*\"time\" + 0.015*\"excess\" + 0.014*\"toilet\"\n",
      "Topic: 13 Word: 0.034*\"pip\" + 0.027*\"complet\" + 0.027*\"scuff\" + 0.025*\"break\" + 0.022*\"stub\" + 0.020*\"transit\" + 0.020*\"strip\" + 0.019*\"cord\" + 0.018*\"hanger\" + 0.016*\"insul\"\n",
      "Topic: 14 Word: 0.043*\"trim\" + 0.023*\"cap\" + 0.023*\"chip\" + 0.018*\"offic\" + 0.018*\"adjust\" + 0.017*\"fixtur\" + 0.017*\"light\" + 0.016*\"len\" + 0.015*\"cleanup\" + 0.015*\"plan\"\n",
      "Topic: 15 Word: 0.089*\"sticker\" + 0.069*\"tape\" + 0.063*\"scratch\" + 0.061*\"repair\" + 0.058*\"indic\" + 0.045*\"door\" + 0.041*\"latch\" + 0.041*\"carpet\" + 0.031*\"closer\" + 0.026*\"diffus\"\n",
      "Topic: 16 Word: 0.036*\"stop\" + 0.027*\"water\" + 0.025*\"gasket\" + 0.024*\"door\" + 0.015*\"instal\" + 0.012*\"barricad\" + 0.011*\"valv\" + 0.010*\"need\" + 0.010*\"draw\" + 0.010*\"protect\"\n",
      "Topic: 17 Word: 0.050*\"remov\" + 0.039*\"bathroom\" + 0.036*\"nail\" + 0.034*\"protect\" + 0.033*\"window\" + 0.024*\"wood\" + 0.024*\"bedroom\" + 0.022*\"align\" + 0.022*\"miss\" + 0.021*\"mirror\"\n",
      "Topic: 18 Word: 0.125*\"patch\" + 0.102*\"ceil\" + 0.079*\"tile\" + 0.049*\"paint\" + 0.047*\"repair\" + 0.044*\"replac\" + 0.040*\"mark\" + 0.040*\"wall\" + 0.036*\"damag\" + 0.035*\"hole\"\n",
      "Topic: 19 Word: 0.061*\"rebar\" + 0.046*\"open\" + 0.043*\"thermostat\" + 0.040*\"direct\" + 0.036*\"cut\" + 0.034*\"requir\" + 0.022*\"instal\" + 0.021*\"long\" + 0.021*\"ladder\" + 0.017*\"short\"\n"
     ]
    }
   ],
   "source": [
    "lda_model_tfidf = gensim.models.LdaMulticore(corpus_tfidf, num_topics=20, id2word=dictionary, passes=2, workers=4)\n",
    "for idx, topic in lda_model_tfidf.print_topics(-1):\n",
    "    print('Topic: {} Word: {}'.format(idx, topic))"
   ]
  },
  {
   "cell_type": "code",
   "execution_count": 52,
   "metadata": {},
   "outputs": [
    {
     "name": "stdout",
     "output_type": "stream",
     "text": [
      "\n",
      "Score: 0.8829119205474854\t \n",
      "Topic: 0.079*\"paint\" + 0.078*\"touch\" + 0.044*\"frame\" + 0.038*\"wall\" + 0.034*\"base\"\n",
      "\n",
      "Score: 0.03016713447868824\t \n",
      "Topic: 0.036*\"remov\" + 0.026*\"rail\" + 0.025*\"tape\" + 0.023*\"repair\" + 0.022*\"sticker\"\n",
      "\n",
      "Score: 0.029294082894921303\t \n",
      "Topic: 0.050*\"instal\" + 0.031*\"protect\" + 0.028*\"window\" + 0.024*\"door\" + 0.023*\"thermostat\"\n",
      "\n",
      "Score: 0.028847090899944305\t \n",
      "Topic: 0.040*\"tile\" + 0.033*\"ceil\" + 0.027*\"light\" + 0.026*\"seal\" + 0.026*\"wall\"\n",
      "\n",
      "Score: 0.02877979166805744\t \n",
      "Topic: 0.011*\"cover\" + 0.011*\"water\" + 0.011*\"provid\" + 0.011*\"plate\" + 0.010*\"panel\"\n"
     ]
    }
   ],
   "source": [
    "#Performance evaluation \n",
    "for index, score in sorted(lda_model_tfidf[bow_corpus[4310]], key=lambda tup: -1*tup[1]):\n",
    "    print(\"\\nScore: {}\\t \\nTopic: {}\".format(score, lda_model_tfidf.print_topic(index, 5)))"
   ]
  }
 ],
 "metadata": {
  "kernelspec": {
   "display_name": "Python 3",
   "language": "python",
   "name": "python3"
  },
  "language_info": {
   "codemirror_mode": {
    "name": "ipython",
    "version": 3
   },
   "file_extension": ".py",
   "mimetype": "text/x-python",
   "name": "python",
   "nbconvert_exporter": "python",
   "pygments_lexer": "ipython3",
   "version": "3.7.4"
  }
 },
 "nbformat": 4,
 "nbformat_minor": 2
}
