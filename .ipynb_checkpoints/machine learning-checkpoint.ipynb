{
 "cells": [
  {
   "cell_type": "code",
   "execution_count": 1,
   "metadata": {},
   "outputs": [],
   "source": [
    "import pandas as pd\n",
    "import numpy as np"
   ]
  },
  {
   "cell_type": "markdown",
   "metadata": {},
   "source": [
    "# Import the data and assign description column to process"
   ]
  },
  {
   "cell_type": "code",
   "execution_count": 3,
   "metadata": {},
   "outputs": [
    {
     "name": "stderr",
     "output_type": "stream",
     "text": [
      "C:\\Users\\mrabier\\AppData\\Local\\Continuum\\anaconda3\\lib\\site-packages\\IPython\\core\\interactiveshell.py:3058: DtypeWarning: Columns (17,25,26,27,34,43,45) have mixed types. Specify dtype option on import or set low_memory=False.\n",
      "  interactivity=interactivity, compiler=compiler, result=result)\n"
     ]
    }
   ],
   "source": [
    "csv = 'old_next_clean.csv'\n",
    "issues_df = pd.read_csv(csv, encoding='latin1')"
   ]
  },
  {
   "cell_type": "code",
   "execution_count": 4,
   "metadata": {},
   "outputs": [
    {
     "data": {
      "text/html": [
       "<div>\n",
       "<style scoped>\n",
       "    .dataframe tbody tr th:only-of-type {\n",
       "        vertical-align: middle;\n",
       "    }\n",
       "\n",
       "    .dataframe tbody tr th {\n",
       "        vertical-align: top;\n",
       "    }\n",
       "\n",
       "    .dataframe thead th {\n",
       "        text-align: right;\n",
       "    }\n",
       "</style>\n",
       "<table border=\"1\" class=\"dataframe\">\n",
       "  <thead>\n",
       "    <tr style=\"text-align: right;\">\n",
       "      <th></th>\n",
       "      <th>Unnamed: 0</th>\n",
       "      <th>project_id</th>\n",
       "      <th>business_unit_x</th>\n",
       "      <th>project_id_classic</th>\n",
       "      <th>name_x</th>\n",
       "      <th>status_x</th>\n",
       "      <th>files</th>\n",
       "      <th>issues</th>\n",
       "      <th>checklists</th>\n",
       "      <th>equipment</th>\n",
       "      <th>...</th>\n",
       "      <th>city</th>\n",
       "      <th>state_or_province</th>\n",
       "      <th>postal_code</th>\n",
       "      <th>country</th>\n",
       "      <th>timezone</th>\n",
       "      <th>construction_type</th>\n",
       "      <th>contract_type</th>\n",
       "      <th>business_unit_id</th>\n",
       "      <th>last_sign_in</th>\n",
       "      <th>created_at_y</th>\n",
       "    </tr>\n",
       "  </thead>\n",
       "  <tbody>\n",
       "    <tr>\n",
       "      <td>0</td>\n",
       "      <td>0</td>\n",
       "      <td>01fa4f3a-9969-4069-a5b3-72fb630a0143</td>\n",
       "      <td>Clayco&gt;Distribution, Manufacturing, Process, F...</td>\n",
       "      <td>6fbfddc0-b8bb-4b27-be7f-751a21c701d0</td>\n",
       "      <td>Gestamp</td>\n",
       "      <td>active</td>\n",
       "      <td>177</td>\n",
       "      <td>476</td>\n",
       "      <td>0</td>\n",
       "      <td>0</td>\n",
       "      <td>...</td>\n",
       "      <td>McCalla</td>\n",
       "      <td>AL</td>\n",
       "      <td>35111.0</td>\n",
       "      <td>US</td>\n",
       "      <td>America/Chicago</td>\n",
       "      <td>New Construction</td>\n",
       "      <td>Design-Bid-Build</td>\n",
       "      <td>39f43f7d-1eee-11e3-89a6-02cc3afa57bd</td>\n",
       "      <td>2020-01-20 17:42:48</td>\n",
       "      <td>2016-08-09 16:41:14.956157</td>\n",
       "    </tr>\n",
       "    <tr>\n",
       "      <td>1</td>\n",
       "      <td>1</td>\n",
       "      <td>01fa4f3a-9969-4069-a5b3-72fb630a0143</td>\n",
       "      <td>Clayco&gt;Distribution, Manufacturing, Process, F...</td>\n",
       "      <td>6fbfddc0-b8bb-4b27-be7f-751a21c701d0</td>\n",
       "      <td>Gestamp</td>\n",
       "      <td>active</td>\n",
       "      <td>177</td>\n",
       "      <td>476</td>\n",
       "      <td>0</td>\n",
       "      <td>0</td>\n",
       "      <td>...</td>\n",
       "      <td>McCalla</td>\n",
       "      <td>AL</td>\n",
       "      <td>35111.0</td>\n",
       "      <td>US</td>\n",
       "      <td>America/Chicago</td>\n",
       "      <td>New Construction</td>\n",
       "      <td>Design-Bid-Build</td>\n",
       "      <td>39f43f7d-1eee-11e3-89a6-02cc3afa57bd</td>\n",
       "      <td>2020-01-20 17:42:48</td>\n",
       "      <td>2016-08-09 16:41:14.956157</td>\n",
       "    </tr>\n",
       "    <tr>\n",
       "      <td>2</td>\n",
       "      <td>2</td>\n",
       "      <td>01fa4f3a-9969-4069-a5b3-72fb630a0143</td>\n",
       "      <td>Clayco&gt;Distribution, Manufacturing, Process, F...</td>\n",
       "      <td>6fbfddc0-b8bb-4b27-be7f-751a21c701d0</td>\n",
       "      <td>Gestamp</td>\n",
       "      <td>active</td>\n",
       "      <td>177</td>\n",
       "      <td>476</td>\n",
       "      <td>0</td>\n",
       "      <td>0</td>\n",
       "      <td>...</td>\n",
       "      <td>McCalla</td>\n",
       "      <td>AL</td>\n",
       "      <td>35111.0</td>\n",
       "      <td>US</td>\n",
       "      <td>America/Chicago</td>\n",
       "      <td>New Construction</td>\n",
       "      <td>Design-Bid-Build</td>\n",
       "      <td>39f43f7d-1eee-11e3-89a6-02cc3afa57bd</td>\n",
       "      <td>2020-01-20 17:42:48</td>\n",
       "      <td>2016-08-09 16:41:14.956157</td>\n",
       "    </tr>\n",
       "    <tr>\n",
       "      <td>3</td>\n",
       "      <td>3</td>\n",
       "      <td>01fa4f3a-9969-4069-a5b3-72fb630a0143</td>\n",
       "      <td>Clayco&gt;Distribution, Manufacturing, Process, F...</td>\n",
       "      <td>6fbfddc0-b8bb-4b27-be7f-751a21c701d0</td>\n",
       "      <td>Gestamp</td>\n",
       "      <td>active</td>\n",
       "      <td>177</td>\n",
       "      <td>476</td>\n",
       "      <td>0</td>\n",
       "      <td>0</td>\n",
       "      <td>...</td>\n",
       "      <td>McCalla</td>\n",
       "      <td>AL</td>\n",
       "      <td>35111.0</td>\n",
       "      <td>US</td>\n",
       "      <td>America/Chicago</td>\n",
       "      <td>New Construction</td>\n",
       "      <td>Design-Bid-Build</td>\n",
       "      <td>39f43f7d-1eee-11e3-89a6-02cc3afa57bd</td>\n",
       "      <td>2020-01-20 17:42:48</td>\n",
       "      <td>2016-08-09 16:41:14.956157</td>\n",
       "    </tr>\n",
       "    <tr>\n",
       "      <td>4</td>\n",
       "      <td>4</td>\n",
       "      <td>01fa4f3a-9969-4069-a5b3-72fb630a0143</td>\n",
       "      <td>Clayco&gt;Distribution, Manufacturing, Process, F...</td>\n",
       "      <td>6fbfddc0-b8bb-4b27-be7f-751a21c701d0</td>\n",
       "      <td>Gestamp</td>\n",
       "      <td>active</td>\n",
       "      <td>177</td>\n",
       "      <td>476</td>\n",
       "      <td>0</td>\n",
       "      <td>0</td>\n",
       "      <td>...</td>\n",
       "      <td>McCalla</td>\n",
       "      <td>AL</td>\n",
       "      <td>35111.0</td>\n",
       "      <td>US</td>\n",
       "      <td>America/Chicago</td>\n",
       "      <td>New Construction</td>\n",
       "      <td>Design-Bid-Build</td>\n",
       "      <td>39f43f7d-1eee-11e3-89a6-02cc3afa57bd</td>\n",
       "      <td>2020-01-20 17:42:48</td>\n",
       "      <td>2016-08-09 16:41:14.956157</td>\n",
       "    </tr>\n",
       "  </tbody>\n",
       "</table>\n",
       "<p>5 rows × 56 columns</p>\n",
       "</div>"
      ],
      "text/plain": [
       "   Unnamed: 0                            project_id  \\\n",
       "0           0  01fa4f3a-9969-4069-a5b3-72fb630a0143   \n",
       "1           1  01fa4f3a-9969-4069-a5b3-72fb630a0143   \n",
       "2           2  01fa4f3a-9969-4069-a5b3-72fb630a0143   \n",
       "3           3  01fa4f3a-9969-4069-a5b3-72fb630a0143   \n",
       "4           4  01fa4f3a-9969-4069-a5b3-72fb630a0143   \n",
       "\n",
       "                                     business_unit_x  \\\n",
       "0  Clayco>Distribution, Manufacturing, Process, F...   \n",
       "1  Clayco>Distribution, Manufacturing, Process, F...   \n",
       "2  Clayco>Distribution, Manufacturing, Process, F...   \n",
       "3  Clayco>Distribution, Manufacturing, Process, F...   \n",
       "4  Clayco>Distribution, Manufacturing, Process, F...   \n",
       "\n",
       "                     project_id_classic   name_x status_x  files  issues  \\\n",
       "0  6fbfddc0-b8bb-4b27-be7f-751a21c701d0  Gestamp   active    177     476   \n",
       "1  6fbfddc0-b8bb-4b27-be7f-751a21c701d0  Gestamp   active    177     476   \n",
       "2  6fbfddc0-b8bb-4b27-be7f-751a21c701d0  Gestamp   active    177     476   \n",
       "3  6fbfddc0-b8bb-4b27-be7f-751a21c701d0  Gestamp   active    177     476   \n",
       "4  6fbfddc0-b8bb-4b27-be7f-751a21c701d0  Gestamp   active    177     476   \n",
       "\n",
       "   checklists  equipment  ...     city  state_or_province  postal_code  \\\n",
       "0           0          0  ...  McCalla                 AL      35111.0   \n",
       "1           0          0  ...  McCalla                 AL      35111.0   \n",
       "2           0          0  ...  McCalla                 AL      35111.0   \n",
       "3           0          0  ...  McCalla                 AL      35111.0   \n",
       "4           0          0  ...  McCalla                 AL      35111.0   \n",
       "\n",
       "   country         timezone construction_type     contract_type  \\\n",
       "0       US  America/Chicago  New Construction  Design-Bid-Build   \n",
       "1       US  America/Chicago  New Construction  Design-Bid-Build   \n",
       "2       US  America/Chicago  New Construction  Design-Bid-Build   \n",
       "3       US  America/Chicago  New Construction  Design-Bid-Build   \n",
       "4       US  America/Chicago  New Construction  Design-Bid-Build   \n",
       "\n",
       "                       business_unit_id         last_sign_in  \\\n",
       "0  39f43f7d-1eee-11e3-89a6-02cc3afa57bd  2020-01-20 17:42:48   \n",
       "1  39f43f7d-1eee-11e3-89a6-02cc3afa57bd  2020-01-20 17:42:48   \n",
       "2  39f43f7d-1eee-11e3-89a6-02cc3afa57bd  2020-01-20 17:42:48   \n",
       "3  39f43f7d-1eee-11e3-89a6-02cc3afa57bd  2020-01-20 17:42:48   \n",
       "4  39f43f7d-1eee-11e3-89a6-02cc3afa57bd  2020-01-20 17:42:48   \n",
       "\n",
       "                 created_at_y  \n",
       "0  2016-08-09 16:41:14.956157  \n",
       "1  2016-08-09 16:41:14.956157  \n",
       "2  2016-08-09 16:41:14.956157  \n",
       "3  2016-08-09 16:41:14.956157  \n",
       "4  2016-08-09 16:41:14.956157  \n",
       "\n",
       "[5 rows x 56 columns]"
      ]
     },
     "execution_count": 4,
     "metadata": {},
     "output_type": "execute_result"
    }
   ],
   "source": [
    "issues_df.head()"
   ]
  },
  {
   "cell_type": "code",
   "execution_count": 20,
   "metadata": {},
   "outputs": [
    {
     "name": "stderr",
     "output_type": "stream",
     "text": [
      "C:\\Users\\mrabier\\AppData\\Local\\Continuum\\anaconda3\\lib\\site-packages\\ipykernel_launcher.py:2: SettingWithCopyWarning: \n",
      "A value is trying to be set on a copy of a slice from a DataFrame.\n",
      "Try using .loc[row_indexer,col_indexer] = value instead\n",
      "\n",
      "See the caveats in the documentation: http://pandas.pydata.org/pandas-docs/stable/user_guide/indexing.html#returning-a-view-versus-a-copy\n",
      "  \n"
     ]
    }
   ],
   "source": [
    "description_text = issues_df[[\"description\"]]\n",
    "description_text['index']=description_text.index\n",
    "documents = description_text"
   ]
  },
  {
   "cell_type": "code",
   "execution_count": 48,
   "metadata": {},
   "outputs": [
    {
     "name": "stdout",
     "output_type": "stream",
     "text": [
      "101605\n",
      "                                          description  index\n",
      "0                   Remove nails around dock angles.       0\n",
      "1   Grind in a 3/4\" chamfer at all exterior corner...      1\n",
      "2             Install missing switch and data outlets      2\n",
      "3                 Install cover plate on light switch      3\n",
      "4                                        Install base      4\n",
      "5                       Repaint north and south walls      5\n",
      "6               Complete striping and traffic signage      6\n",
      "7                                   Clean floor, typ.      7\n",
      "8          Touch up yellow paint at railing door x118      8\n",
      "9                   Fix weatherstripping at door x119      9\n",
      "10  Fill nail holes in all door windows, offices a...     10\n",
      "11                                    Paint east wall     11\n",
      "12                                   Paint above door     12\n",
      "13  Verify no base heater in women's\\n\\nClayco res...     13\n",
      "14  Patch top of SE drive in ramp so it is level a...     14\n",
      "15                         Clean haze from tile walls     15\n",
      "16  Remove stick pin insulation, fur out drywall t...     16\n",
      "17        Replace thermax in electrical room as shown     17\n",
      "18         Door sa2a  & sa2b add screws to door frame     18\n",
      "19                      Touch up paint around window      19\n",
      "20                       Touch up paint around window     20\n",
      "21       Caulk joint at employee entrance site paving     21\n",
      "22                                   <no description>     22\n",
      "23    Adjust dock shelters on north side of building      23\n",
      "24                 Touch up drywall for smooth finish     24\n",
      "25                                   <no description>     25\n",
      "26       Re-paint around installations in panels, typ     26\n",
      "27       Add diffusers and make sure both lights work     27\n",
      "28                                       Install base     28\n",
      "29  Check all lockers for missing screws, and conn...     29\n"
     ]
    }
   ],
   "source": [
    "print(len(documents))\n",
    "print(documents[:30])"
   ]
  },
  {
   "cell_type": "markdown",
   "metadata": {},
   "source": [
    "# Data Pre-processing which includes tokenization, removal of stop words and words with fewer than 3 words, lemmatization, stemming"
   ]
  },
  {
   "cell_type": "code",
   "execution_count": 2,
   "metadata": {},
   "outputs": [
    {
     "name": "stderr",
     "output_type": "stream",
     "text": [
      "[nltk_data] Downloading package wordnet to\n",
      "[nltk_data]     C:\\Users\\mrabier\\AppData\\Roaming\\nltk_data...\n",
      "[nltk_data]   Unzipping corpora\\wordnet.zip.\n"
     ]
    },
    {
     "data": {
      "text/plain": [
       "True"
      ]
     },
     "execution_count": 2,
     "metadata": {},
     "output_type": "execute_result"
    }
   ],
   "source": [
    "import gensim\n",
    "from gensim.utils import simple_preprocess\n",
    "from gensim.parsing.preprocessing import STOPWORDS\n",
    "from nltk.stem import WordNetLemmatizer, SnowballStemmer\n",
    "from nltk.stem.porter import *\n",
    "np.random.seed(2018)\n",
    "import nltk\n",
    "nltk.download('wordnet')"
   ]
  },
  {
   "cell_type": "code",
   "execution_count": 28,
   "metadata": {},
   "outputs": [],
   "source": [
    "stemmer = PorterStemmer()"
   ]
  },
  {
   "cell_type": "code",
   "execution_count": 23,
   "metadata": {},
   "outputs": [],
   "source": [
    "#Write a function to perform lemmatize and stem preprocessing steps on the data set\n",
    "\n",
    "def lemmatize_stemming(text):\n",
    "    return stemmer.stem(WordNetLemmatizer().lemmatize(text, pos='v'))\n",
    "\n",
    "def preprocess(text):\n",
    "    result = []\n",
    "    for token in gensim.utils.simple_preprocess(text):\n",
    "        if token not in gensim.parsing.preprocessing.STOPWORDS and len(token) > 3:\n",
    "            result.append(lemmatize_stemming(token))\n",
    "    return result"
   ]
  },
  {
   "cell_type": "code",
   "execution_count": null,
   "metadata": {},
   "outputs": [],
   "source": []
  },
  {
   "cell_type": "code",
   "execution_count": 29,
   "metadata": {},
   "outputs": [
    {
     "name": "stdout",
     "output_type": "stream",
     "text": [
      "original document: \n",
      "['Remove', 'paint', 'from', 'rubber', 'base', 'left', 'of', 'room', '606']\n",
      "\n",
      "\n",
      " tokenized and lemmatized document: \n",
      "['remov', 'paint', 'rubber', 'base', 'leav', 'room']\n"
     ]
    }
   ],
   "source": [
    "#Select a document to preview after preprocessing\n",
    "\n",
    "doc_sample = documents[documents['index'] == 4310].values[0][0]\n",
    "print('original document: ')\n",
    "words = []\n",
    "for word in doc_sample.split(' '):\n",
    "    words.append(word)\n",
    "print(words)\n",
    "print('\\n\\n tokenized and lemmatized document: ')\n",
    "print(preprocess(doc_sample))"
   ]
  },
  {
   "cell_type": "code",
   "execution_count": 31,
   "metadata": {},
   "outputs": [
    {
     "data": {
      "text/plain": [
       "0                            [remov, nail, dock, angl]\n",
       "1    [grind, chamfer, exterior, corner, tilt, panel...\n",
       "2                 [instal, miss, switch, data, outlet]\n",
       "3                [instal, cover, plate, light, switch]\n",
       "4                                       [instal, base]\n",
       "5                        [repaint, north, south, wall]\n",
       "6                    [complet, strip, traffic, signag]\n",
       "7                                       [clean, floor]\n",
       "8                   [touch, yellow, paint, rail, door]\n",
       "9                                               [door]\n",
       "Name: description, dtype: object"
      ]
     },
     "execution_count": 31,
     "metadata": {},
     "output_type": "execute_result"
    }
   ],
   "source": [
    "# Pre-process all of the description cells\n",
    "\n",
    "processed_docs = documents['description'].map(preprocess)\n",
    "processed_docs[:10]"
   ]
  },
  {
   "cell_type": "markdown",
   "metadata": {},
   "source": [
    "# Bag of Words on the Data Set"
   ]
  },
  {
   "cell_type": "code",
   "execution_count": 33,
   "metadata": {},
   "outputs": [
    {
     "data": {
      "text/plain": [
       "<gensim.corpora.dictionary.Dictionary at 0x24d029d54c8>"
      ]
     },
     "execution_count": 33,
     "metadata": {},
     "output_type": "execute_result"
    }
   ],
   "source": [
    "dictionary = gensim.corpora.Dictionary(processed_docs)\n"
   ]
  },
  {
   "cell_type": "code",
   "execution_count": 36,
   "metadata": {},
   "outputs": [
    {
     "name": "stdout",
     "output_type": "stream",
     "text": [
      "0 angl\n",
      "1 dock\n",
      "2 nail\n",
      "3 remov\n",
      "4 chamfer\n",
      "5 corner\n",
      "6 exterior\n",
      "7 grind\n",
      "8 insid\n",
      "9 loung\n",
      "10 panel\n"
     ]
    }
   ],
   "source": [
    "count = 0\n",
    "for k, v in dictionary.iteritems():\n",
    "    print(k, v)\n",
    "    count += 1\n",
    "    if count > 10:\n",
    "        break"
   ]
  },
  {
   "cell_type": "code",
   "execution_count": 39,
   "metadata": {},
   "outputs": [],
   "source": [
    "# filter out tokens that appear in less than 15 documents, more than .5 documents and the most 100000 most frequent tokens\n",
    "dictionary.filter_extremes(no_below=15, no_above=0.5, keep_n=10000)"
   ]
  },
  {
   "cell_type": "code",
   "execution_count": 41,
   "metadata": {},
   "outputs": [
    {
     "name": "stdout",
     "output_type": "stream",
     "text": [
      "0 angl\n",
      "1 dock\n",
      "2 nail\n",
      "3 remov\n",
      "4 chamfer\n",
      "5 corner\n",
      "6 exterior\n",
      "7 grind\n",
      "8 insid\n",
      "9 loung\n",
      "10 panel\n"
     ]
    }
   ],
   "source": [
    "count = 0\n",
    "for k, v in dictionary.iteritems():\n",
    "    print(k, v)\n",
    "    count += 1\n",
    "    if count > 10:\n",
    "        break"
   ]
  },
  {
   "cell_type": "code",
   "execution_count": 40,
   "metadata": {},
   "outputs": [
    {
     "data": {
      "text/plain": [
       "[(3, 1), (23, 1), (35, 1), (63, 1), (155, 1), (379, 1)]"
      ]
     },
     "execution_count": 40,
     "metadata": {},
     "output_type": "execute_result"
    }
   ],
   "source": [
    "#For each cell, we create a dictionary reporting how many words and how many times those words appear\n",
    "bow_corpus = [dictionary.doc2bow(doc) for doc in processed_docs]\n",
    "bow_corpus[4310]"
   ]
  },
  {
   "cell_type": "code",
   "execution_count": 42,
   "metadata": {},
   "outputs": [
    {
     "name": "stdout",
     "output_type": "stream",
     "text": [
      "Word 3 (\"remov\") appears 1 time.\n",
      "Word 23 (\"base\") appears 1 time.\n",
      "Word 35 (\"paint\") appears 1 time.\n",
      "Word 63 (\"room\") appears 1 time.\n",
      "Word 155 (\"leav\") appears 1 time.\n",
      "Word 379 (\"rubber\") appears 1 time.\n"
     ]
    }
   ],
   "source": [
    "bow_doc_4310 = bow_corpus[4310]\n",
    "for i in range(len(bow_doc_4310)):\n",
    "    print(\"Word {} (\\\"{}\\\") appears {} time.\".format(bow_doc_4310[i][0], \n",
    "                                               dictionary[bow_doc_4310[i][0]], \n",
    "bow_doc_4310[i][1]))"
   ]
  },
  {
   "cell_type": "code",
   "execution_count": 43,
   "metadata": {},
   "outputs": [
    {
     "name": "stdout",
     "output_type": "stream",
     "text": [
      "[(0, 0.5842581846310866),\n",
      " (1, 0.5770852109959305),\n",
      " (2, 0.5028124739512984),\n",
      " (3, 0.2698048349832605)]\n"
     ]
    }
   ],
   "source": [
    "# TF-IDF\n",
    "\n",
    "from gensim import corpora, models\n",
    "tfidf = models.TfidfModel(bow_corpus)\n",
    "corpus_tfidf = tfidf[bow_corpus]\n",
    "from pprint import pprint\n",
    "for doc in corpus_tfidf:\n",
    "    pprint(doc)\n",
    "    break"
   ]
  },
  {
   "cell_type": "markdown",
   "metadata": {},
   "source": [
    "# Run LDA using Bag of Words"
   ]
  },
  {
   "cell_type": "code",
   "execution_count": 49,
   "metadata": {},
   "outputs": [],
   "source": [
    "lda_model = gensim.models.LdaMulticore(bow_corpus, num_topics=5, id2word=dictionary, passes=2, workers=2)"
   ]
  },
  {
   "cell_type": "code",
   "execution_count": 50,
   "metadata": {},
   "outputs": [
    {
     "name": "stdout",
     "output_type": "stream",
     "text": [
      "Topic: 0 \n",
      "Words: 0.082*\"wall\" + 0.057*\"seal\" + 0.026*\"caulk\" + 0.025*\"damag\" + 0.023*\"penetr\" + 0.022*\"drywal\" + 0.021*\"sprinkler\" + 0.020*\"locat\" + 0.019*\"window\" + 0.018*\"patch\"\n",
      "Topic: 1 \n",
      "Words: 0.171*\"paint\" + 0.077*\"touch\" + 0.057*\"door\" + 0.056*\"wall\" + 0.053*\"repair\" + 0.052*\"frame\" + 0.052*\"remov\" + 0.032*\"patch\" + 0.030*\"tape\" + 0.027*\"window\"\n",
      "Topic: 2 \n",
      "Words: 0.129*\"instal\" + 0.074*\"door\" + 0.038*\"light\" + 0.037*\"cover\" + 0.029*\"window\" + 0.027*\"miss\" + 0.025*\"adjust\" + 0.025*\"panel\" + 0.024*\"fixtur\" + 0.016*\"trim\"\n",
      "Topic: 3 \n",
      "Words: 0.065*\"instal\" + 0.061*\"clean\" + 0.057*\"ceil\" + 0.057*\"tile\" + 0.046*\"base\" + 0.033*\"floor\" + 0.028*\"hole\" + 0.028*\"rail\" + 0.024*\"complet\" + 0.018*\"wall\"\n",
      "Topic: 4 \n",
      "Words: 0.025*\"protect\" + 0.019*\"water\" + 0.019*\"remov\" + 0.018*\"requir\" + 0.016*\"instal\" + 0.016*\"label\" + 0.016*\"provid\" + 0.013*\"room\" + 0.012*\"need\" + 0.012*\"pip\"\n"
     ]
    }
   ],
   "source": [
    "for idx, topic in lda_model.print_topics(-1):\n",
    "    print('Topic: {} \\nWords: {}'.format(idx, topic))"
   ]
  },
  {
   "cell_type": "markdown",
   "metadata": {},
   "source": [
    "# Run LDA using TF-IDF"
   ]
  },
  {
   "cell_type": "code",
   "execution_count": 51,
   "metadata": {},
   "outputs": [
    {
     "name": "stdout",
     "output_type": "stream",
     "text": [
      "Topic: 0 Word: 0.040*\"tile\" + 0.033*\"ceil\" + 0.027*\"light\" + 0.026*\"seal\" + 0.026*\"wall\" + 0.025*\"door\" + 0.024*\"instal\" + 0.022*\"penetr\" + 0.018*\"fixtur\" + 0.018*\"repair\"\n",
      "Topic: 1 Word: 0.011*\"cover\" + 0.011*\"water\" + 0.011*\"provid\" + 0.011*\"plate\" + 0.010*\"panel\" + 0.010*\"instal\" + 0.010*\"access\" + 0.009*\"pip\" + 0.009*\"label\" + 0.008*\"room\"\n",
      "Topic: 2 Word: 0.079*\"paint\" + 0.078*\"touch\" + 0.044*\"frame\" + 0.038*\"wall\" + 0.034*\"base\" + 0.031*\"door\" + 0.026*\"clean\" + 0.020*\"window\" + 0.018*\"sill\" + 0.018*\"patch\"\n",
      "Topic: 3 Word: 0.036*\"remov\" + 0.026*\"rail\" + 0.025*\"tape\" + 0.023*\"repair\" + 0.022*\"sticker\" + 0.022*\"instal\" + 0.021*\"paint\" + 0.019*\"smoke\" + 0.019*\"mark\" + 0.019*\"detector\"\n",
      "Topic: 4 Word: 0.050*\"instal\" + 0.031*\"protect\" + 0.028*\"window\" + 0.024*\"door\" + 0.023*\"thermostat\" + 0.021*\"complet\" + 0.018*\"screen\" + 0.017*\"remov\" + 0.016*\"glass\" + 0.015*\"cover\"\n"
     ]
    }
   ],
   "source": [
    "lda_model_tfidf = gensim.models.LdaMulticore(corpus_tfidf, num_topics=5, id2word=dictionary, passes=2, workers=4)\n",
    "for idx, topic in lda_model_tfidf.print_topics(-1):\n",
    "    print('Topic: {} Word: {}'.format(idx, topic))"
   ]
  },
  {
   "cell_type": "code",
   "execution_count": 47,
   "metadata": {},
   "outputs": [
    {
     "name": "stdout",
     "output_type": "stream",
     "text": [
      "\n",
      "Score: 0.5362505316734314\t \n",
      "Topic: 0.088*\"instal\" + 0.085*\"base\" + 0.050*\"rail\" + 0.049*\"light\" + 0.047*\"fixtur\" + 0.030*\"gasket\" + 0.027*\"complet\" + 0.023*\"door\" + 0.023*\"floor\" + 0.017*\"descript\"\n",
      "\n",
      "Score: 0.3494320213794708\t \n",
      "Topic: 0.172*\"touch\" + 0.138*\"paint\" + 0.081*\"frame\" + 0.073*\"door\" + 0.028*\"wall\" + 0.025*\"repair\" + 0.018*\"latch\" + 0.014*\"closer\" + 0.013*\"soffit\" + 0.013*\"tape\"\n",
      "\n",
      "Score: 0.014293454587459564\t \n",
      "Topic: 0.065*\"repair\" + 0.059*\"tape\" + 0.053*\"remov\" + 0.052*\"drywal\" + 0.051*\"sticker\" + 0.048*\"protect\" + 0.041*\"indic\" + 0.040*\"paint\" + 0.037*\"mark\" + 0.030*\"note\"\n",
      "\n",
      "Score: 0.01429105643182993\t \n",
      "Topic: 0.036*\"screen\" + 0.034*\"window\" + 0.030*\"glass\" + 0.026*\"cabinet\" + 0.025*\"clean\" + 0.023*\"scratch\" + 0.022*\"instal\" + 0.021*\"room\" + 0.017*\"shower\" + 0.016*\"door\"\n",
      "\n",
      "Score: 0.014289883896708488\t \n",
      "Topic: 0.046*\"patch\" + 0.039*\"wall\" + 0.037*\"seal\" + 0.034*\"shade\" + 0.030*\"hole\" + 0.029*\"penetr\" + 0.023*\"window\" + 0.021*\"conduit\" + 0.019*\"paint\" + 0.018*\"column\"\n",
      "\n",
      "Score: 0.014289029873907566\t \n",
      "Topic: 0.052*\"instal\" + 0.050*\"cover\" + 0.041*\"sprinkler\" + 0.036*\"miss\" + 0.031*\"door\" + 0.030*\"hardwar\" + 0.029*\"plate\" + 0.028*\"facepl\" + 0.028*\"escutcheon\" + 0.027*\"outlet\"\n",
      "\n",
      "Score: 0.01428900845348835\t \n",
      "Topic: 0.019*\"receptacl\" + 0.018*\"access\" + 0.017*\"instal\" + 0.016*\"closet\" + 0.016*\"panel\" + 0.015*\"dent\" + 0.015*\"unit\" + 0.014*\"final\" + 0.013*\"list\" + 0.012*\"door\"\n",
      "\n",
      "Score: 0.014288843609392643\t \n",
      "Topic: 0.041*\"tile\" + 0.039*\"ceil\" + 0.037*\"caulk\" + 0.031*\"replac\" + 0.030*\"clean\" + 0.029*\"sill\" + 0.027*\"damag\" + 0.023*\"grid\" + 0.021*\"window\" + 0.021*\"surfac\"\n",
      "\n",
      "Score: 0.01428847573697567\t \n",
      "Topic: 0.030*\"thermostat\" + 0.018*\"instal\" + 0.014*\"seat\" + 0.014*\"label\" + 0.011*\"drain\" + 0.010*\"provid\" + 0.009*\"pip\" + 0.009*\"requir\" + 0.009*\"remov\" + 0.009*\"open\"\n",
      "\n",
      "Score: 0.014287730678915977\t \n",
      "Topic: 0.041*\"smoke\" + 0.040*\"detector\" + 0.035*\"finish\" + 0.027*\"instal\" + 0.020*\"stop\" + 0.019*\"concret\" + 0.019*\"door\" + 0.017*\"trim\" + 0.016*\"bathroom\" + 0.015*\"backsplash\"\n"
     ]
    }
   ],
   "source": [
    "#Performance evaluation \n",
    "\n",
    "for index, score in sorted(lda_model_tfidf[bow_corpus[4310]], key=lambda tup: -1*tup[1]):\n",
    "    print(\"\\nScore: {}\\t \\nTopic: {}\".format(score, lda_model_tfidf.print_topic(index, 10)))"
   ]
  }
 ],
 "metadata": {
  "kernelspec": {
   "display_name": "Python 3",
   "language": "python",
   "name": "python3"
  },
  "language_info": {
   "codemirror_mode": {
    "name": "ipython",
    "version": 3
   },
   "file_extension": ".py",
   "mimetype": "text/x-python",
   "name": "python",
   "nbconvert_exporter": "python",
   "pygments_lexer": "ipython3",
   "version": "3.7.4"
  }
 },
 "nbformat": 4,
 "nbformat_minor": 2
}
