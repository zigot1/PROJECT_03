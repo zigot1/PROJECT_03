{
 "cells": [
  {
   "cell_type": "markdown",
   "metadata": {},
   "source": [
    "# WeatherPy\n",
    "----\n",
    "\n",
    "#### Note\n",
    "* Instructions have been included for each segment. You do not have to follow them exactly, but they are included to help you think through the steps."
   ]
  },
  {
   "cell_type": "code",
   "execution_count": 72,
   "metadata": {
    "scrolled": true
   },
   "outputs": [],
   "source": [
    "# Dependencies and Setup\n",
    "import matplotlib.pyplot as plt\n",
    "import pandas as pd\n",
    "import numpy as np\n",
    "import requests\n",
    "import time\n",
    "import random as rd\n",
    "from datetime import datetime, timedelta\n",
    "\n",
    "# Import API key\n",
    "from config import wkey\n",
    "\n",
    "# Incorporated citipy to determine city based on latitude and longitude\n",
    "from citipy import citipy\n",
    "\n",
    "# Output File (CSV)\n",
    "# output_data_file = \"output_data/cities.csv\"\n",
    "\n",
    "# Input Zip (CSV)\n",
    "input_zip_file = \"zip.csv\"\n",
    "# Input Project File\n",
    "input_project_file = \"PI_NEWandOLD.csv\" \n",
    "PROJECT_01_MAPPING = 'resources/raw_data_next_gen/admin_projects.csv'\n",
    "\n",
    "# API Calls Configuration\n",
    "daily_url = \"https://api.meteostat.net/v1/history/daily?\"\n",
    "station_url = 'https://api.meteostat.net/v1/stations/nearby?'\n",
    "\n",
    "units = \"metric\"\n",
    "\n",
    "#Query base\n",
    "#query_url = f\"{url}appid={wkey}&units={units}&q=\""
   ]
  },
  {
   "cell_type": "code",
   "execution_count": 24,
   "metadata": {},
   "outputs": [],
   "source": [
    "############################################\n",
    "##  Create Lat_Lon DataFrame\n",
    "###########################################\n",
    "LL_DF = pd.read_csv(input_zip_file, encoding='utf-8',dtype = {'zip': 'str'}, low_memory=False)\n",
    "PR_DF = pd.read_csv(input_project_file, encoding='utf-8', low_memory=False)\n",
    "P1_DF = pd.read_csv(PROJECT_01_MAPPING, encoding='utf-8', low_memory=False)"
   ]
  },
  {
   "cell_type": "code",
   "execution_count": null,
   "metadata": {},
   "outputs": [],
   "source": []
  },
  {
   "cell_type": "code",
   "execution_count": 3,
   "metadata": {},
   "outputs": [],
   "source": [
    "P1_DFFormatted = \"{:0>5}\"\n",
    "\n",
    "LL_DF.zip = LL_DF.zip.apply(lambda x: Formatted.format(x))\n"
   ]
  },
  {
   "cell_type": "code",
   "execution_count": 4,
   "metadata": {},
   "outputs": [],
   "source": [
    "#LL_DF"
   ]
  },
  {
   "cell_type": "code",
   "execution_count": 5,
   "metadata": {},
   "outputs": [
    {
     "data": {
      "text/html": [
       "<div>\n",
       "<style scoped>\n",
       "    .dataframe tbody tr th:only-of-type {\n",
       "        vertical-align: middle;\n",
       "    }\n",
       "\n",
       "    .dataframe tbody tr th {\n",
       "        vertical-align: top;\n",
       "    }\n",
       "\n",
       "    .dataframe thead th {\n",
       "        text-align: right;\n",
       "    }\n",
       "</style>\n",
       "<table border=\"1\" class=\"dataframe\">\n",
       "  <thead>\n",
       "    <tr style=\"text-align: right;\">\n",
       "      <th></th>\n",
       "      <th>zip</th>\n",
       "      <th>latitude</th>\n",
       "      <th>longitude</th>\n",
       "      <th>city</th>\n",
       "      <th>state</th>\n",
       "      <th>county</th>\n",
       "      <th>other_info</th>\n",
       "    </tr>\n",
       "  </thead>\n",
       "  <tbody>\n",
       "    <tr>\n",
       "      <th>0</th>\n",
       "      <td>00501</td>\n",
       "      <td>40.9223</td>\n",
       "      <td>-72.6371</td>\n",
       "      <td>Holtsville</td>\n",
       "      <td>NY</td>\n",
       "      <td>Suffolk</td>\n",
       "      <td>UNIQUE</td>\n",
       "    </tr>\n",
       "    <tr>\n",
       "      <th>1</th>\n",
       "      <td>00544</td>\n",
       "      <td>40.9223</td>\n",
       "      <td>-72.6371</td>\n",
       "      <td>Holtsville</td>\n",
       "      <td>NY</td>\n",
       "      <td>Suffolk</td>\n",
       "      <td>UNIQUE</td>\n",
       "    </tr>\n",
       "    <tr>\n",
       "      <th>2</th>\n",
       "      <td>00601</td>\n",
       "      <td>18.1653</td>\n",
       "      <td>-66.7226</td>\n",
       "      <td>Adjuntas</td>\n",
       "      <td>PR</td>\n",
       "      <td>Adjuntas</td>\n",
       "      <td>STANDARD</td>\n",
       "    </tr>\n",
       "    <tr>\n",
       "      <th>3</th>\n",
       "      <td>00602</td>\n",
       "      <td>18.3931</td>\n",
       "      <td>-67.1810</td>\n",
       "      <td>Aguada</td>\n",
       "      <td>PR</td>\n",
       "      <td>Aguada</td>\n",
       "      <td>STANDARD</td>\n",
       "    </tr>\n",
       "    <tr>\n",
       "      <th>4</th>\n",
       "      <td>00603</td>\n",
       "      <td>18.4559</td>\n",
       "      <td>-67.1457</td>\n",
       "      <td>Aguadilla</td>\n",
       "      <td>PR</td>\n",
       "      <td>Aguadilla</td>\n",
       "      <td>STANDARD</td>\n",
       "    </tr>\n",
       "    <tr>\n",
       "      <th>...</th>\n",
       "      <td>...</td>\n",
       "      <td>...</td>\n",
       "      <td>...</td>\n",
       "      <td>...</td>\n",
       "      <td>...</td>\n",
       "      <td>...</td>\n",
       "      <td>...</td>\n",
       "    </tr>\n",
       "    <tr>\n",
       "      <th>42738</th>\n",
       "      <td>99927</td>\n",
       "      <td>55.5179</td>\n",
       "      <td>-132.0030</td>\n",
       "      <td>Point Baker</td>\n",
       "      <td>AK</td>\n",
       "      <td>Prince Wales Ketchikan</td>\n",
       "      <td>PO BOX ONLY</td>\n",
       "    </tr>\n",
       "    <tr>\n",
       "      <th>42739</th>\n",
       "      <td>99928</td>\n",
       "      <td>55.3954</td>\n",
       "      <td>-131.6750</td>\n",
       "      <td>Ward Cove</td>\n",
       "      <td>AK</td>\n",
       "      <td>Ketchikan Gateway</td>\n",
       "      <td>PO BOX ONLY</td>\n",
       "    </tr>\n",
       "    <tr>\n",
       "      <th>42740</th>\n",
       "      <td>99929</td>\n",
       "      <td>56.4499</td>\n",
       "      <td>-132.3640</td>\n",
       "      <td>Wrangell</td>\n",
       "      <td>AK</td>\n",
       "      <td>Wrangell Petersburg</td>\n",
       "      <td>PO BOX ONLY</td>\n",
       "    </tr>\n",
       "    <tr>\n",
       "      <th>42741</th>\n",
       "      <td>99950</td>\n",
       "      <td>55.5420</td>\n",
       "      <td>-131.4330</td>\n",
       "      <td>Ketchikan</td>\n",
       "      <td>AK</td>\n",
       "      <td>Ketchikan Gateway</td>\n",
       "      <td>STANDARD</td>\n",
       "    </tr>\n",
       "    <tr>\n",
       "      <th>42742</th>\n",
       "      <td>75256</td>\n",
       "      <td>32.9863</td>\n",
       "      <td>-96.7681</td>\n",
       "      <td>Dallas</td>\n",
       "      <td>TX</td>\n",
       "      <td>Dallas</td>\n",
       "      <td>STANDARD</td>\n",
       "    </tr>\n",
       "  </tbody>\n",
       "</table>\n",
       "<p>42743 rows × 7 columns</p>\n",
       "</div>"
      ],
      "text/plain": [
       "         zip  latitude  longitude         city state                  county  \\\n",
       "0      00501   40.9223   -72.6371   Holtsville    NY                 Suffolk   \n",
       "1      00544   40.9223   -72.6371   Holtsville    NY                 Suffolk   \n",
       "2      00601   18.1653   -66.7226     Adjuntas    PR                Adjuntas   \n",
       "3      00602   18.3931   -67.1810       Aguada    PR                  Aguada   \n",
       "4      00603   18.4559   -67.1457    Aguadilla    PR               Aguadilla   \n",
       "...      ...       ...        ...          ...   ...                     ...   \n",
       "42738  99927   55.5179  -132.0030  Point Baker    AK  Prince Wales Ketchikan   \n",
       "42739  99928   55.3954  -131.6750    Ward Cove    AK       Ketchikan Gateway   \n",
       "42740  99929   56.4499  -132.3640     Wrangell    AK     Wrangell Petersburg   \n",
       "42741  99950   55.5420  -131.4330    Ketchikan    AK       Ketchikan Gateway   \n",
       "42742  75256   32.9863   -96.7681       Dallas    TX                  Dallas   \n",
       "\n",
       "        other_info  \n",
       "0           UNIQUE  \n",
       "1           UNIQUE  \n",
       "2         STANDARD  \n",
       "3         STANDARD  \n",
       "4         STANDARD  \n",
       "...            ...  \n",
       "42738  PO BOX ONLY  \n",
       "42739  PO BOX ONLY  \n",
       "42740  PO BOX ONLY  \n",
       "42741     STANDARD  \n",
       "42742     STANDARD  \n",
       "\n",
       "[42743 rows x 7 columns]"
      ]
     },
     "execution_count": 5,
     "metadata": {},
     "output_type": "execute_result"
    }
   ],
   "source": [
    "LL_DF"
   ]
  },
  {
   "cell_type": "code",
   "execution_count": 6,
   "metadata": {},
   "outputs": [],
   "source": [
    "PR_DF.head()\n",
    "PR_LOC_DF = PR_DF[['name','job_number', 'postal_code', 'city']]"
   ]
  },
  {
   "cell_type": "code",
   "execution_count": 7,
   "metadata": {},
   "outputs": [
    {
     "data": {
      "text/plain": [
       "name           159285\n",
       "job_number     107153\n",
       "postal_code    118687\n",
       "city           123203\n",
       "dtype: int64"
      ]
     },
     "execution_count": 7,
     "metadata": {},
     "output_type": "execute_result"
    }
   ],
   "source": [
    "PR_LOC_DF.count()"
   ]
  },
  {
   "cell_type": "code",
   "execution_count": 8,
   "metadata": {},
   "outputs": [],
   "source": [
    "PR_LOC_DF = PR_LOC_DF[PR_LOC_DF['postal_code'].notna()]"
   ]
  },
  {
   "cell_type": "code",
   "execution_count": 9,
   "metadata": {},
   "outputs": [],
   "source": [
    "#PR_ZIP_SER = PR_LOC_DF['postal_code'].unique()\n",
    "PR_JOB_SER = PR_LOC_DF['name'].unique()"
   ]
  },
  {
   "cell_type": "code",
   "execution_count": 10,
   "metadata": {},
   "outputs": [],
   "source": [
    "#PR_JOB_SER"
   ]
  },
  {
   "cell_type": "code",
   "execution_count": 11,
   "metadata": {},
   "outputs": [
    {
     "data": {
      "text/plain": [
       "111"
      ]
     },
     "execution_count": 11,
     "metadata": {},
     "output_type": "execute_result"
    }
   ],
   "source": [
    "len(PR_JOB_SER)\n",
    "len(PR_LOC_DF['name'].unique())"
   ]
  },
  {
   "cell_type": "code",
   "execution_count": 12,
   "metadata": {},
   "outputs": [],
   "source": [
    "#PR_JOB_SER"
   ]
  },
  {
   "cell_type": "code",
   "execution_count": 13,
   "metadata": {},
   "outputs": [],
   "source": [
    "len(PR_LOC_DF['name'].unique())\n",
    "PR_ZIP_LIST = []\n",
    "PR_JOB_LIST = []\n",
    "PR_CITIES_LIST = []\n",
    "##################################################################################\n",
    "###   DEFINE NEW DATAFRAME\n",
    "##################################################################################\n",
    "W_DF = pd.DataFrame(columns=['zip','latitude','longitude','city','state','county','name'])\n",
    "\n",
    "for i in range (0, len(PR_LOC_DF['name'].unique())):\n",
    "    TEMP_DF = PR_DF.loc[PR_DF['name']== PR_JOB_SER[i]]\n",
    "    TEMP_DF['postal_code'].dropna()\n",
    "    for each in (TEMP_DF['postal_code'].unique()):\n",
    "        PR_CITY_LIST = []\n",
    "        ZIP_CODE =str(each).strip()\n",
    "        if (len(ZIP_CODE) == 3):\n",
    "            ZIP_LOOK = '00' + ZIP_CODE\n",
    "        elif (len(ZIP_CODE) == 4):\n",
    "            ZIP_LOOK = '0' + ZIP_CODE\n",
    "        else:\n",
    "            ZIP_LOOK = ZIP_CODE\n",
    "        #print (ZIP_LOOK)    \n",
    "        if (len(ZIP_LOOK) > 4):  \n",
    "            PR_ZIP_LIST.append(ZIP_LOOK)\n",
    "            PR_JOB_LIST.append(PR_JOB_SER[i])\n",
    "            ZIP_CHECK = ((LL_DF.loc[LL_DF['zip'] == ZIP_LOOK]).values.tolist()) \n",
    "            #print(ZIP_CHECK,'------', ZIP_LOOK)\n",
    "            PR_CITY_LIST= ZIP_CHECK[0]\n",
    "            PR_CITY_LIST.append(PR_JOB_SER[i])\n",
    "            #print(PR_CITY_LIST[0])\n",
    "            W_DF = W_DF.append({'zip':PR_CITY_LIST[0],\n",
    "                                 'latitude':PR_CITY_LIST[1],\n",
    "                                 'longitude':PR_CITY_LIST[2],\n",
    "                                 'city':PR_CITY_LIST[3],\n",
    "                                 'state':PR_CITY_LIST[4],\n",
    "                                 'county':PR_CITY_LIST[5],\n",
    "                                 'name':PR_CITY_LIST[7]}, ignore_index=True)\n",
    "            #W_DF.append(PR_CITY_LIST, ignore_index=True)\n",
    "            "
   ]
  },
  {
   "cell_type": "code",
   "execution_count": 14,
   "metadata": {},
   "outputs": [],
   "source": [
    "type(W_DF)\n",
    "W_DF.to_csv('Projects_Lon_Lat.csv')"
   ]
  },
  {
   "cell_type": "markdown",
   "metadata": {},
   "source": [
    "## Generate Cities List"
   ]
  },
  {
   "cell_type": "code",
   "execution_count": 17,
   "metadata": {},
   "outputs": [],
   "source": [
    "# List for holding lat_lngs and cities by ZIP\n",
    "WS_LIST = []\n",
    "#city = []\n",
    "\n",
    "\n",
    "#lat_lngs = zip(lats, lngs)\n",
    "for index, row in W_DF.iterrows():\n",
    "    station_call = station_url + 'lat=' + str(row['latitude']) + '&lon='+ str(row['longitude']) + '&limit=1&key=' + wkey\n",
    "    response = requests.get(station_call).json()\n",
    "    #print(response['data'][0]['id'])\n",
    "    WS_LIST.append(response['data'][0]['id'])"
   ]
  },
  {
   "cell_type": "code",
   "execution_count": 18,
   "metadata": {},
   "outputs": [
    {
     "data": {
      "text/plain": [
       "['KEKY0',\n",
       " 'KUNV0',\n",
       " 'KCPS0',\n",
       " '72401',\n",
       " 'KARB0',\n",
       " 'KCPS0',\n",
       " 'KSET0',\n",
       " 'KCMI0',\n",
       " 'KPWK0',\n",
       " 'KCPS0',\n",
       " 'KCPS0',\n",
       " 'KCPS0',\n",
       " 'KCPS0',\n",
       " 'KCPS0',\n",
       " 'KNY00',\n",
       " 'KCPS0',\n",
       " 'KHZL0',\n",
       " 'KSPA0',\n",
       " 'KFYG0',\n",
       " 'KCGF0',\n",
       " 'KSUS0',\n",
       " 'KSUS0',\n",
       " 'KSET0',\n",
       " 'KJVL0',\n",
       " '72790',\n",
       " '72013',\n",
       " 'KMMI0',\n",
       " 'KCPS0',\n",
       " 'KUGN0',\n",
       " 'KSUS0',\n",
       " 'KIGQ0',\n",
       " 'KCMI0',\n",
       " '72440',\n",
       " '72534',\n",
       " 'KCPS0',\n",
       " '72534',\n",
       " 'KCCO0',\n",
       " 'KMRB0',\n",
       " 'KCPS0',\n",
       " 'K19A0',\n",
       " '72323',\n",
       " '72401',\n",
       " 'KMAN0',\n",
       " '72534',\n",
       " 'KMTN0',\n",
       " 'KF460',\n",
       " '72278',\n",
       " 'KSUS0',\n",
       " 'KUNV0',\n",
       " '74207',\n",
       " 'KCCO0',\n",
       " 'KMAO0',\n",
       " '72534',\n",
       " '72399',\n",
       " '72441',\n",
       " 'KENW0',\n",
       " 'KGMU0',\n",
       " 'KUNV0',\n",
       " 'KCPS0',\n",
       " 'KCMI0',\n",
       " 'KPTK0',\n",
       " '74207',\n",
       " 'KFYV0',\n",
       " 'KCPS0',\n",
       " 'KCPS0',\n",
       " 'KLOT0',\n",
       " 'KEYE0',\n",
       " '72534',\n",
       " 'KSET0',\n",
       " '72013',\n",
       " 'KCPS0',\n",
       " 'KCPS0',\n",
       " '72429',\n",
       " '72543',\n",
       " 'KTOA0',\n",
       " '72534',\n",
       " '72247',\n",
       " '69014',\n",
       " 'KPTK0',\n",
       " 'KCPS0',\n",
       " 'KMMI0',\n",
       " 'KVTA0',\n",
       " 'KCPS0',\n",
       " 'KRZR0',\n",
       " '72534',\n",
       " '72530',\n",
       " 'KUNV0',\n",
       " '72651',\n",
       " 'KSPA0',\n",
       " 'KCGF0',\n",
       " 'KBFM0',\n",
       " '72534',\n",
       " '72324',\n",
       " 'KFTY0',\n",
       " 'KCPS0',\n",
       " 'KCPS0',\n",
       " 'KSMF0',\n",
       " 'KENW0',\n",
       " '74207',\n",
       " 'KMPO0',\n",
       " '74207',\n",
       " '72408',\n",
       " '72408',\n",
       " '72790',\n",
       " '72447',\n",
       " '74001',\n",
       " '72534',\n",
       " '72429',\n",
       " 'KRUQ0']"
      ]
     },
     "execution_count": 18,
     "metadata": {},
     "output_type": "execute_result"
    }
   ],
   "source": [
    "WS_LIST"
   ]
  },
  {
   "cell_type": "code",
   "execution_count": 19,
   "metadata": {},
   "outputs": [],
   "source": [
    "W_DF['Weather_Stations'] = WS_LIST"
   ]
  },
  {
   "cell_type": "code",
   "execution_count": 20,
   "metadata": {},
   "outputs": [
    {
     "data": {
      "text/html": [
       "<div>\n",
       "<style scoped>\n",
       "    .dataframe tbody tr th:only-of-type {\n",
       "        vertical-align: middle;\n",
       "    }\n",
       "\n",
       "    .dataframe tbody tr th {\n",
       "        vertical-align: top;\n",
       "    }\n",
       "\n",
       "    .dataframe thead th {\n",
       "        text-align: right;\n",
       "    }\n",
       "</style>\n",
       "<table border=\"1\" class=\"dataframe\">\n",
       "  <thead>\n",
       "    <tr style=\"text-align: right;\">\n",
       "      <th></th>\n",
       "      <th>zip</th>\n",
       "      <th>latitude</th>\n",
       "      <th>longitude</th>\n",
       "      <th>city</th>\n",
       "      <th>state</th>\n",
       "      <th>county</th>\n",
       "      <th>name</th>\n",
       "      <th>Weather_Stations</th>\n",
       "    </tr>\n",
       "  </thead>\n",
       "  <tbody>\n",
       "    <tr>\n",
       "      <th>0</th>\n",
       "      <td>35111</td>\n",
       "      <td>33.2997</td>\n",
       "      <td>-87.0489</td>\n",
       "      <td>Mc Calla</td>\n",
       "      <td>AL</td>\n",
       "      <td>Jefferson</td>\n",
       "      <td>Gestamp</td>\n",
       "      <td>KEKY0</td>\n",
       "    </tr>\n",
       "    <tr>\n",
       "      <th>1</th>\n",
       "      <td>16801</td>\n",
       "      <td>40.8819</td>\n",
       "      <td>-77.8678</td>\n",
       "      <td>State College</td>\n",
       "      <td>PA</td>\n",
       "      <td>Centre</td>\n",
       "      <td>10101855 - Penn State East Halls Phase 1A</td>\n",
       "      <td>KUNV0</td>\n",
       "    </tr>\n",
       "    <tr>\n",
       "      <th>2</th>\n",
       "      <td>63117</td>\n",
       "      <td>38.6295</td>\n",
       "      <td>-90.3342</td>\n",
       "      <td>Saint Louis</td>\n",
       "      <td>MO</td>\n",
       "      <td>Saint Louis</td>\n",
       "      <td>First Community CU</td>\n",
       "      <td>KCPS0</td>\n",
       "    </tr>\n",
       "    <tr>\n",
       "      <th>3</th>\n",
       "      <td>23219</td>\n",
       "      <td>37.5417</td>\n",
       "      <td>-77.4392</td>\n",
       "      <td>Richmond</td>\n",
       "      <td>VA</td>\n",
       "      <td>Richmond City</td>\n",
       "      <td>Gateway Plaza</td>\n",
       "      <td>72401</td>\n",
       "    </tr>\n",
       "    <tr>\n",
       "      <th>4</th>\n",
       "      <td>48103</td>\n",
       "      <td>42.2666</td>\n",
       "      <td>-83.8490</td>\n",
       "      <td>Ann Arbor</td>\n",
       "      <td>MI</td>\n",
       "      <td>Washtenaw</td>\n",
       "      <td>618 S. Main Street</td>\n",
       "      <td>KARB0</td>\n",
       "    </tr>\n",
       "  </tbody>\n",
       "</table>\n",
       "</div>"
      ],
      "text/plain": [
       "     zip  latitude  longitude           city state         county  \\\n",
       "0  35111   33.2997   -87.0489       Mc Calla    AL      Jefferson   \n",
       "1  16801   40.8819   -77.8678  State College    PA         Centre   \n",
       "2  63117   38.6295   -90.3342    Saint Louis    MO    Saint Louis   \n",
       "3  23219   37.5417   -77.4392       Richmond    VA  Richmond City   \n",
       "4  48103   42.2666   -83.8490      Ann Arbor    MI      Washtenaw   \n",
       "\n",
       "                                        name Weather_Stations  \n",
       "0                                    Gestamp            KEKY0  \n",
       "1  10101855 - Penn State East Halls Phase 1A            KUNV0  \n",
       "2                         First Community CU            KCPS0  \n",
       "3                              Gateway Plaza            72401  \n",
       "4                         618 S. Main Street            KARB0  "
      ]
     },
     "execution_count": 20,
     "metadata": {},
     "output_type": "execute_result"
    }
   ],
   "source": [
    "W_DF.head()"
   ]
  },
  {
   "cell_type": "code",
   "execution_count": 22,
   "metadata": {},
   "outputs": [],
   "source": [
    "W_DF.to_csv('Projects_W_Lon_Lat.csv')"
   ]
  },
  {
   "cell_type": "code",
   "execution_count": 62,
   "metadata": {},
   "outputs": [
    {
     "data": {
      "text/html": [
       "<div>\n",
       "<style scoped>\n",
       "    .dataframe tbody tr th:only-of-type {\n",
       "        vertical-align: middle;\n",
       "    }\n",
       "\n",
       "    .dataframe tbody tr th {\n",
       "        vertical-align: top;\n",
       "    }\n",
       "\n",
       "    .dataframe thead th {\n",
       "        text-align: right;\n",
       "    }\n",
       "</style>\n",
       "<table border=\"1\" class=\"dataframe\">\n",
       "  <thead>\n",
       "    <tr style=\"text-align: right;\">\n",
       "      <th></th>\n",
       "      <th>id</th>\n",
       "      <th>bim360_account_id</th>\n",
       "      <th>name</th>\n",
       "      <th>start_date</th>\n",
       "      <th>end_date</th>\n",
       "      <th>type</th>\n",
       "      <th>value</th>\n",
       "      <th>currency</th>\n",
       "      <th>status</th>\n",
       "      <th>job_number</th>\n",
       "      <th>...</th>\n",
       "      <th>city</th>\n",
       "      <th>state_or_province</th>\n",
       "      <th>postal_code</th>\n",
       "      <th>country</th>\n",
       "      <th>timezone</th>\n",
       "      <th>construction_type</th>\n",
       "      <th>contract_type</th>\n",
       "      <th>business_unit_id</th>\n",
       "      <th>last_sign_in</th>\n",
       "      <th>created_at</th>\n",
       "    </tr>\n",
       "  </thead>\n",
       "  <tbody>\n",
       "    <tr>\n",
       "      <th>0</th>\n",
       "      <td>4fb9e8e5-f9a7-4a04-b33c-38f2227bf75d</td>\n",
       "      <td>49df69ab-c266-4d49-951c-031b16f7a31f</td>\n",
       "      <td>Amanda</td>\n",
       "      <td>2012-05-01 00:00:00</td>\n",
       "      <td>2115-01-01 00:00:00</td>\n",
       "      <td>Hospitals &amp; Health Treatment Buildings</td>\n",
       "      <td>750000.0</td>\n",
       "      <td>USD</td>\n",
       "      <td>archived</td>\n",
       "      <td>NaN</td>\n",
       "      <td>...</td>\n",
       "      <td>St Louis</td>\n",
       "      <td>MO</td>\n",
       "      <td>63131</td>\n",
       "      <td>US</td>\n",
       "      <td>America/Chicago</td>\n",
       "      <td>NaN</td>\n",
       "      <td>NaN</td>\n",
       "      <td>NaN</td>\n",
       "      <td>NaN</td>\n",
       "      <td>2015-08-27 03:02:51.944348</td>\n",
       "    </tr>\n",
       "    <tr>\n",
       "      <th>1</th>\n",
       "      <td>e5ed857f-23f1-4a8c-a808-9cbfa0fe0648</td>\n",
       "      <td>49df69ab-c266-4d49-951c-031b16f7a31f</td>\n",
       "      <td>10100726-UCMC-GARAGE</td>\n",
       "      <td>2016-08-23 00:00:00</td>\n",
       "      <td>2021-08-24 00:00:00</td>\n",
       "      <td>Office</td>\n",
       "      <td>0.0</td>\n",
       "      <td>USD</td>\n",
       "      <td>archived</td>\n",
       "      <td>NaN</td>\n",
       "      <td>...</td>\n",
       "      <td>NaN</td>\n",
       "      <td>NaN</td>\n",
       "      <td>NaN</td>\n",
       "      <td>US</td>\n",
       "      <td>NaN</td>\n",
       "      <td>NaN</td>\n",
       "      <td>NaN</td>\n",
       "      <td>NaN</td>\n",
       "      <td>NaN</td>\n",
       "      <td>2016-08-24 01:51:54.201861</td>\n",
       "    </tr>\n",
       "    <tr>\n",
       "      <th>2</th>\n",
       "      <td>9d602269-4385-4d46-9d87-ee1374608e23</td>\n",
       "      <td>49df69ab-c266-4d49-951c-031b16f7a31f</td>\n",
       "      <td>10100726-UCMC</td>\n",
       "      <td>2016-08-23 00:00:00</td>\n",
       "      <td>2021-08-24 00:00:00</td>\n",
       "      <td>Office</td>\n",
       "      <td>0.0</td>\n",
       "      <td>USD</td>\n",
       "      <td>archived</td>\n",
       "      <td>NaN</td>\n",
       "      <td>...</td>\n",
       "      <td>NaN</td>\n",
       "      <td>NaN</td>\n",
       "      <td>NaN</td>\n",
       "      <td>US</td>\n",
       "      <td>NaN</td>\n",
       "      <td>NaN</td>\n",
       "      <td>NaN</td>\n",
       "      <td>NaN</td>\n",
       "      <td>NaN</td>\n",
       "      <td>2016-08-24 01:51:52.866017</td>\n",
       "    </tr>\n",
       "    <tr>\n",
       "      <th>3</th>\n",
       "      <td>003d373a-2b90-45f8-8a0e-862868dfdc0b</td>\n",
       "      <td>49df69ab-c266-4d49-951c-031b16f7a31f</td>\n",
       "      <td>BIM Test Ground</td>\n",
       "      <td>1915-01-01 00:00:00</td>\n",
       "      <td>2115-01-01 00:00:00</td>\n",
       "      <td>default</td>\n",
       "      <td>0.0</td>\n",
       "      <td>USD</td>\n",
       "      <td>archived</td>\n",
       "      <td>NaN</td>\n",
       "      <td>...</td>\n",
       "      <td>NaN</td>\n",
       "      <td>NaN</td>\n",
       "      <td>63114</td>\n",
       "      <td>US</td>\n",
       "      <td>America/Chicago</td>\n",
       "      <td>NaN</td>\n",
       "      <td>NaN</td>\n",
       "      <td>NaN</td>\n",
       "      <td>NaN</td>\n",
       "      <td>2015-08-27 03:03:02.549974</td>\n",
       "    </tr>\n",
       "    <tr>\n",
       "      <th>4</th>\n",
       "      <td>9fcfaa9b-b11e-47d9-acbb-a8a8ddf1f7ac</td>\n",
       "      <td>49df69ab-c266-4d49-951c-031b16f7a31f</td>\n",
       "      <td>Thompson Coburn (ORD), Phase 3</td>\n",
       "      <td>2011-08-28 00:00:00</td>\n",
       "      <td>2115-01-01 00:00:00</td>\n",
       "      <td>Office &amp; Bank Buildings</td>\n",
       "      <td>0.0</td>\n",
       "      <td>USD</td>\n",
       "      <td>archived</td>\n",
       "      <td>NaN</td>\n",
       "      <td>...</td>\n",
       "      <td>Chicago</td>\n",
       "      <td>IL</td>\n",
       "      <td>60603</td>\n",
       "      <td>US</td>\n",
       "      <td>America/Chicago</td>\n",
       "      <td>NaN</td>\n",
       "      <td>NaN</td>\n",
       "      <td>NaN</td>\n",
       "      <td>NaN</td>\n",
       "      <td>2015-08-27 03:03:27.170199</td>\n",
       "    </tr>\n",
       "  </tbody>\n",
       "</table>\n",
       "<p>5 rows × 22 columns</p>\n",
       "</div>"
      ],
      "text/plain": [
       "                                     id                     bim360_account_id  \\\n",
       "0  4fb9e8e5-f9a7-4a04-b33c-38f2227bf75d  49df69ab-c266-4d49-951c-031b16f7a31f   \n",
       "1  e5ed857f-23f1-4a8c-a808-9cbfa0fe0648  49df69ab-c266-4d49-951c-031b16f7a31f   \n",
       "2  9d602269-4385-4d46-9d87-ee1374608e23  49df69ab-c266-4d49-951c-031b16f7a31f   \n",
       "3  003d373a-2b90-45f8-8a0e-862868dfdc0b  49df69ab-c266-4d49-951c-031b16f7a31f   \n",
       "4  9fcfaa9b-b11e-47d9-acbb-a8a8ddf1f7ac  49df69ab-c266-4d49-951c-031b16f7a31f   \n",
       "\n",
       "                             name           start_date             end_date  \\\n",
       "0                          Amanda  2012-05-01 00:00:00  2115-01-01 00:00:00   \n",
       "1            10100726-UCMC-GARAGE  2016-08-23 00:00:00  2021-08-24 00:00:00   \n",
       "2                   10100726-UCMC  2016-08-23 00:00:00  2021-08-24 00:00:00   \n",
       "3                 BIM Test Ground  1915-01-01 00:00:00  2115-01-01 00:00:00   \n",
       "4  Thompson Coburn (ORD), Phase 3  2011-08-28 00:00:00  2115-01-01 00:00:00   \n",
       "\n",
       "                                     type     value currency    status  \\\n",
       "0  Hospitals & Health Treatment Buildings  750000.0      USD  archived   \n",
       "1                                  Office       0.0      USD  archived   \n",
       "2                                  Office       0.0      USD  archived   \n",
       "3                                 default       0.0      USD  archived   \n",
       "4                 Office & Bank Buildings       0.0      USD  archived   \n",
       "\n",
       "  job_number  ...      city state_or_province postal_code country  \\\n",
       "0        NaN  ...  St Louis                MO       63131      US   \n",
       "1        NaN  ...       NaN               NaN         NaN      US   \n",
       "2        NaN  ...       NaN               NaN         NaN      US   \n",
       "3        NaN  ...       NaN               NaN       63114      US   \n",
       "4        NaN  ...   Chicago                IL       60603      US   \n",
       "\n",
       "          timezone construction_type contract_type business_unit_id  \\\n",
       "0  America/Chicago               NaN           NaN              NaN   \n",
       "1              NaN               NaN           NaN              NaN   \n",
       "2              NaN               NaN           NaN              NaN   \n",
       "3  America/Chicago               NaN           NaN              NaN   \n",
       "4  America/Chicago               NaN           NaN              NaN   \n",
       "\n",
       "  last_sign_in                  created_at  \n",
       "0          NaN  2015-08-27 03:02:51.944348  \n",
       "1          NaN  2016-08-24 01:51:54.201861  \n",
       "2          NaN  2016-08-24 01:51:52.866017  \n",
       "3          NaN  2015-08-27 03:03:02.549974  \n",
       "4          NaN  2015-08-27 03:03:27.170199  \n",
       "\n",
       "[5 rows x 22 columns]"
      ]
     },
     "execution_count": 62,
     "metadata": {},
     "output_type": "execute_result"
    }
   ],
   "source": [
    "P1_DF.head()"
   ]
  },
  {
   "cell_type": "code",
   "execution_count": 147,
   "metadata": {},
   "outputs": [],
   "source": [
    "L_start_date = []\n",
    "L_end_date = []\n",
    "for index, row in W_DF.iterrows():\n",
    "    Look_PR = row['name']\n",
    "    start_date = (P1_DF[{'start_date'}].loc[P1_DF['name'] == Look_PR].values[0][0]).split()[0] #add start date\n",
    "    end_date = (P1_DF[{'end_date'}].loc[P1_DF['name'] == Look_PR].values[0][0]).split()[0] #add end date\n",
    "    today = datetime.today()\n",
    "    #print(int (end_date.split('-')[0]))\n",
    "#     start_date = (start_date.split('-')[0])\n",
    "#     end_date = (end_date.split('-')[0])\n",
    "#     if ( int(end_date.split('-')[0]) -  int(start_date.split('-')[0]) )>50:\n",
    "#         old_end_year = int(end_date.split('-')[0])\n",
    "#         end_date = str(int(end_date.split('-')[0])-100)\n",
    "#         #print(end_date) \n",
    "    \n",
    "    d_start_date = datetime.strptime(start_date, '%Y-%M-%d')\n",
    "    d_end_date = datetime.strptime(end_date, '%Y-%M-%d')\n",
    "    #if d_end_date \n",
    "    time_delta = d_end_date - d_start_date\n",
    "    #print(time_delta, d_end_date, d_start_date)\n",
    "    L_start_date.append(d_start_date.strftime('%Y-%M-%d'))\n",
    "    L_end_date.append(d_end_date.strftime('%Y-%M-%d'))"
   ]
  },
  {
   "cell_type": "code",
   "execution_count": 148,
   "metadata": {},
   "outputs": [],
   "source": [
    "W_DF['Start_date'] = L_start_date\n",
    "W_DF['End_date']=L_end_date"
   ]
  },
  {
   "cell_type": "markdown",
   "metadata": {},
   "source": [
    "### Perform API Calls\n",
    "* Perform a weather check on each city using a series of successive API calls.\n",
    "* Include a print log of each city as it'sbeing processed (with the city number and city name).\n"
   ]
  },
  {
   "cell_type": "code",
   "execution_count": 150,
   "metadata": {},
   "outputs": [],
   "source": [
    "#W_DF.to_csv('Projects_W_SD_ED_Lon_Lat.csv')"
   ]
  },
  {
   "cell_type": "code",
   "execution_count": 165,
   "metadata": {},
   "outputs": [],
   "source": [
    "PROJECT_W_MAPPING = 'Projects_W_SD_ED_Lon_Lat.csv'\n",
    "PW_DF = pd.read_csv(PROJECT_W_MAPPING, encoding='utf-8', low_memory=False)"
   ]
  },
  {
   "cell_type": "code",
   "execution_count": 172,
   "metadata": {},
   "outputs": [
    {
     "name": "stdout",
     "output_type": "stream",
     "text": [
      "https://api.meteostat.net/v1/history/daily?station=KEKY0&start=2016-08-01&end=2016-12-30&key=HDVaQdRv\n",
      "https://api.meteostat.net/v1/history/daily?station=KUNV0&start=2016-01-01&end=2017-08-14&key=HDVaQdRv\n",
      "https://api.meteostat.net/v1/history/daily?station=KCPS0&start=2013-05-01&end=2015-01-01&key=HDVaQdRv\n",
      "https://api.meteostat.net/v1/history/daily?station=72401&start=2013-07-01&end=2015-01-01&key=HDVaQdRv\n",
      "https://api.meteostat.net/v1/history/daily?station=KARB0&start=2013-05-01&end=2015-01-01&key=HDVaQdRv\n",
      "https://api.meteostat.net/v1/history/daily?station=KCPS0&start=2017-03-15&end=2027-03-15&key=HDVaQdRv\n",
      "https://api.meteostat.net/v1/history/daily?station=KSET0&start=2017-07-18&end=2018-05-18&key=HDVaQdRv\n",
      "https://api.meteostat.net/v1/history/daily?station=KCMI0&start=2013-11-01&end=2015-01-01&key=HDVaQdRv\n",
      "https://api.meteostat.net/v1/history/daily?station=KPWK0&start=2019-05-07&end=2020-05-07&key=HDVaQdRv\n",
      "https://api.meteostat.net/v1/history/daily?station=KCPS0&start=2012-02-20&end=2015-01-01&key=HDVaQdRv\n",
      "https://api.meteostat.net/v1/history/daily?station=KCPS0&start=2013-06-01&end=2015-01-01&key=HDVaQdRv\n",
      "https://api.meteostat.net/v1/history/daily?station=KCPS0&start=2016-03-31&end=2017-07-15&key=HDVaQdRv\n",
      "https://api.meteostat.net/v1/history/daily?station=KCPS0&start=2015-05-01&end=2015-01-01&key=HDVaQdRv\n",
      "https://api.meteostat.net/v1/history/daily?station=KCPS0&start=2016-03-01&end=2018-03-01&key=HDVaQdRv\n",
      "https://api.meteostat.net/v1/history/daily?station=KNY00&start=2017-04-03&end=2018-07-02&key=HDVaQdRv\n",
      "https://api.meteostat.net/v1/history/daily?station=KCPS0&start=2014-05-05&end=2015-01-01&key=HDVaQdRv\n",
      "https://api.meteostat.net/v1/history/daily?station=KHZL0&start=2016-10-15&end=2017-05-15&key=HDVaQdRv\n",
      "https://api.meteostat.net/v1/history/daily?station=KSPA0&start=2015-08-10&end=2015-01-01&key=HDVaQdRv\n",
      "https://api.meteostat.net/v1/history/daily?station=KFYG0&start=2013-02-15&end=2015-01-01&key=HDVaQdRv\n",
      "https://api.meteostat.net/v1/history/daily?station=KCGF0&start=2017-08-21&end=2018-08-21&key=HDVaQdRv\n",
      "https://api.meteostat.net/v1/history/daily?station=KSUS0&start=2012-05-01&end=2015-01-01&key=HDVaQdRv\n",
      "https://api.meteostat.net/v1/history/daily?station=KSUS0&start=2015-11-01&end=2017-03-01&key=HDVaQdRv\n",
      "https://api.meteostat.net/v1/history/daily?station=KSET0&start=2013-11-01&end=2015-01-01&key=HDVaQdRv\n",
      "https://api.meteostat.net/v1/history/daily?station=KJVL0&start=2015-11-13&end=2016-11-25&key=HDVaQdRv\n",
      "https://api.meteostat.net/v1/history/daily?station=72790&start=2018-08-01&end=2020-03-02&key=HDVaQdRv\n",
      "https://api.meteostat.net/v1/history/daily?station=72013&start=2017-05-01&end=2018-04-30&key=HDVaQdRv\n",
      "https://api.meteostat.net/v1/history/daily?station=KMMI0&start=2017-11-13&end=2019-11-13&key=HDVaQdRv\n",
      "https://api.meteostat.net/v1/history/daily?station=KCPS0&start=1915-01-01&end=2015-01-01&key=HDVaQdRv\n",
      "https://api.meteostat.net/v1/history/daily?station=KUGN0&start=2015-06-09&end=2015-01-01&key=HDVaQdRv\n",
      "https://api.meteostat.net/v1/history/daily?station=KSUS0&start=2014-01-01&end=2015-01-01&key=HDVaQdRv\n",
      "https://api.meteostat.net/v1/history/daily?station=KIGQ0&start=2016-07-01&end=2017-08-01&key=HDVaQdRv\n",
      "https://api.meteostat.net/v1/history/daily?station=KCMI0&start=2017-03-01&end=2019-03-01&key=HDVaQdRv\n",
      "https://api.meteostat.net/v1/history/daily?station=72440&start=2019-05-16&end=2020-05-16&key=HDVaQdRv\n",
      "https://api.meteostat.net/v1/history/daily?station=72534&start=2018-09-18&end=2019-05-03&key=HDVaQdRv\n",
      "https://api.meteostat.net/v1/history/daily?station=KCPS0&start=2019-02-21&end=2021-02-23&key=HDVaQdRv\n",
      "https://api.meteostat.net/v1/history/daily?station=72534&start=2015-11-30&end=2018-05-30&key=HDVaQdRv\n",
      "https://api.meteostat.net/v1/history/daily?station=KCCO0&start=2020-01-27&end=2020-08-01&key=HDVaQdRv\n",
      "https://api.meteostat.net/v1/history/daily?station=KMRB0&start=2018-09-03&end=2020-04-10&key=HDVaQdRv\n",
      "https://api.meteostat.net/v1/history/daily?station=KCPS0&start=2019-04-09&end=2020-05-07&key=HDVaQdRv\n",
      "https://api.meteostat.net/v1/history/daily?station=K19A0&start=2019-05-01&end=2021-05-01&key=HDVaQdRv\n",
      "https://api.meteostat.net/v1/history/daily?station=72323&start=2018-12-01&end=2019-12-19&key=HDVaQdRv\n",
      "https://api.meteostat.net/v1/history/daily?station=72401&start=2016-01-12&end=2019-01-31&key=HDVaQdRv\n",
      "https://api.meteostat.net/v1/history/daily?station=KMAN0&start=2018-08-10&end=2019-06-30&key=HDVaQdRv\n",
      "https://api.meteostat.net/v1/history/daily?station=72534&start=2017-06-01&end=2018-06-01&key=HDVaQdRv\n",
      "https://api.meteostat.net/v1/history/daily?station=KMTN0&start=2017-10-01&end=2018-09-03&key=HDVaQdRv\n",
      "https://api.meteostat.net/v1/history/daily?station=KF460&start=2018-03-21&end=2018-09-26&key=HDVaQdRv\n",
      "https://api.meteostat.net/v1/history/daily?station=72278&start=2017-09-15&end=2018-05-29&key=HDVaQdRv\n",
      "https://api.meteostat.net/v1/history/daily?station=KSUS0&start=2017-05-01&end=2019-04-30&key=HDVaQdRv\n",
      "https://api.meteostat.net/v1/history/daily?station=KUNV0&start=2020-05-11&end=2021-08-15&key=HDVaQdRv\n",
      "https://api.meteostat.net/v1/history/daily?station=74207&start=2019-08-23&end=2020-06-01&key=HDVaQdRv\n",
      "https://api.meteostat.net/v1/history/daily?station=KCCO0&start=2020-01-06&end=2020-08-02&key=HDVaQdRv\n",
      "https://api.meteostat.net/v1/history/daily?station=KMAO0&start=2017-10-16&end=2018-11-02&key=HDVaQdRv\n",
      "https://api.meteostat.net/v1/history/daily?station=72534&start=2016-03-14&end=2018-03-02&key=HDVaQdRv\n",
      "https://api.meteostat.net/v1/history/daily?station=72399&start=2019-05-16&end=2020-05-18&key=HDVaQdRv\n",
      "https://api.meteostat.net/v1/history/daily?station=72441&start=2016-12-01&end=2018-07-02&key=HDVaQdRv\n",
      "https://api.meteostat.net/v1/history/daily?station=KENW0&start=2018-12-13&end=2018-12-14&key=HDVaQdRv\n",
      "https://api.meteostat.net/v1/history/daily?station=KGMU0&start=2019-10-01&end=2020-03-27&key=HDVaQdRv\n",
      "https://api.meteostat.net/v1/history/daily?station=KUNV0&start=2017-10-18&end=2019-08-22&key=HDVaQdRv\n",
      "https://api.meteostat.net/v1/history/daily?station=KCPS0&start=2017-07-18&end=2020-07-19&key=HDVaQdRv\n",
      "https://api.meteostat.net/v1/history/daily?station=KCMI0&start=2018-06-29&end=2020-06-01&key=HDVaQdRv\n",
      "https://api.meteostat.net/v1/history/daily?station=KPTK0&start=2019-10-21&end=2021-06-15&key=HDVaQdRv\n",
      "https://api.meteostat.net/v1/history/daily?station=74207&start=2018-10-09&end=2019-06-10&key=HDVaQdRv\n",
      "https://api.meteostat.net/v1/history/daily?station=KFYV0&start=2019-04-01&end=2019-11-30&key=HDVaQdRv\n",
      "https://api.meteostat.net/v1/history/daily?station=KCPS0&start=2019-11-01&end=2020-05-01&key=HDVaQdRv\n",
      "https://api.meteostat.net/v1/history/daily?station=KCPS0&start=2019-07-01&end=2020-08-03&key=HDVaQdRv\n",
      "https://api.meteostat.net/v1/history/daily?station=KLOT0&start=2018-03-01&end=2019-02-22&key=HDVaQdRv\n",
      "https://api.meteostat.net/v1/history/daily?station=KEYE0&start=2018-09-24&end=2019-08-05&key=HDVaQdRv\n",
      "https://api.meteostat.net/v1/history/daily?station=72534&start=2018-11-01&end=2019-10-31&key=HDVaQdRv\n",
      "https://api.meteostat.net/v1/history/daily?station=KSET0&start=2018-05-01&end=2018-10-01&key=HDVaQdRv\n",
      "https://api.meteostat.net/v1/history/daily?station=72013&start=2019-09-17&end=2020-08-30&key=HDVaQdRv\n",
      "https://api.meteostat.net/v1/history/daily?station=KCPS0&start=2019-07-01&end=2020-05-01&key=HDVaQdRv\n",
      "https://api.meteostat.net/v1/history/daily?station=KCPS0&start=2018-06-25&end=2019-04-01&key=HDVaQdRv\n",
      "https://api.meteostat.net/v1/history/daily?station=72429&start=2018-12-03&end=2019-06-17&key=HDVaQdRv\n",
      "https://api.meteostat.net/v1/history/daily?station=72543&start=2018-06-04&end=2020-02-13&key=HDVaQdRv\n",
      "https://api.meteostat.net/v1/history/daily?station=KTOA0&start=2019-03-04&end=2019-07-19&key=HDVaQdRv\n",
      "https://api.meteostat.net/v1/history/daily?station=72534&start=2019-10-04&end=2019-10-07&key=HDVaQdRv\n",
      "https://api.meteostat.net/v1/history/daily?station=72247&start=2018-11-27&end=2019-01-01&key=HDVaQdRv\n",
      "https://api.meteostat.net/v1/history/daily?station=69014&start=2018-09-04&end=2019-08-15&key=HDVaQdRv\n",
      "https://api.meteostat.net/v1/history/daily?station=KPTK0&start=2019-10-21&end=2020-07-30&key=HDVaQdRv\n",
      "https://api.meteostat.net/v1/history/daily?station=KCPS0&start=1915-01-01&end=2015-01-01&key=HDVaQdRv\n",
      "https://api.meteostat.net/v1/history/daily?station=KMMI0&start=2017-11-13&end=2019-11-13&key=HDVaQdRv\n"
     ]
    },
    {
     "name": "stdout",
     "output_type": "stream",
     "text": [
      "https://api.meteostat.net/v1/history/daily?station=KVTA0&start=2018-08-06&end=2019-04-15&key=HDVaQdRv\n",
      "https://api.meteostat.net/v1/history/daily?station=KCPS0&start=2018-11-20&end=2019-11-20&key=HDVaQdRv\n",
      "https://api.meteostat.net/v1/history/daily?station=KRZR0&start=2017-12-15&end=2018-08-01&key=HDVaQdRv\n",
      "https://api.meteostat.net/v1/history/daily?station=72534&start=2018-06-18&end=2019-12-01&key=HDVaQdRv\n",
      "https://api.meteostat.net/v1/history/daily?station=72530&start=2018-10-29&end=2019-10-31&key=HDVaQdRv\n",
      "https://api.meteostat.net/v1/history/daily?station=KUNV0&start=2018-09-05&end=2019-12-31&key=HDVaQdRv\n",
      "https://api.meteostat.net/v1/history/daily?station=72651&start=2017-11-01&end=2019-06-27&key=HDVaQdRv\n",
      "https://api.meteostat.net/v1/history/daily?station=KSPA0&start=2018-08-09&end=2018-12-31&key=HDVaQdRv\n",
      "https://api.meteostat.net/v1/history/daily?station=KCGF0&start=2017-08-21&end=2018-08-21&key=HDVaQdRv\n",
      "https://api.meteostat.net/v1/history/daily?station=KBFM0&start=2018-01-22&end=2018-11-12&key=HDVaQdRv\n",
      "https://api.meteostat.net/v1/history/daily?station=72534&start=2017-02-01&end=2020-01-01&key=HDVaQdRv\n",
      "https://api.meteostat.net/v1/history/daily?station=72324&start=2019-09-01&end=2020-10-01&key=HDVaQdRv\n",
      "https://api.meteostat.net/v1/history/daily?station=KFTY0&start=2017-10-04&end=2017-12-31&key=HDVaQdRv\n",
      "https://api.meteostat.net/v1/history/daily?station=KCPS0&start=2018-12-05&end=2019-12-31&key=HDVaQdRv\n",
      "https://api.meteostat.net/v1/history/daily?station=KCPS0&start=2017-08-11&end=2018-08-01&key=HDVaQdRv\n",
      "https://api.meteostat.net/v1/history/daily?station=KSMF0&start=2019-09-30&end=2020-05-25&key=HDVaQdRv\n",
      "https://api.meteostat.net/v1/history/daily?station=KENW0&start=2019-10-04&end=2020-07-01&key=HDVaQdRv\n",
      "https://api.meteostat.net/v1/history/daily?station=74207&start=2019-07-01&end=2019-12-31&key=HDVaQdRv\n",
      "https://api.meteostat.net/v1/history/daily?station=KMPO0&start=2019-08-12&end=2020-05-29&key=HDVaQdRv\n",
      "https://api.meteostat.net/v1/history/daily?station=74207&start=2019-06-17&end=2020-06-01&key=HDVaQdRv\n",
      "https://api.meteostat.net/v1/history/daily?station=72408&start=2019-09-16&end=2020-05-20&key=HDVaQdRv\n",
      "https://api.meteostat.net/v1/history/daily?station=72408&start=2019-09-30&end=2020-05-15&key=HDVaQdRv\n",
      "https://api.meteostat.net/v1/history/daily?station=72790&start=2019-08-15&end=2020-08-25&key=HDVaQdRv\n",
      "https://api.meteostat.net/v1/history/daily?station=72447&start=2019-09-30&end=2020-05-01&key=HDVaQdRv\n",
      "https://api.meteostat.net/v1/history/daily?station=74001&start=2019-07-07&end=2021-03-31&key=HDVaQdRv\n",
      "https://api.meteostat.net/v1/history/daily?station=72534&start=2019-07-11&end=2020-07-11&key=HDVaQdRv\n",
      "https://api.meteostat.net/v1/history/daily?station=72429&start=2018-10-01&end=2019-08-01&key=HDVaQdRv\n",
      "https://api.meteostat.net/v1/history/daily?station=KRUQ0&start=2019-06-17&end=2020-03-20&key=HDVaQdRv\n"
     ]
    }
   ],
   "source": [
    "WJSON_LIST = []\n",
    "for index, row in PW_DF.iterrows():\n",
    "    Look_W = row['Weather_Stations']\n",
    "    Look_SD = row['Start_date']\n",
    "    Look_ED = row['End_date']\n",
    "    #print(Look_W, Look_SD, Look_ED)\n",
    "    waether_call=daily_url + 'station=' + Look_W + '&start='+ Look_SD + '&end=' + Look_ED +'&key=' + wkey\n",
    "    print(waether_call)\n",
    "    response = requests.get(waether_call).json()\n",
    "    #print(response)\n",
    "    WJSON_LIST.append(response)\n",
    "PW_DF['P_WEATHER'] = WJSON_LIST\n",
    "\n",
    "PW_DF.to_csv('TON_OF_DATA.csv')\n"
   ]
  },
  {
   "cell_type": "markdown",
   "metadata": {},
   "source": [
    "### Convert Raw Data to DataFrame\n",
    "* Export the city data into a .csv.\n",
    "* Display the DataFrame"
   ]
  },
  {
   "cell_type": "code",
   "execution_count": 59,
   "metadata": {},
   "outputs": [],
   "source": [
    "weather_dict = {\n",
    "    'Citi': name,\n",
    "    'Country' : country,\n",
    "    'Latitude': lat,\n",
    "    'Longitude' : lon,\n",
    "    'Date' : date,\n",
    "    'Maximum_Temp' : max_temp,\n",
    "    'Current_Temp' : temp,\n",
    "    'Humidity' : hum,\n",
    "    'Wind_Speed' : ws,\n",
    "    \"Clouds\" : clouds,  \n",
    "}"
   ]
  },
  {
   "cell_type": "code",
   "execution_count": 70,
   "metadata": {},
   "outputs": [],
   "source": [
    "weather_data = pd.DataFrame(weather_dict)\n",
    "weather_data.head()\n",
    "weather_data.to_csv('World_cities_weather_data.csv', encoding ='utf-8', index=False)"
   ]
  },
  {
   "cell_type": "code",
   "execution_count": 65,
   "metadata": {},
   "outputs": [
    {
     "data": {
      "image/png": "[encoded data removed]",
      "text/plain": [
       "<Figure size 432x288 with 1 Axes>"
      ]
     },
     "metadata": {
      "needs_background": "light"
     },
     "output_type": "display_data"
    }
   ],
   "source": [
    "plt.scatter(weather_data['Latitude'],weather_data['Current_Temp'], marker=\"o\")\n",
    "plt.title('Temperature in World Cities')\n",
    "plt.ylabel('Temperature (C)')\n",
    "plt.xlabel('Latitude')\n",
    "plt.grid(True)\n",
    "plt.savefig(\"Temperature_World_Cities.png\")\n",
    "plt.show()"
   ]
  },
  {
   "cell_type": "code",
   "execution_count": 66,
   "metadata": {},
   "outputs": [
    {
     "data": {
      "image/png": "[encoded data removed]",
      "text/plain": [
       "<Figure size 432x288 with 1 Axes>"
      ]
     },
     "metadata": {
      "needs_background": "light"
     },
     "output_type": "display_data"
    }
   ],
   "source": [
    "plt.scatter(weather_data['Latitude'],weather_data['Humidity'], marker=\"o\")\n",
    "plt.title('Humiditi in World Cities')\n",
    "plt.ylabel('Humidity (%)')\n",
    "plt.xlabel('Latitude')\n",
    "plt.grid(True)\n",
    "plt.savefig(\"Humidity_World_Cities.png\")\n",
    "plt.show()"
   ]
  },
  {
   "cell_type": "code",
   "execution_count": 67,
   "metadata": {},
   "outputs": [
    {
     "data": {
      "image/png": "[encoded data removed]",
      "text/plain": [
       "<Figure size 432x288 with 1 Axes>"
      ]
     },
     "metadata": {
      "needs_background": "light"
     },
     "output_type": "display_data"
    }
   ],
   "source": [
    "plt.scatter(weather_data['Latitude'],weather_data['Clouds'], marker=\"o\")\n",
    "plt.title('Cloudiness in World Cities')\n",
    "plt.ylabel('Cloudiness (%)')\n",
    "plt.xlabel('Latitude')\n",
    "plt.grid(True)\n",
    "plt.savefig(\"Cloudiness_World_Cities.png\")\n",
    "plt.show()"
   ]
  },
  {
   "cell_type": "code",
   "execution_count": 68,
   "metadata": {},
   "outputs": [
    {
     "data": {
      "image/png": "[encoded data removed]",
      "text/plain": [
       "<Figure size 432x288 with 1 Axes>"
      ]
     },
     "metadata": {
      "needs_background": "light"
     },
     "output_type": "display_data"
    }
   ],
   "source": [
    "plt.scatter(weather_data['Latitude'],weather_data['Wind_Speed'], marker=\"o\")\n",
    "plt.title('Wind_Speed in World Cities')\n",
    "plt.ylabel('Wind Speed (kmh)')\n",
    "plt.xlabel('Latitude')\n",
    "plt.grid(True)\n",
    "plt.savefig(\"Wind_Speed_World_Cities.png\")\n",
    "plt.show()"
   ]
  },
  {
   "cell_type": "markdown",
   "metadata": {},
   "source": [
    "### Plotting the Data\n",
    "* Use proper labeling of the plots using plot titles (including date of analysis) and axes labels.\n",
    "* Save the plotted figures as .pngs."
   ]
  },
  {
   "cell_type": "markdown",
   "metadata": {},
   "source": [
    "#### Latitude vs. Temperature Plot"
   ]
  },
  {
   "cell_type": "markdown",
   "metadata": {},
   "source": [
    "#### Latitude vs. Humidity Plot"
   ]
  },
  {
   "cell_type": "markdown",
   "metadata": {},
   "source": [
    "#### Latitude vs. Cloudiness Plot"
   ]
  },
  {
   "cell_type": "markdown",
   "metadata": {},
   "source": [
    "#### Latitude vs. Wind Speed Plot"
   ]
  },
  {
   "cell_type": "code",
   "execution_count": null,
   "metadata": {},
   "outputs": [],
   "source": []
  }
 ],
 "metadata": {
  "anaconda-cloud": {},
  "kernel_info": {
   "name": "python3"
  },
  "kernelspec": {
   "display_name": "Python [conda env:PythonData] *",
   "language": "python",
   "name": "conda-env-PythonData-py"
  },
  "language_info": {
   "codemirror_mode": {
    "name": "ipython",
    "version": 3
   },
   "file_extension": ".py",
   "mimetype": "text/x-python",
   "name": "python",
   "nbconvert_exporter": "python",
   "pygments_lexer": "ipython3",
   "version": "3.6.9"
  },
  "nteract": {
   "version": "0.12.3"
  }
 },
 "nbformat": 4,
 "nbformat_minor": 2
}
