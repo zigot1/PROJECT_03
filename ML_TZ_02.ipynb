{
 "cells": [
  {
   "cell_type": "code",
   "execution_count": 1,
   "metadata": {},
   "outputs": [],
   "source": [
    "import pandas as pd\n",
    "import numpy as np"
   ]
  },
  {
   "cell_type": "markdown",
   "metadata": {},
   "source": [
    "# Import the data and assign description column to process"
   ]
  },
  {
   "cell_type": "code",
   "execution_count": 11,
   "metadata": {},
   "outputs": [],
   "source": [
    "csv = 'PI_NEWandOLD.csv'\n",
    "issues_df = pd.read_csv(csv, encoding='latin1',low_memory=False)"
   ]
  },
  {
   "cell_type": "code",
   "execution_count": 12,
   "metadata": {},
   "outputs": [
    {
     "data": {
      "text/html": [
       "<div>\n",
       "<style scoped>\n",
       "    .dataframe tbody tr th:only-of-type {\n",
       "        vertical-align: middle;\n",
       "    }\n",
       "\n",
       "    .dataframe tbody tr th {\n",
       "        vertical-align: top;\n",
       "    }\n",
       "\n",
       "    .dataframe thead th {\n",
       "        text-align: right;\n",
       "    }\n",
       "</style>\n",
       "<table border=\"1\" class=\"dataframe\">\n",
       "  <thead>\n",
       "    <tr style=\"text-align: right;\">\n",
       "      <th></th>\n",
       "      <th>Unnamed: 0</th>\n",
       "      <th>project_id</th>\n",
       "      <th>name</th>\n",
       "      <th>job_number</th>\n",
       "      <th>type</th>\n",
       "      <th>value</th>\n",
       "      <th>city</th>\n",
       "      <th>state_or_province</th>\n",
       "      <th>postal_code</th>\n",
       "      <th>issue_type</th>\n",
       "      <th>issue_subtype</th>\n",
       "      <th>title</th>\n",
       "      <th>description</th>\n",
       "    </tr>\n",
       "  </thead>\n",
       "  <tbody>\n",
       "    <tr>\n",
       "      <th>0</th>\n",
       "      <td>0</td>\n",
       "      <td>01fa4f3a-9969-4069-a5b3-72fb630a0143</td>\n",
       "      <td>Gestamp</td>\n",
       "      <td>102601</td>\n",
       "      <td>Manufacturing / Factory</td>\n",
       "      <td>20549347.0</td>\n",
       "      <td>McCalla</td>\n",
       "      <td>AL</td>\n",
       "      <td>35111</td>\n",
       "      <td>Punch List : Pre-Punch List</td>\n",
       "      <td>NaN</td>\n",
       "      <td>NaN</td>\n",
       "      <td>Remove nails around dock angles.</td>\n",
       "    </tr>\n",
       "    <tr>\n",
       "      <th>1</th>\n",
       "      <td>1</td>\n",
       "      <td>01fa4f3a-9969-4069-a5b3-72fb630a0143</td>\n",
       "      <td>Gestamp</td>\n",
       "      <td>102601</td>\n",
       "      <td>Manufacturing / Factory</td>\n",
       "      <td>20549347.0</td>\n",
       "      <td>McCalla</td>\n",
       "      <td>AL</td>\n",
       "      <td>35111</td>\n",
       "      <td>Punch List : Pre-Punch List</td>\n",
       "      <td>NaN</td>\n",
       "      <td>NaN</td>\n",
       "      <td>Grind in a 3/4\" chamfer at all exterior corner...</td>\n",
       "    </tr>\n",
       "    <tr>\n",
       "      <th>2</th>\n",
       "      <td>2</td>\n",
       "      <td>01fa4f3a-9969-4069-a5b3-72fb630a0143</td>\n",
       "      <td>Gestamp</td>\n",
       "      <td>102601</td>\n",
       "      <td>Manufacturing / Factory</td>\n",
       "      <td>20549347.0</td>\n",
       "      <td>McCalla</td>\n",
       "      <td>AL</td>\n",
       "      <td>35111</td>\n",
       "      <td>Punch List : Architect Punch List</td>\n",
       "      <td>NaN</td>\n",
       "      <td>NaN</td>\n",
       "      <td>Install missing switch and data outlets</td>\n",
       "    </tr>\n",
       "    <tr>\n",
       "      <th>3</th>\n",
       "      <td>3</td>\n",
       "      <td>01fa4f3a-9969-4069-a5b3-72fb630a0143</td>\n",
       "      <td>Gestamp</td>\n",
       "      <td>102601</td>\n",
       "      <td>Manufacturing / Factory</td>\n",
       "      <td>20549347.0</td>\n",
       "      <td>McCalla</td>\n",
       "      <td>AL</td>\n",
       "      <td>35111</td>\n",
       "      <td>Punch List : Architect Punch List</td>\n",
       "      <td>NaN</td>\n",
       "      <td>NaN</td>\n",
       "      <td>Install cover plate on light switch</td>\n",
       "    </tr>\n",
       "    <tr>\n",
       "      <th>4</th>\n",
       "      <td>4</td>\n",
       "      <td>01fa4f3a-9969-4069-a5b3-72fb630a0143</td>\n",
       "      <td>Gestamp</td>\n",
       "      <td>102601</td>\n",
       "      <td>Manufacturing / Factory</td>\n",
       "      <td>20549347.0</td>\n",
       "      <td>McCalla</td>\n",
       "      <td>AL</td>\n",
       "      <td>35111</td>\n",
       "      <td>Punch List : Architect Punch List</td>\n",
       "      <td>NaN</td>\n",
       "      <td>NaN</td>\n",
       "      <td>Install base</td>\n",
       "    </tr>\n",
       "  </tbody>\n",
       "</table>\n",
       "</div>"
      ],
      "text/plain": [
       "   Unnamed: 0                            project_id     name job_number  \\\n",
       "0           0  01fa4f3a-9969-4069-a5b3-72fb630a0143  Gestamp     102601   \n",
       "1           1  01fa4f3a-9969-4069-a5b3-72fb630a0143  Gestamp     102601   \n",
       "2           2  01fa4f3a-9969-4069-a5b3-72fb630a0143  Gestamp     102601   \n",
       "3           3  01fa4f3a-9969-4069-a5b3-72fb630a0143  Gestamp     102601   \n",
       "4           4  01fa4f3a-9969-4069-a5b3-72fb630a0143  Gestamp     102601   \n",
       "\n",
       "                      type       value     city state_or_province postal_code  \\\n",
       "0  Manufacturing / Factory  20549347.0  McCalla                AL       35111   \n",
       "1  Manufacturing / Factory  20549347.0  McCalla                AL       35111   \n",
       "2  Manufacturing / Factory  20549347.0  McCalla                AL       35111   \n",
       "3  Manufacturing / Factory  20549347.0  McCalla                AL       35111   \n",
       "4  Manufacturing / Factory  20549347.0  McCalla                AL       35111   \n",
       "\n",
       "                          issue_type issue_subtype title  \\\n",
       "0        Punch List : Pre-Punch List           NaN   NaN   \n",
       "1        Punch List : Pre-Punch List           NaN   NaN   \n",
       "2  Punch List : Architect Punch List           NaN   NaN   \n",
       "3  Punch List : Architect Punch List           NaN   NaN   \n",
       "4  Punch List : Architect Punch List           NaN   NaN   \n",
       "\n",
       "                                         description  \n",
       "0                  Remove nails around dock angles.   \n",
       "1  Grind in a 3/4\" chamfer at all exterior corner...  \n",
       "2            Install missing switch and data outlets  \n",
       "3                Install cover plate on light switch  \n",
       "4                                       Install base  "
      ]
     },
     "execution_count": 12,
     "metadata": {},
     "output_type": "execute_result"
    }
   ],
   "source": [
    "issues_df.head()"
   ]
  },
  {
   "cell_type": "code",
   "execution_count": 13,
   "metadata": {},
   "outputs": [
    {
     "name": "stderr",
     "output_type": "stream",
     "text": [
      "C:\\Users\\zigot\\AppData\\Local\\Continuum\\anaconda3\\envs\\PythonData\\lib\\site-packages\\ipykernel_launcher.py:2: SettingWithCopyWarning: \n",
      "A value is trying to be set on a copy of a slice from a DataFrame.\n",
      "Try using .loc[row_indexer,col_indexer] = value instead\n",
      "\n",
      "See the caveats in the documentation: http://pandas.pydata.org/pandas-docs/stable/user_guide/indexing.html#returning-a-view-versus-a-copy\n",
      "  \n"
     ]
    }
   ],
   "source": [
    "description_text = issues_df[[\"description\"]]\n",
    "description_text['index']=description_text.index\n",
    "documents = description_text"
   ]
  },
  {
   "cell_type": "code",
   "execution_count": 14,
   "metadata": {},
   "outputs": [
    {
     "name": "stdout",
     "output_type": "stream",
     "text": [
      "159285\n",
      "                                          description  index\n",
      "0                   Remove nails around dock angles.       0\n",
      "1   Grind in a 3/4\" chamfer at all exterior corner...      1\n",
      "2             Install missing switch and data outlets      2\n",
      "3                 Install cover plate on light switch      3\n",
      "4                                        Install base      4\n",
      "5                       Repaint north and south walls      5\n",
      "6               Complete striping and traffic signage      6\n",
      "7                                   Clean floor, typ.      7\n",
      "8          Touch up yellow paint at railing door x118      8\n",
      "9                   Fix weatherstripping at door x119      9\n",
      "10  Fill nail holes in all door windows, offices a...     10\n",
      "11                                    Paint east wall     11\n",
      "12                                   Paint above door     12\n",
      "13  Verify no base heater in women's\\n\\nClayco res...     13\n",
      "14  Patch top of SE drive in ramp so it is level a...     14\n",
      "15                         Clean haze from tile walls     15\n",
      "16  Remove stick pin insulation, fur out drywall t...     16\n",
      "17        Replace thermax in electrical room as shown     17\n",
      "18         Door sa2a  & sa2b add screws to door frame     18\n",
      "19                      Touch up paint around window      19\n",
      "20                       Touch up paint around window     20\n",
      "21       Caulk joint at employee entrance site paving     21\n",
      "22                                   <no description>     22\n",
      "23    Adjust dock shelters on north side of building      23\n",
      "24                 Touch up drywall for smooth finish     24\n",
      "25                                   <no description>     25\n",
      "26       Re-paint around installations in panels, typ     26\n",
      "27       Add diffusers and make sure both lights work     27\n",
      "28                                       Install base     28\n",
      "29  Check all lockers for missing screws, and conn...     29\n"
     ]
    }
   ],
   "source": [
    "print(len(documents))\n",
    "print(documents[:30])"
   ]
  },
  {
   "cell_type": "markdown",
   "metadata": {},
   "source": [
    "# Data Pre-processing which includes tokenization, removal of stop words and words with fewer than 3 words, lemmatization, stemming"
   ]
  },
  {
   "cell_type": "code",
   "execution_count": 15,
   "metadata": {},
   "outputs": [
    {
     "name": "stderr",
     "output_type": "stream",
     "text": [
      "[nltk_data] Downloading package wordnet to\n",
      "[nltk_data]     C:\\Users\\zigot\\AppData\\Roaming\\nltk_data...\n",
      "[nltk_data]   Package wordnet is already up-to-date!\n"
     ]
    },
    {
     "data": {
      "text/plain": [
       "True"
      ]
     },
     "execution_count": 15,
     "metadata": {},
     "output_type": "execute_result"
    }
   ],
   "source": [
    "import gensim\n",
    "from gensim.utils import simple_preprocess\n",
    "from gensim.parsing.preprocessing import STOPWORDS\n",
    "from nltk.stem import WordNetLemmatizer, SnowballStemmer\n",
    "from nltk.stem.porter import *\n",
    "np.random.seed(2018)\n",
    "import nltk\n",
    "nltk.download('wordnet')"
   ]
  },
  {
   "cell_type": "code",
   "execution_count": 16,
   "metadata": {},
   "outputs": [],
   "source": [
    "stemmer = PorterStemmer()"
   ]
  },
  {
   "cell_type": "code",
   "execution_count": 17,
   "metadata": {},
   "outputs": [],
   "source": [
    "#Write a function to perform lemmatize and stem preprocessing steps on the data set\n",
    "\n",
    "def lemmatize_stemming(text):\n",
    "    return stemmer.stem(WordNetLemmatizer().lemmatize(text, pos='v'))\n",
    "\n",
    "def preprocess(text):\n",
    "    result = []\n",
    "    for token in gensim.utils.simple_preprocess(text):\n",
    "        if token not in gensim.parsing.preprocessing.STOPWORDS and len(token) > 3:\n",
    "            result.append(lemmatize_stemming(token))\n",
    "    return result"
   ]
  },
  {
   "cell_type": "code",
   "execution_count": null,
   "metadata": {},
   "outputs": [],
   "source": []
  },
  {
   "cell_type": "code",
   "execution_count": 18,
   "metadata": {},
   "outputs": [
    {
     "name": "stdout",
     "output_type": "stream",
     "text": [
      "original document: \n",
      "['Remove', 'paint', 'from', 'rubber', 'base', 'left', 'of', 'room', '606']\n",
      "\n",
      "\n",
      " tokenized and lemmatized document: \n",
      "['remov', 'paint', 'rubber', 'base', 'leav', 'room']\n"
     ]
    }
   ],
   "source": [
    "#Select a document to preview after preprocessing\n",
    "\n",
    "doc_sample = documents[documents['index'] == 4310].values[0][0]\n",
    "print('original document: ')\n",
    "words = []\n",
    "for word in doc_sample.split(' '):\n",
    "    words.append(word)\n",
    "print(words)\n",
    "print('\\n\\n tokenized and lemmatized document: ')\n",
    "print(preprocess(doc_sample))"
   ]
  },
  {
   "cell_type": "code",
   "execution_count": 24,
   "metadata": {},
   "outputs": [
    {
     "data": {
      "text/plain": [
       "0                             [remov, nail, dock, angl]\n",
       "1     [grind, chamfer, exterior, corner, tilt, panel...\n",
       "2                  [instal, miss, switch, data, outlet]\n",
       "3                 [instal, cover, plate, light, switch]\n",
       "4                                        [instal, base]\n",
       "5                         [repaint, north, south, wall]\n",
       "6                     [complet, strip, traffic, signag]\n",
       "7                                        [clean, floor]\n",
       "8                    [touch, yellow, paint, rail, door]\n",
       "9                                                [door]\n",
       "10              [nail, hole, door, window, offic, mezz]\n",
       "11                                  [paint, east, wall]\n",
       "12                                        [paint, door]\n",
       "13    [verifi, base, heater, women, clayco, respons,...\n",
       "14    [patch, drive, ramp, level, length, chamfer, c...\n",
       "15                            [clean, haze, tile, wall]\n",
       "16     [remov, stick, insul, drywal, deck, draw, paint]\n",
       "17                [replac, thermax, electr, room, show]\n",
       "18                           [door, screw, door, frame]\n",
       "19                               [touch, paint, window]\n",
       "20                               [touch, paint, window]\n",
       "21         [caulk, joint, employe, entranc, site, pave]\n",
       "22                                           [descript]\n",
       "23                [adjust, dock, shelter, north, build]\n",
       "24                      [touch, drywal, smooth, finish]\n",
       "25                                           [descript]\n",
       "26                               [paint, instal, panel]\n",
       "27                          [diffus, sure, light, work]\n",
       "28                                       [instal, base]\n",
       "29    [check, locker, miss, screw, connect, locker, ...\n",
       "Name: description, dtype: object"
      ]
     },
     "execution_count": 24,
     "metadata": {},
     "output_type": "execute_result"
    }
   ],
   "source": [
    "# Pre-process all of the description cells\n",
    "\n",
    "processed_docs = documents['description'].fillna('').astype(str).map(preprocess)\n",
    "processed_docs[:30]"
   ]
  },
  {
   "cell_type": "markdown",
   "metadata": {},
   "source": [
    "# Bag of Words on the Data Set"
   ]
  },
  {
   "cell_type": "code",
   "execution_count": 25,
   "metadata": {},
   "outputs": [],
   "source": [
    "dictionary = gensim.corpora.Dictionary(processed_docs)\n"
   ]
  },
  {
   "cell_type": "code",
   "execution_count": 27,
   "metadata": {},
   "outputs": [
    {
     "name": "stdout",
     "output_type": "stream",
     "text": [
      "0 angl\n",
      "1 dock\n",
      "2 nail\n",
      "3 remov\n",
      "4 chamfer\n",
      "5 corner\n",
      "6 exterior\n",
      "7 grind\n",
      "8 insid\n",
      "9 loung\n",
      "10 panel\n",
      "11 parapet\n",
      "12 tilt\n",
      "13 trucker\n",
      "14 upper\n",
      "15 data\n",
      "16 instal\n",
      "17 miss\n",
      "18 outlet\n",
      "19 switch\n",
      "20 cover\n",
      "21 light\n",
      "22 plate\n",
      "23 base\n",
      "24 north\n",
      "25 repaint\n",
      "26 south\n",
      "27 wall\n",
      "28 complet\n",
      "29 signag\n",
      "30 strip\n"
     ]
    }
   ],
   "source": [
    "count = 0\n",
    "for k, v in dictionary.iteritems():\n",
    "    print(k, v)\n",
    "    count += 1\n",
    "    if count > 30:\n",
    "        break"
   ]
  },
  {
   "cell_type": "code",
   "execution_count": 28,
   "metadata": {},
   "outputs": [],
   "source": [
    "# filter out tokens that appear in less than 15 documents, more than .5 documents and the most 100000 most frequent tokens\n",
    "dictionary.filter_extremes(no_below=15, no_above=0.5, keep_n=10000)"
   ]
  },
  {
   "cell_type": "code",
   "execution_count": 29,
   "metadata": {},
   "outputs": [
    {
     "name": "stdout",
     "output_type": "stream",
     "text": [
      "0 angl\n",
      "1 dock\n",
      "2 nail\n",
      "3 remov\n",
      "4 chamfer\n",
      "5 corner\n",
      "6 exterior\n",
      "7 grind\n",
      "8 insid\n",
      "9 loung\n",
      "10 panel\n",
      "11 parapet\n",
      "12 tilt\n",
      "13 trucker\n",
      "14 upper\n",
      "15 data\n",
      "16 instal\n",
      "17 miss\n",
      "18 outlet\n",
      "19 switch\n",
      "20 cover\n",
      "21 light\n",
      "22 plate\n",
      "23 base\n",
      "24 north\n",
      "25 repaint\n",
      "26 south\n",
      "27 wall\n",
      "28 complet\n",
      "29 signag\n",
      "30 strip\n"
     ]
    }
   ],
   "source": [
    "count = 0\n",
    "for k, v in dictionary.iteritems():\n",
    "    print(k, v)\n",
    "    count += 1\n",
    "    if count > 30:\n",
    "        break"
   ]
  },
  {
   "cell_type": "code",
   "execution_count": 30,
   "metadata": {},
   "outputs": [
    {
     "data": {
      "text/plain": [
       "[(3, 1), (23, 1), (35, 1), (63, 1), (155, 1), (384, 1)]"
      ]
     },
     "execution_count": 30,
     "metadata": {},
     "output_type": "execute_result"
    }
   ],
   "source": [
    "#For each cell, we create a dictionary reporting how many words and how many times those words appear\n",
    "bow_corpus = [dictionary.doc2bow(doc) for doc in processed_docs]\n",
    "bow_corpus[4310]"
   ]
  },
  {
   "cell_type": "code",
   "execution_count": 31,
   "metadata": {},
   "outputs": [
    {
     "name": "stdout",
     "output_type": "stream",
     "text": [
      "Word 3 (\"remov\") appears 1 time.\n",
      "Word 23 (\"base\") appears 1 time.\n",
      "Word 35 (\"paint\") appears 1 time.\n",
      "Word 63 (\"room\") appears 1 time.\n",
      "Word 155 (\"leav\") appears 1 time.\n",
      "Word 384 (\"rubber\") appears 1 time.\n"
     ]
    }
   ],
   "source": [
    "bow_doc_4310 = bow_corpus[4310]\n",
    "for i in range(len(bow_doc_4310)):\n",
    "    print(\"Word {} (\\\"{}\\\") appears {} time.\".format(bow_doc_4310[i][0], \n",
    "                                               dictionary[bow_doc_4310[i][0]], \n",
    "bow_doc_4310[i][1]))"
   ]
  },
  {
   "cell_type": "code",
   "execution_count": 32,
   "metadata": {},
   "outputs": [
    {
     "name": "stdout",
     "output_type": "stream",
     "text": [
      "[(0, 0.575943665995411),\n",
      " (1, 0.5680507148758992),\n",
      " (2, 0.5122679097636066),\n",
      " (3, 0.28842480398740267)]\n"
     ]
    }
   ],
   "source": [
    "# TF-IDF\n",
    "\n",
    "from gensim import corpora, models\n",
    "tfidf = models.TfidfModel(bow_corpus)\n",
    "corpus_tfidf = tfidf[bow_corpus]\n",
    "from pprint import pprint\n",
    "for doc in corpus_tfidf:\n",
    "    pprint(doc)\n",
    "    break"
   ]
  },
  {
   "cell_type": "markdown",
   "metadata": {},
   "source": [
    "# Run LDA using Bag of Words"
   ]
  },
  {
   "cell_type": "code",
   "execution_count": 34,
   "metadata": {},
   "outputs": [],
   "source": [
    "lda_model = gensim.models.LdaMulticore(bow_corpus, num_topics=30, id2word=dictionary, passes=4, workers=2)"
   ]
  },
  {
   "cell_type": "code",
   "execution_count": 35,
   "metadata": {},
   "outputs": [
    {
     "name": "stdout",
     "output_type": "stream",
     "text": [
      "Topic: 0 \n",
      "Words: 0.166*\"open\" + 0.077*\"instal\" + 0.061*\"secur\" + 0.055*\"power\" + 0.053*\"toilet\" + 0.051*\"wire\" + 0.050*\"scratch\" + 0.048*\"thermostat\" + 0.047*\"receptacl\" + 0.031*\"box\"\n",
      "Topic: 1 \n",
      "Words: 0.350*\"floor\" + 0.112*\"concret\" + 0.073*\"sink\" + 0.051*\"hardwar\" + 0.048*\"instal\" + 0.046*\"handl\" + 0.037*\"core\" + 0.027*\"stick\" + 0.022*\"need\" + 0.020*\"faucet\"\n",
      "Topic: 2 \n",
      "Words: 0.242*\"remov\" + 0.189*\"patch\" + 0.119*\"hole\" + 0.036*\"need\" + 0.027*\"screw\" + 0.023*\"nail\" + 0.022*\"mark\" + 0.022*\"column\" + 0.019*\"wear\" + 0.017*\"sand\"\n",
      "Topic: 3 \n",
      "Words: 0.336*\"clean\" + 0.108*\"unit\" + 0.047*\"test\" + 0.044*\"final\" + 0.039*\"counter\" + 0.035*\"debri\" + 0.029*\"temp\" + 0.027*\"turn\" + 0.025*\"suppli\" + 0.023*\"sensor\"\n",
      "Topic: 4 \n",
      "Words: 0.198*\"caulk\" + 0.107*\"joint\" + 0.091*\"edg\" + 0.074*\"sealant\" + 0.061*\"elev\" + 0.047*\"gener\" + 0.037*\"view\" + 0.034*\"loos\" + 0.032*\"need\" + 0.027*\"barricad\"\n",
      "Topic: 5 \n",
      "Words: 0.131*\"door\" + 0.111*\"adjust\" + 0.082*\"close\" + 0.071*\"instal\" + 0.062*\"stop\" + 0.041*\"properli\" + 0.036*\"gasket\" + 0.032*\"smoke\" + 0.030*\"need\" + 0.027*\"detector\"\n",
      "Topic: 6 \n",
      "Words: 0.056*\"flush\" + 0.044*\"face\" + 0.041*\"meet\" + 0.030*\"gap\" + 0.030*\"beam\" + 0.030*\"larg\" + 0.030*\"chip\" + 0.029*\"sleev\" + 0.027*\"angl\" + 0.026*\"vertic\"\n",
      "Topic: 7 \n",
      "Words: 0.192*\"light\" + 0.151*\"work\" + 0.089*\"fixtur\" + 0.057*\"switch\" + 0.054*\"instal\" + 0.034*\"shade\" + 0.030*\"safeti\" + 0.026*\"oper\" + 0.026*\"type\" + 0.023*\"time\"\n",
      "Topic: 8 \n",
      "Words: 0.097*\"outlet\" + 0.091*\"electr\" + 0.072*\"rail\" + 0.064*\"instal\" + 0.058*\"break\" + 0.044*\"room\" + 0.043*\"data\" + 0.037*\"cord\" + 0.035*\"equip\" + 0.032*\"pictur\"\n",
      "Topic: 9 \n",
      "Words: 0.096*\"requir\" + 0.065*\"direct\" + 0.058*\"open\" + 0.044*\"cut\" + 0.036*\"draw\" + 0.030*\"long\" + 0.029*\"project\" + 0.028*\"short\" + 0.024*\"show\" + 0.020*\"confirm\"\n",
      "Topic: 10 \n",
      "Words: 0.347*\"miss\" + 0.130*\"corner\" + 0.063*\"bathroom\" + 0.043*\"align\" + 0.034*\"latch\" + 0.032*\"guard\" + 0.026*\"housekeep\" + 0.025*\"restroom\" + 0.021*\"casework\" + 0.020*\"stall\"\n",
      "Topic: 11 \n",
      "Words: 0.511*\"door\" + 0.217*\"frame\" + 0.037*\"insid\" + 0.031*\"need\" + 0.018*\"dent\" + 0.017*\"hing\" + 0.014*\"scratch\" + 0.013*\"strike\" + 0.011*\"loss\" + 0.008*\"yellow\"\n",
      "Topic: 12 \n",
      "Words: 0.284*\"ceil\" + 0.172*\"tile\" + 0.154*\"replac\" + 0.125*\"damag\" + 0.041*\"grout\" + 0.039*\"grid\" + 0.021*\"wrong\" + 0.018*\"bend\" + 0.016*\"dirti\" + 0.012*\"mark\"\n",
      "Topic: 13 \n",
      "Words: 0.279*\"repair\" + 0.190*\"drywal\" + 0.145*\"tape\" + 0.072*\"note\" + 0.067*\"indic\" + 0.055*\"paint\" + 0.049*\"patch\" + 0.034*\"carpet\" + 0.031*\"blue\" + 0.015*\"touchup\"\n",
      "Topic: 14 \n",
      "Words: 0.454*\"paint\" + 0.221*\"touch\" + 0.098*\"wall\" + 0.028*\"need\" + 0.024*\"mark\" + 0.022*\"color\" + 0.018*\"soffit\" + 0.015*\"scuff\" + 0.013*\"spot\" + 0.010*\"kick\"\n",
      "Topic: 15 \n",
      "Words: 0.223*\"locat\" + 0.094*\"access\" + 0.051*\"control\" + 0.040*\"exist\" + 0.036*\"multipl\" + 0.033*\"block\" + 0.032*\"verifi\" + 0.031*\"panel\" + 0.030*\"need\" + 0.029*\"dock\"\n",
      "Topic: 16 \n",
      "Words: 0.216*\"base\" + 0.156*\"finish\" + 0.122*\"instal\" + 0.073*\"cabinet\" + 0.051*\"sign\" + 0.037*\"grill\" + 0.032*\"return\" + 0.024*\"kitchen\" + 0.023*\"exhaust\" + 0.023*\"exit\"\n",
      "Topic: 17 \n",
      "Words: 0.350*\"rebar\" + 0.085*\"sticker\" + 0.071*\"wood\" + 0.062*\"leav\" + 0.058*\"right\" + 0.034*\"main\" + 0.033*\"form\" + 0.022*\"hallway\" + 0.019*\"extra\" + 0.018*\"path\"\n",
      "Topic: 18 \n",
      "Words: 0.118*\"roof\" + 0.065*\"metal\" + 0.060*\"instal\" + 0.050*\"sheet\" + 0.042*\"offic\" + 0.033*\"entir\" + 0.030*\"flash\" + 0.027*\"membran\" + 0.025*\"height\" + 0.024*\"recommend\"\n",
      "Topic: 19 \n",
      "Words: 0.052*\"need\" + 0.044*\"issu\" + 0.033*\"look\" + 0.031*\"site\" + 0.028*\"steel\" + 0.027*\"worker\" + 0.024*\"correct\" + 0.022*\"hazard\" + 0.020*\"go\" + 0.019*\"walk\"\n",
      "Topic: 20 \n",
      "Words: 0.115*\"ladder\" + 0.102*\"exterior\" + 0.073*\"bedroom\" + 0.050*\"store\" + 0.046*\"cap\" + 0.046*\"interior\" + 0.034*\"crew\" + 0.031*\"ptsa\" + 0.031*\"activ\" + 0.030*\"need\"\n",
      "Topic: 21 \n",
      "Words: 0.056*\"attach\" + 0.055*\"area\" + 0.050*\"photo\" + 0.045*\"materi\" + 0.041*\"crack\" + 0.041*\"spall\" + 0.040*\"slab\" + 0.026*\"pour\" + 0.024*\"concret\" + 0.023*\"list\"\n",
      "Topic: 22 \n",
      "Words: 0.140*\"level\" + 0.085*\"stair\" + 0.072*\"shower\" + 0.061*\"report\" + 0.057*\"inspect\" + 0.044*\"check\" + 0.044*\"lift\" + 0.034*\"item\" + 0.030*\"need\" + 0.027*\"date\"\n",
      "Topic: 23 \n",
      "Words: 0.145*\"seal\" + 0.105*\"penetr\" + 0.104*\"room\" + 0.079*\"trim\" + 0.070*\"conduit\" + 0.062*\"wall\" + 0.042*\"need\" + 0.035*\"cabl\" + 0.031*\"piec\" + 0.024*\"perimet\"\n",
      "Topic: 24 \n",
      "Words: 0.297*\"instal\" + 0.144*\"complet\" + 0.117*\"panel\" + 0.072*\"glass\" + 0.065*\"sprinkler\" + 0.058*\"window\" + 0.054*\"head\" + 0.028*\"devic\" + 0.025*\"screen\" + 0.022*\"escutcheon\"\n",
      "Topic: 25 \n",
      "Words: 0.299*\"wall\" + 0.116*\"window\" + 0.090*\"column\" + 0.065*\"south\" + 0.058*\"north\" + 0.054*\"east\" + 0.048*\"west\" + 0.043*\"sill\" + 0.033*\"near\" + 0.024*\"surfac\"\n",
      "Topic: 26 \n",
      "Words: 0.105*\"need\" + 0.057*\"expos\" + 0.035*\"sure\" + 0.031*\"move\" + 0.028*\"coat\" + 0.027*\"strip\" + 0.025*\"fulli\" + 0.025*\"scaffold\" + 0.024*\"transit\" + 0.024*\"condit\"\n",
      "Topic: 27 \n",
      "Words: 0.115*\"water\" + 0.059*\"insul\" + 0.057*\"pip\" + 0.056*\"pipe\" + 0.052*\"drain\" + 0.049*\"line\" + 0.038*\"connect\" + 0.037*\"valv\" + 0.028*\"duct\" + 0.021*\"need\"\n",
      "Topic: 28 \n",
      "Words: 0.164*\"cover\" + 0.112*\"protect\" + 0.076*\"instal\" + 0.055*\"plate\" + 0.043*\"incomplet\" + 0.040*\"extinguish\" + 0.034*\"fall\" + 0.033*\"need\" + 0.030*\"place\" + 0.024*\"storag\"\n",
      "Topic: 29 \n",
      "Words: 0.108*\"provid\" + 0.078*\"label\" + 0.053*\"support\" + 0.047*\"closet\" + 0.040*\"section\" + 0.036*\"entri\" + 0.031*\"space\" + 0.025*\"owner\" + 0.022*\"maintain\" + 0.021*\"dust\"\n"
     ]
    }
   ],
   "source": [
    "for idx, topic in lda_model.print_topics(-1):\n",
    "    print('Topic: {} \\nWords: {}'.format(idx, topic))"
   ]
  },
  {
   "cell_type": "markdown",
   "metadata": {},
   "source": [
    "# Run LDA using TF-IDF"
   ]
  },
  {
   "cell_type": "code",
   "execution_count": 37,
   "metadata": {},
   "outputs": [
    {
     "name": "stdout",
     "output_type": "stream",
     "text": [
      "Topic: 0 Word: 0.075*\"sprinkler\" + 0.059*\"head\" + 0.043*\"escutcheon\" + 0.026*\"instal\" + 0.020*\"threshold\" + 0.019*\"lift\" + 0.017*\"attach\" + 0.016*\"photo\" + 0.015*\"draw\" + 0.014*\"report\"\n",
      "Topic: 1 Word: 0.188*\"door\" + 0.117*\"stop\" + 0.086*\"gasket\" + 0.077*\"hardwar\" + 0.064*\"miss\" + 0.063*\"instal\" + 0.046*\"handl\" + 0.037*\"break\" + 0.036*\"loos\" + 0.035*\"lock\"\n",
      "Topic: 2 Word: 0.076*\"smoke\" + 0.074*\"detector\" + 0.048*\"clean\" + 0.040*\"room\" + 0.038*\"cap\" + 0.033*\"instal\" + 0.032*\"exist\" + 0.032*\"cabl\" + 0.031*\"pictur\" + 0.031*\"sensor\"\n",
      "Topic: 3 Word: 0.071*\"rail\" + 0.033*\"stair\" + 0.028*\"instal\" + 0.022*\"trash\" + 0.021*\"materi\" + 0.017*\"need\" + 0.016*\"hang\" + 0.014*\"secur\" + 0.013*\"land\" + 0.013*\"temp\"\n",
      "Topic: 4 Word: 0.061*\"water\" + 0.058*\"crack\" + 0.031*\"support\" + 0.029*\"pip\" + 0.028*\"pipe\" + 0.023*\"vent\" + 0.021*\"connect\" + 0.020*\"scuff\" + 0.019*\"valv\" + 0.018*\"addit\"\n",
      "Topic: 5 Word: 0.170*\"drywal\" + 0.095*\"cabinet\" + 0.050*\"screw\" + 0.038*\"offic\" + 0.037*\"mark\" + 0.029*\"touchup\" + 0.026*\"paint\" + 0.025*\"locker\" + 0.022*\"pencil\" + 0.019*\"patch\"\n",
      "Topic: 6 Word: 0.137*\"rebar\" + 0.082*\"thermostat\" + 0.066*\"open\" + 0.046*\"look\" + 0.036*\"instal\" + 0.031*\"core\" + 0.028*\"cut\" + 0.022*\"requir\" + 0.017*\"alarm\" + 0.015*\"stall\"\n",
      "Topic: 7 Word: 0.142*\"caulk\" + 0.078*\"seal\" + 0.075*\"penetr\" + 0.042*\"wall\" + 0.042*\"conduit\" + 0.039*\"carpet\" + 0.038*\"joint\" + 0.034*\"closet\" + 0.028*\"entri\" + 0.028*\"shower\"\n",
      "Topic: 8 Word: 0.070*\"dent\" + 0.068*\"seat\" + 0.042*\"entir\" + 0.037*\"cleanup\" + 0.030*\"faucet\" + 0.028*\"bulkhead\" + 0.027*\"white\" + 0.027*\"insid\" + 0.024*\"grade\" + 0.023*\"view\"\n",
      "Topic: 9 Word: 0.041*\"direct\" + 0.030*\"requir\" + 0.022*\"long\" + 0.021*\"short\" + 0.021*\"cut\" + 0.021*\"open\" + 0.020*\"issu\" + 0.012*\"safeti\" + 0.011*\"grind\" + 0.010*\"plumb\"\n",
      "Topic: 10 Word: 0.102*\"sill\" + 0.057*\"receptacl\" + 0.053*\"window\" + 0.044*\"exterior\" + 0.040*\"label\" + 0.036*\"jamb\" + 0.035*\"mullion\" + 0.033*\"test\" + 0.031*\"excess\" + 0.022*\"seal\"\n",
      "Topic: 11 Word: 0.054*\"bedroom\" + 0.053*\"nail\" + 0.037*\"sleev\" + 0.031*\"live\" + 0.025*\"precast\" + 0.023*\"stone\" + 0.023*\"ceil\" + 0.020*\"remov\" + 0.020*\"emb\" + 0.019*\"tilt\"\n",
      "Topic: 12 Word: 0.263*\"touch\" + 0.235*\"paint\" + 0.116*\"frame\" + 0.081*\"door\" + 0.063*\"wall\" + 0.023*\"mark\" + 0.022*\"clean\" + 0.017*\"need\" + 0.015*\"repair\" + 0.012*\"patch\"\n",
      "Topic: 13 Word: 0.038*\"plat\" + 0.036*\"electr\" + 0.029*\"board\" + 0.026*\"debri\" + 0.023*\"owner\" + 0.023*\"cover\" + 0.021*\"beam\" + 0.021*\"hazard\" + 0.021*\"list\" + 0.019*\"trip\"\n",
      "Topic: 14 Word: 0.087*\"plate\" + 0.063*\"cover\" + 0.059*\"bathroom\" + 0.040*\"unit\" + 0.034*\"ladder\" + 0.033*\"backsplash\" + 0.033*\"instal\" + 0.030*\"mirror\" + 0.027*\"kitchen\" + 0.027*\"vaniti\"\n",
      "Topic: 15 Word: 0.140*\"outlet\" + 0.128*\"corner\" + 0.049*\"guard\" + 0.032*\"unfinish\" + 0.027*\"adhes\" + 0.025*\"wall\" + 0.023*\"cover\" + 0.018*\"header\" + 0.018*\"lower\" + 0.017*\"instal\"\n",
      "Topic: 16 Word: 0.088*\"column\" + 0.046*\"sink\" + 0.040*\"counter\" + 0.034*\"soffit\" + 0.030*\"grill\" + 0.028*\"chip\" + 0.027*\"dock\" + 0.026*\"scan\" + 0.023*\"side\" + 0.022*\"return\"\n",
      "Topic: 17 Word: 0.119*\"protect\" + 0.086*\"remov\" + 0.050*\"window\" + 0.046*\"diffus\" + 0.041*\"countertop\" + 0.032*\"sticker\" + 0.028*\"plastic\" + 0.027*\"storag\" + 0.023*\"black\" + 0.020*\"flash\"\n",
      "Topic: 18 Word: 0.137*\"spall\" + 0.094*\"scratch\" + 0.061*\"drain\" + 0.041*\"junction\" + 0.031*\"box\" + 0.029*\"curtain\" + 0.027*\"wood\" + 0.018*\"desk\" + 0.017*\"cover\" + 0.016*\"condens\"\n",
      "Topic: 19 Word: 0.188*\"light\" + 0.130*\"fixtur\" + 0.124*\"finish\" + 0.063*\"switch\" + 0.027*\"instal\" + 0.022*\"paint\" + 0.020*\"work\" + 0.020*\"concret\" + 0.018*\"oper\" + 0.017*\"equip\"\n",
      "Topic: 20 Word: 0.074*\"adjust\" + 0.054*\"door\" + 0.051*\"close\" + 0.049*\"latch\" + 0.043*\"facepl\" + 0.042*\"access\" + 0.038*\"panel\" + 0.034*\"flush\" + 0.028*\"instal\" + 0.028*\"protect\"\n",
      "Topic: 21 Word: 0.073*\"toilet\" + 0.067*\"grout\" + 0.063*\"surfac\" + 0.042*\"solid\" + 0.036*\"elev\" + 0.030*\"lobbi\" + 0.027*\"remov\" + 0.024*\"hanger\" + 0.021*\"fill\" + 0.018*\"tile\"\n",
      "Topic: 22 Word: 0.054*\"insul\" + 0.052*\"trim\" + 0.050*\"duct\" + 0.032*\"sign\" + 0.027*\"tap\" + 0.024*\"piec\" + 0.021*\"exit\" + 0.021*\"bolt\" + 0.021*\"strip\" + 0.018*\"unistrut\"\n",
      "Topic: 23 Word: 0.049*\"devic\" + 0.045*\"power\" + 0.040*\"extinguish\" + 0.035*\"wire\" + 0.031*\"descript\" + 0.027*\"transit\" + 0.026*\"rough\" + 0.024*\"smooth\" + 0.024*\"data\" + 0.022*\"cord\"\n",
      "Topic: 24 Word: 0.019*\"show\" + 0.016*\"inspect\" + 0.016*\"intersect\" + 0.015*\"barricad\" + 0.014*\"time\" + 0.014*\"plan\" + 0.014*\"stub\" + 0.012*\"need\" + 0.012*\"roof\" + 0.011*\"draw\"\n",
      "Topic: 25 Word: 0.213*\"window\" + 0.141*\"damag\" + 0.112*\"glass\" + 0.111*\"shade\" + 0.091*\"screen\" + 0.076*\"instal\" + 0.044*\"dirti\" + 0.019*\"clean\" + 0.014*\"replac\" + 0.013*\"repair\"\n",
      "Topic: 26 Word: 0.141*\"repair\" + 0.131*\"tape\" + 0.099*\"indic\" + 0.089*\"sticker\" + 0.065*\"paint\" + 0.064*\"locat\" + 0.059*\"note\" + 0.047*\"patch\" + 0.040*\"blue\" + 0.022*\"drywal\"\n",
      "Topic: 27 Word: 0.155*\"patch\" + 0.095*\"hole\" + 0.043*\"paint\" + 0.042*\"sealant\" + 0.041*\"wall\" + 0.032*\"repaint\" + 0.027*\"need\" + 0.022*\"gap\" + 0.019*\"door\" + 0.019*\"match\"\n",
      "Topic: 28 Word: 0.212*\"base\" + 0.103*\"instal\" + 0.071*\"floor\" + 0.070*\"complet\" + 0.055*\"final\" + 0.047*\"incomplet\" + 0.041*\"clean\" + 0.027*\"casework\" + 0.025*\"wall\" + 0.024*\"coat\"\n",
      "Topic: 29 Word: 0.249*\"ceil\" + 0.206*\"tile\" + 0.122*\"replac\" + 0.072*\"grid\" + 0.048*\"acoust\" + 0.042*\"repair\" + 0.028*\"mark\" + 0.018*\"angl\" + 0.016*\"damag\" + 0.014*\"bend\"\n"
     ]
    }
   ],
   "source": [
    "lda_model_tfidf = gensim.models.LdaMulticore(corpus_tfidf, num_topics=30, id2word=dictionary, passes=4, workers=4)\n",
    "for idx, topic in lda_model_tfidf.print_topics(-1):\n",
    "    print('Topic: {} Word: {}'.format(idx, topic))"
   ]
  },
  {
   "cell_type": "code",
   "execution_count": 38,
   "metadata": {},
   "outputs": [
    {
     "name": "stdout",
     "output_type": "stream",
     "text": [
      "\n",
      "Score: 0.43638038635253906\t \n",
      "Topic: 0.263*\"touch\" + 0.235*\"paint\" + 0.116*\"frame\" + 0.081*\"door\" + 0.063*\"wall\"\n",
      "\n",
      "Score: 0.4302833378314972\t \n",
      "Topic: 0.212*\"base\" + 0.103*\"instal\" + 0.071*\"floor\" + 0.070*\"complet\" + 0.055*\"final\"\n"
     ]
    }
   ],
   "source": [
    "#Performance evaluation \n",
    "for index, score in sorted(lda_model_tfidf[bow_corpus[4310]], key=lambda tup: -1*tup[1]):\n",
    "    print(\"\\nScore: {}\\t \\nTopic: {}\".format(score, lda_model_tfidf.print_topic(index, 5)))"
   ]
  },
  {
   "cell_type": "code",
   "execution_count": null,
   "metadata": {},
   "outputs": [],
   "source": []
  }
 ],
 "metadata": {
  "kernelspec": {
   "display_name": "Python 3",
   "language": "python",
   "name": "python3"
  },
  "language_info": {
   "codemirror_mode": {
    "name": "ipython",
    "version": 3
   },
   "file_extension": ".py",
   "mimetype": "text/x-python",
   "name": "python",
   "nbconvert_exporter": "python",
   "pygments_lexer": "ipython3",
   "version": "3.6.9"
  }
 },
 "nbformat": 4,
 "nbformat_minor": 2
}
